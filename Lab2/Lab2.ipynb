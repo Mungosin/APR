{
 "cells": [
  {
   "cell_type": "code",
   "execution_count": 2,
   "metadata": {
    "collapsed": false
   },
   "outputs": [],
   "source": [
    "import math\n",
    "from copy import deepcopy\n",
    "import types"
   ]
  },
  {
   "cell_type": "markdown",
   "metadata": {},
   "source": [
    "## Helper functions"
   ]
  },
  {
   "cell_type": "code",
   "execution_count": 3,
   "metadata": {
    "collapsed": false
   },
   "outputs": [],
   "source": [
    "def is_numeric(x):\n",
    "    NumberTypes = (types.IntType, types.LongType, types.FloatType)\n",
    "    return isinstance(x, NumberTypes)\n",
    "\n",
    "class StrategyExample:\n",
    "    def __init__(self, func=None):\n",
    "        if func:\n",
    "             self.function = func\n",
    "\n",
    "    def evaluate(self,X):\n",
    "        return self.function(X)"
   ]
  },
  {
   "cell_type": "markdown",
   "metadata": {},
   "source": [
    "## Funkcije"
   ]
  },
  {
   "cell_type": "code",
   "execution_count": 4,
   "metadata": {
    "collapsed": false
   },
   "outputs": [],
   "source": [
    "def f_test(x):\n",
    "    if is_numeric(x):\n",
    "        return (x-4)**2\n",
    "    elif len(x) == 1:\n",
    "        return (x[0]-4)**2\n",
    "    else:\n",
    "        raise Exception(\"Argument passed needs to be a list with 1 element or a numeric type\")\n",
    "        \n",
    "def f1(x):\n",
    "    if len(x) != 2:\n",
    "        raise Exception(\"Argument needs to be a list with two elements\")\n",
    "    return (x[0]-4.)**2 + 4.*(x[1]-2)**2"
   ]
  },
  {
   "cell_type": "markdown",
   "metadata": {},
   "source": [
    "## Unimodal interval"
   ]
  },
  {
   "cell_type": "code",
   "execution_count": 5,
   "metadata": {
    "collapsed": false
   },
   "outputs": [],
   "source": [
    "def find_unimodal(starting_point, function, starting_step=1):\n",
    "    step = starting_step\n",
    "    current_point = starting_point\n",
    "    direction = 1\n",
    "    if function.evaluate(current_point + step) >= function.evaluate(current_point):\n",
    "        direction=-1\n",
    "    next_point = current_point + direction*step\n",
    "    cnt = 1\n",
    "    previous_point = current_point\n",
    "    while function.evaluate(current_point) > function.evaluate(next_point):\n",
    "        previous_point = current_point\n",
    "        current_point = next_point\n",
    "        next_point = starting_point + direction * (2**cnt) * step\n",
    "        cnt+=1\n",
    "    \n",
    "    if previous_point > next_point:\n",
    "        return next_point, previous_point\n",
    "    return previous_point, next_point"
   ]
  },
  {
   "cell_type": "markdown",
   "metadata": {},
   "source": [
    "## Golden section search"
   ]
  },
  {
   "cell_type": "code",
   "execution_count": 6,
   "metadata": {
    "collapsed": true
   },
   "outputs": [],
   "source": [
    "def golden_section_search(f,starting_point = None, a=None,b=None,eps=1, verbose = False):\n",
    "    if starting_point != None:\n",
    "        a,b = find_unimodal(starting_point,f,eps)\n",
    "    elif a==None or b== None:\n",
    "        raise Exception(\"Starting point or unimodal interval needs to be given\")\n",
    "    \n",
    "    if verbose:\n",
    "        print \"Searching in interval [%f, %f]\" % (a,b)\n",
    "    \n",
    "    \n",
    "    fi = (math.sqrt(5.0) - 1.0)/2\n",
    "    c = b - (b - a)*fi\n",
    "    d = a + (b - a)*fi\n",
    "    while (b - a) > eps:\n",
    "        if verbose:\n",
    "            print \"|a = %.3f|c = %.3f|d = %.3f|b = %.3f|f(c) = %.3f|f(d) = %.3f|f(c) > f(d) = %s\" %(a,c,d,b,f(c),f(d), f(c)>f(d))\n",
    "        if f.evaluate(c) >= f.evaluate(d):\n",
    "            a = c\n",
    "            c = d\n",
    "            d = a + (b - a)*fi\n",
    "        else:\n",
    "            b = d\n",
    "            d = c\n",
    "            c = b - (b - a)*fi\n",
    "    if verbose:\n",
    "        print ''\n",
    "        print \"Final interval = [\",a,\", \", b,\"]\"\n",
    "    return (a+b)/2."
   ]
  },
  {
   "cell_type": "markdown",
   "metadata": {},
   "source": [
    "## Coordinate descend"
   ]
  },
  {
   "cell_type": "code",
   "execution_count": 7,
   "metadata": {
    "collapsed": false
   },
   "outputs": [],
   "source": [
    "def coordinate_search(starting_point, epsilon_vector, function):\n",
    "    if len(starting_point) != len(epsilon_vector):\n",
    "        raise Exception(\"Point vector and epsilon vector need to be the same dimension\")\n",
    "        \n",
    "    coordinate_changed = [False]*len(starting_point)\n",
    "    min_point = deepcopy(starting_point)\n",
    "    reset_flag = lambda x: False\n",
    "    \n",
    "    cnt = 10\n",
    "    while any(flag == False for flag in coordinate_changed):\n",
    "        coordinate_changed = map(reset_flag, coordinate_changed)\n",
    "        \n",
    "        def function_1D_wrapper(function,index, array):\n",
    "            cpy = deepcopy(array)\n",
    "            def func_1D(x):\n",
    "                cpy[index] = x\n",
    "                return function.evaluate(cpy)\n",
    "            return func_1D\n",
    "        \n",
    "        for i,coord in enumerate(min_point):\n",
    "            func_1D = function_1D_wrapper(function, i, min_point)\n",
    "            new_coord = golden_section_search(func_1D, coord, eps = epsilon_vector[i])\n",
    "            min_point[i] = new_coord\n",
    "            #print new_coord\n",
    "            if abs(coord-new_coord)<= epsilon_vector[i]:\n",
    "                coordinate_changed[i] = True\n",
    "        cnt-=1\n",
    "        if cnt<0:\n",
    "            break\n",
    "        print min_point\n",
    "    return min_point"
   ]
  },
  {
   "cell_type": "markdown",
   "metadata": {},
   "source": [
    "# Nelder i Mead simpleks"
   ]
  },
  {
   "cell_type": "code",
   "execution_count": 12,
   "metadata": {
    "collapsed": false
   },
   "outputs": [
    {
     "name": "stdout",
     "output_type": "stream",
     "text": [
      "...best so far: 30.44\n",
      "...best so far: 28.5125\n",
      "...best so far: 26.363125\n",
      "...best so far: 21.94953125\n",
      "...best so far: 17.8998828125\n",
      "...best so far: 12.0610644531\n",
      "...best so far: 12.0610644531\n",
      "...best so far: 12.0610644531\n",
      "...best so far: 9.27703125\n",
      "...best so far: 9.27703125\n",
      "...best so far: 7.69966018677\n",
      "...best so far: 3.41542377472\n",
      "...best so far: 3.41542377472\n",
      "...best so far: 0.29453125\n",
      "...best so far: 0.29453125\n",
      "...best so far: 0.29453125\n",
      "...best so far: 0.148687286377\n",
      "...best so far: 0.10420674324\n",
      "...best so far: 0.0156961804628\n",
      "...best so far: 0.0156961804628\n",
      "...best so far: 0.0156961804628\n",
      "...best so far: 0.0083095826309\n",
      "...best so far: 0.00212473189914\n",
      "...best so far: 0.00212473189914\n",
      "...best so far: 0.00121428008324\n",
      "...best so far: 0.000468218209882\n",
      "...best so far: 0.000468218209882\n",
      "...best so far: 0.000196898562119\n",
      "...best so far: 0.000196898562119\n",
      "...best so far: 0.000117750557909\n",
      "...best so far: 8.12300926414e-05\n",
      "...best so far: 5.96450438221e-06\n",
      "...best so far: 5.96450438221e-06\n",
      "...best so far: 5.96450438221e-06\n",
      "...best so far: 5.39127208388e-06\n",
      "...best so far: 4.182667088e-06\n",
      "...best so far: 8.25687061691e-07\n",
      "...best so far: 7.31995395302e-07\n",
      "...best so far: 2.409481721e-07\n",
      "...best so far: 5.77494770935e-08\n",
      "...best so far: 5.77494770935e-08\n",
      "...best so far: 5.47315947537e-08\n",
      "[array([ 4.0000938 ,  1.99989284]), 5.4731594753726233e-08]\n"
     ]
    }
   ],
   "source": [
    "def nelder_mead(f, x_start,\n",
    "                step=0.1, no_improve_thr=10e-6,\n",
    "                no_improv_break=10, max_iter=0,\n",
    "                alpha=1., gamma=2., rho=-0.5, sigma=0.5):\n",
    "    \n",
    "    dim = len(x_start)\n",
    "    prev_best = f.evaluate(x_start)\n",
    "    no_improv = 0\n",
    "    x_start = np.array(x_start)\n",
    "    res = [[x_start, prev_best]]\n",
    "\n",
    "    for i in range(dim):\n",
    "        x = deepcopy(x_start)\n",
    "        x[i] = x[i] + step\n",
    "        score = f.evaluate(x)\n",
    "        res.append([x, score])\n",
    "\n",
    "    # simplex iter\n",
    "    iters = 0\n",
    "    while 1:\n",
    "        # order\n",
    "        res.sort(key=lambda x: x[1])\n",
    "        best = res[0][1]\n",
    "\n",
    "        # break after max_iter\n",
    "        if max_iter and iters >= max_iter:\n",
    "            return res[0]\n",
    "        iters += 1\n",
    "\n",
    "        # break after no_improv_break iterations with no improvement\n",
    "        print '...best so far:', best\n",
    "\n",
    "        if best < prev_best - no_improve_thr:\n",
    "            no_improv = 0\n",
    "            prev_best = best\n",
    "        else:\n",
    "            no_improv += 1\n",
    "\n",
    "        if no_improv >= no_improv_break:\n",
    "            return res[0]\n",
    "\n",
    "        # centroid\n",
    "        x0 = [0.] * dim\n",
    "        for tup in res[:-1]:\n",
    "            for i, c in enumerate(tup[0]):\n",
    "                x0[i] += c / (len(res)-1)\n",
    "        \n",
    "        # reflection\n",
    "        xr = x0 + alpha*(x0 - res[-1][0])\n",
    "        rscore = f(xr)\n",
    "        if rscore < res[0][1]:\n",
    "            xe = x0 + gamma*(x0 - res[-1][0])\n",
    "            escore = f(xe)\n",
    "            if escore < res[0][1]:\n",
    "                del res[-1]\n",
    "                res.append([xe, escore])\n",
    "                continue\n",
    "            else:\n",
    "                del res[-1]\n",
    "                res.append([xr, rscore])\n",
    "                continue\n",
    "        else:\n",
    "            if rscore > res[-2][1]:\n",
    "                if rscore < res[-1][1]:\n",
    "                    del res[-1]\n",
    "                    res.append([xr, rscore])\n",
    "                # contraction\n",
    "                xc = x0 + rho*(x0 - res[-1][0])\n",
    "                cscore = f(xc)\n",
    "                if cscore < res[-1][1]:\n",
    "                    del res[-1]\n",
    "                    res.append([xc, cscore])\n",
    "                    continue\n",
    "                else:\n",
    "                    # reduction\n",
    "                    x1 = res[0][0]\n",
    "                    nres = []\n",
    "                    for tup in res:\n",
    "                        redx = x1 + sigma*(tup[0] - x1)\n",
    "                        score = f(redx)\n",
    "                        nres.append([redx, score])\n",
    "                    res = nres\n",
    "            else:\n",
    "                del res[-1]\n",
    "                res.append([xr, rscore])\n",
    "\n",
    "\n",
    "if __name__ == \"__main__\":\n",
    "    import math\n",
    "    import numpy as np\n",
    "\n",
    "    def f(x):\n",
    "        return math.sin(x[0]) * math.cos(x[1]) * (1. / (abs(x[2]) + 1))\n",
    "\n",
    "    print nelder_mead(f1, [0., 0.])"
   ]
  },
  {
   "cell_type": "markdown",
   "metadata": {},
   "source": [
    "# Hooke-Jeeves"
   ]
  },
  {
   "cell_type": "code",
   "execution_count": 42,
   "metadata": {
    "collapsed": false
   },
   "outputs": [
    {
     "name": "stdout",
     "output_type": "stream",
     "text": [
      "Iteration 0 base_point = [ 0.  0.]\n",
      "Iteration 1 base_point = [ 1.  1.]\n",
      "Iteration 2 base_point = [ 3.  3.]\n",
      "Iteration 3 base_point = [ 3.  3.]\n",
      "Iteration 4 base_point = [ 3.95  2.05]\n",
      "Iteration 5 base_point = [ 3.95  2.05]\n",
      "Iteration 6 base_point = [ 3.95  2.05]\n",
      "Iteration 7 base_point = [ 3.95  2.05]\n",
      "Iteration 8 base_point = [ 3.95  2.05]\n",
      "Iteration 9 base_point = [ 3.95  2.05]\n",
      "Iteration 10 base_point = [ 3.95  2.05]\n",
      "Iteration 11 base_point = [ 3.95  2.05]\n",
      "Iteration 12 base_point = [ 3.95  2.05]\n",
      "Iteration 13 base_point = [ 3.95  2.05]\n",
      "Iteration 14 base_point = [ 3.95  2.05]\n",
      "Iteration 15 base_point = [ 3.95  2.05]\n",
      "Iteration 16 base_point = [ 3.95  2.05]\n",
      "Iteration 17 base_point = [ 3.95  2.05]\n",
      "Iteration 18 base_point = [ 3.95  2.05]\n",
      "Iteration 19 base_point = [ 3.95  2.05]\n",
      "Iteration 20 base_point = [ 3.95  2.05]\n",
      "Iteration 21 base_point = [ 3.95  2.05]\n",
      "Iteration 22 base_point = [ 3.95  2.05]\n",
      "Iteration 23 base_point = [ 3.95  2.05]\n",
      "Iteration 24 base_point = [ 3.95  2.05]\n",
      "Iteration 25 base_point = [ 3.95  2.05]\n",
      "Iteration 26 base_point = [ 3.95  2.05]\n",
      "Iteration 27 base_point = [ 3.95  2.05]\n",
      "Iteration 28 base_point = [ 3.95  2.05]\n",
      "Iteration 29 base_point = [ 3.95  2.05]\n",
      "Iteration 30 base_point = [ 3.95  2.05]\n",
      "Iteration 31 base_point = [ 3.95  2.05]\n",
      "Iteration 32 base_point = [ 3.95  2.05]\n",
      "Iteration 33 base_point = [ 3.95  2.05]\n",
      "Iteration 34 base_point = [ 3.95  2.05]\n",
      "Iteration 35 base_point = [ 3.95  2.05]\n",
      "Iteration 36 base_point = [ 3.95  2.05]\n",
      "Iteration 37 base_point = [ 3.95  2.05]\n",
      "Iteration 38 base_point = [ 3.95  2.05]\n",
      "Iteration 39 base_point = [ 3.95  2.05]\n",
      "Iteration 40 base_point = [ 3.95  2.05]\n",
      "Iteration 41 base_point = [ 3.95  2.05]\n",
      "Iteration 42 base_point = [ 3.95  2.05]\n",
      "Iteration 43 base_point = [ 3.95  2.05]\n",
      "Iteration 44 base_point = [ 3.95  2.05]\n",
      "Iteration 45 base_point = [ 3.95  2.05]\n",
      "Iteration 46 base_point = [ 3.95  2.05]\n",
      "Iteration 47 base_point = [ 3.95  2.05]\n",
      "Iteration 48 base_point = [ 3.95  2.05]\n",
      "Iteration 49 base_point = [ 4.04944026  1.95055974]\n",
      "Iteration 50 base_point = [ 4.04944026  1.95055974]\n",
      "Iteration 51 base_point = [ 3.95497201  2.04502799]\n",
      "Iteration 52 base_point = [ 3.95497201  2.04502799]\n",
      "Iteration 53 base_point = [ 4.04471684  1.95528316]\n"
     ]
    },
    {
     "data": {
      "text/plain": [
       "array([ 4.04471684,  1.95528316])"
      ]
     },
     "execution_count": 42,
     "metadata": {},
     "output_type": "execute_result"
    }
   ],
   "source": [
    "def hooke_jeeves(starting_point,function,search_direction,decay_coeff=0.95,epsilon=None,max_iter = 0, verbose=False):\n",
    "    \n",
    "    iters = 0\n",
    "    dX = np.array(search_direction).astype(np.float64)\n",
    "    if epsilon == None:\n",
    "        epsilon = np.array([1e-6]*len(starting_point))\n",
    "    else:\n",
    "        epsilon = np.array(epsilon)\n",
    "    search_point = deepcopy(np.array(starting_point))\n",
    "    base_point = deepcopy(np.array(starting_point))\n",
    "    base_point_score = function(base_point)\n",
    "    while True:\n",
    "        if verbose:\n",
    "            print \"Iteration %s base_point = %s\" % (iters, base_point)\n",
    "        if max_iter and iters >= max_iter:\n",
    "            return base_point\n",
    "        new_point = istrazi(search_point, function, dX)\n",
    "        new_point_score = function(new_point)\n",
    "        if new_point_score < base_point_score:\n",
    "            search_point = 2 * new_point - base_point\n",
    "            if (abs(base_point-new_point)<epsilon).all(False):\n",
    "                return base_point\n",
    "            base_point = deepcopy(new_point)\n",
    "            base_point_score = function(base_point)\n",
    "        else:\n",
    "            dX *=decay_coeff\n",
    "            search_point = deepcopy(base_point)\n",
    "        iters+=1\n",
    "    pass\n",
    "\n",
    "def istrazi(point,fun, search_direction):\n",
    "    x = deepcopy(point)\n",
    "    dim = len(x)\n",
    "    for i in range(dim):\n",
    "        temp = fun(x)\n",
    "        x[i]+=search_direction[i]\n",
    "        new = fun(x)\n",
    "        if new > temp:\n",
    "            x[i]-=search_direction[i]*2\n",
    "            new = fun(x)\n",
    "            if new > temp:\n",
    "                x[i] += x[i] + search_direction[i]\n",
    "    return x\n",
    "\n",
    "hooke_jeeves([0.,0.],f1,[1,1], verbose=True)"
   ]
  },
  {
   "cell_type": "code",
   "execution_count": 61,
   "metadata": {
    "collapsed": false
   },
   "outputs": [
    {
     "name": "stdout",
     "output_type": "stream",
     "text": [
      "Searching in interval [2.000000, 8.000000]\n",
      "|a = 2.000|c = 4.292|d = 5.708|b = 8.000|f(c) = 0.085|f(d) = 2.918|f(c) > f(d) = False\n",
      "|a = 2.000|c = 3.416|d = 4.292|b = 5.708|f(c) = 0.341|f(d) = 0.085|f(c) > f(d) = True\n",
      "|a = 3.416|c = 4.292|d = 4.833|b = 5.708|f(c) = 0.085|f(d) = 0.694|f(c) > f(d) = False\n",
      "|a = 3.416|c = 3.957|d = 4.292|b = 4.833|f(c) = 0.002|f(d) = 0.085|f(c) > f(d) = False\n",
      "\n",
      "Final interval = [ 3.416407865 ,  4.2917960675 ]\n",
      "3.85410196625\n"
     ]
    }
   ],
   "source": [
    "print golden_section_search(f_test,a=2,b=8,eps=1, verbose = True)"
   ]
  },
  {
   "cell_type": "code",
   "execution_count": 59,
   "metadata": {
    "collapsed": false
   },
   "outputs": [
    {
     "name": "stdout",
     "output_type": "stream",
     "text": [
      "[4.000000219088628, 1.9999999540550042]\n",
      "[3.999999910071634, 1.9999994540550041]\n",
      "[3.999999910071634, 1.9999994540550041]\n"
     ]
    }
   ],
   "source": [
    "print coordinate_search([0.1,0.3],[1e-6,1e-6],f1)"
   ]
  },
  {
   "cell_type": "code",
   "execution_count": 34,
   "metadata": {
    "collapsed": false
   },
   "outputs": [
    {
     "data": {
      "text/plain": [
       "False"
      ]
     },
     "execution_count": 34,
     "metadata": {},
     "output_type": "execute_result"
    }
   ],
   "source": []
  },
  {
   "cell_type": "code",
   "execution_count": null,
   "metadata": {
    "collapsed": true
   },
   "outputs": [],
   "source": []
  }
 ],
 "metadata": {
  "kernelspec": {
   "display_name": "Python 2",
   "language": "python",
   "name": "python2"
  },
  "language_info": {
   "codemirror_mode": {
    "name": "ipython",
    "version": 2
   },
   "file_extension": ".py",
   "mimetype": "text/x-python",
   "name": "python",
   "nbconvert_exporter": "python",
   "pygments_lexer": "ipython2",
   "version": "2.7.12"
  }
 },
 "nbformat": 4,
 "nbformat_minor": 1
}
