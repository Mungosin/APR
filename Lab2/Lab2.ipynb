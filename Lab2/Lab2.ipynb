{
 "cells": [
  {
   "cell_type": "code",
   "execution_count": 23,
   "metadata": {
    "collapsed": false
   },
   "outputs": [],
   "source": [
    "import math\n",
    "from copy import deepcopy\n",
    "import numpy as np\n",
    "import types\n",
    "import pylab\n",
    "import matplotlib.pyplot as plt\n",
    "import plotly.plotly as py\n",
    "from plotly.graph_objs import Surface\n",
    "import plotly.tools as tls\n",
    "tls.set_credentials_file(username='Mungos', api_key='mcnflyescl')"
   ]
  },
  {
   "cell_type": "markdown",
   "metadata": {},
   "source": [
    "## Helper functions"
   ]
  },
  {
   "cell_type": "code",
   "execution_count": 24,
   "metadata": {
    "collapsed": false
   },
   "outputs": [],
   "source": [
    "def is_numeric(x):\n",
    "    NumberTypes = (types.IntType, types.LongType, types.FloatType)\n",
    "    return isinstance(x, NumberTypes)\n",
    "\n",
    "class Function:\n",
    "    def __init__(self, func=None):\n",
    "        if func:\n",
    "            self.calls = 0\n",
    "            self.function = func\n",
    "\n",
    "    def evaluate(self,X):\n",
    "        self.calls+=1\n",
    "        return self.function(X)"
   ]
  },
  {
   "cell_type": "markdown",
   "metadata": {},
   "source": [
    "## Funkcije"
   ]
  },
  {
   "cell_type": "code",
   "execution_count": 25,
   "metadata": {
    "collapsed": false
   },
   "outputs": [],
   "source": [
    "def f_test(x):\n",
    "    if is_numeric(x):\n",
    "        return (x-4)**2\n",
    "    elif len(x) == 1:\n",
    "        return (x[0]-4)**2\n",
    "    else:\n",
    "        raise Exception(\"Argument passed needs to be a list with 1 element or a numeric type\")\n",
    "    \n",
    "def f1(x):\n",
    "    if len(x) != 2:\n",
    "        raise Exception(\"Argument needs to be a list with two elements\")\n",
    "    return 100*(x[1]-x[0]**2)**2 + (1-x[0])**2\n",
    "\n",
    "def f2(x):\n",
    "    if len(x) != 2:\n",
    "        raise Exception(\"Argument needs to be a list with two elements\")\n",
    "    return (x[0]-4.)**2 + 4.*(x[1]-2)**2\n",
    "\n",
    "def f3(x):\n",
    "    el_sum = 0\n",
    "    for i, element in enumerate(x):\n",
    "        el_sum+=(element-i-1)**2\n",
    "    return el_sum\n",
    "\n",
    "def f4(x):\n",
    "    if len(x) != 2:\n",
    "        raise Exception(\"Argument needs to be a list with two elements\")\n",
    "    return abs((x[0]-x[1])*(x[0]*x[1]))+ math.sqrt(x[0]**2+x[1]**2)\n",
    "\n",
    "def f6(x):\n",
    "    el_sum = 0\n",
    "    for el in x:\n",
    "        el_sum += el**2\n",
    "    return 0.5 +(math.sin(math.sqrt(el_sum)-0.5))/(1+0.001*el_sum)"
   ]
  },
  {
   "cell_type": "markdown",
   "metadata": {},
   "source": [
    "## Unimodal interval"
   ]
  },
  {
   "cell_type": "code",
   "execution_count": 26,
   "metadata": {
    "collapsed": false
   },
   "outputs": [],
   "source": [
    "def find_unimodal(starting_point, function, starting_step=1):\n",
    "    step = starting_step\n",
    "    current_point = starting_point\n",
    "    direction = 1\n",
    "    if function(current_point + step) >= function(current_point):\n",
    "        direction=-1\n",
    "    next_point = current_point + direction*step\n",
    "    cnt = 1\n",
    "    previous_point = current_point\n",
    "    while function(current_point) > function(next_point):\n",
    "        previous_point = current_point\n",
    "        current_point = next_point\n",
    "        next_point = starting_point + direction * (2**cnt) * step\n",
    "        cnt+=1\n",
    "    \n",
    "    if previous_point > next_point:\n",
    "        return next_point, previous_point\n",
    "    return previous_point, next_point"
   ]
  },
  {
   "cell_type": "markdown",
   "metadata": {},
   "source": [
    "## Golden section search"
   ]
  },
  {
   "cell_type": "code",
   "execution_count": 27,
   "metadata": {
    "collapsed": true
   },
   "outputs": [],
   "source": [
    "def golden_section_search(f,starting_point = None, a=None,b=None,eps=1, verbose = False):\n",
    "    if starting_point != None:\n",
    "        a,b = find_unimodal(starting_point,f.evaluate,eps)\n",
    "    elif a==None or b== None:\n",
    "        raise Exception(\"Starting point or unimodal interval needs to be given\")\n",
    "    \n",
    "    if verbose:\n",
    "        print \"Searching in interval [%f, %f]\" % (a,b)\n",
    "    \n",
    "    \n",
    "    fi = (math.sqrt(5.0) - 1.0)/2\n",
    "    c = b - (b - a)*fi\n",
    "    d = a + (b - a)*fi\n",
    "    while (b - a) > eps:\n",
    "        c_score, d_score = f.evaluate(c),f.evaluate(d)\n",
    "        if verbose:\n",
    "            print \"|a = %.3f|c = %.3f|d = %.3f|b = %.3f|f(c) = %.3f|f(d) = %.3f|f(c) > f(d) = %s\" %(a,c,d,b,c_score,d_score, c_score>d_score)\n",
    "        if c_score >= d_score:\n",
    "            a = c\n",
    "            c = d\n",
    "            d = a + (b - a)*fi\n",
    "        else:\n",
    "            b = d\n",
    "            d = c\n",
    "            c = b - (b - a)*fi\n",
    "    if verbose:\n",
    "        print ''\n",
    "        print \"Final interval = [\",a,\", \", b,\"]\"\n",
    "    return (a+b)/2."
   ]
  },
  {
   "cell_type": "markdown",
   "metadata": {},
   "source": [
    "## Coordinate descend"
   ]
  },
  {
   "cell_type": "code",
   "execution_count": 28,
   "metadata": {
    "collapsed": false
   },
   "outputs": [],
   "source": [
    "def coordinate_search(function,starting_point, epsilon_vector = None ):\n",
    "    if epsilon_vector==None:\n",
    "        epsilon_vector = [1e-6]*len(starting_point)\n",
    "        \n",
    "    coordinate_changed = [False]*len(starting_point)\n",
    "    min_point = deepcopy(starting_point)\n",
    "    reset_flag = lambda x: False\n",
    "    \n",
    "    cnt = 10\n",
    "    while any(flag == False for flag in coordinate_changed):\n",
    "        coordinate_changed = map(reset_flag, coordinate_changed)\n",
    "        \n",
    "        def function_1D_wrapper(function,index, array):\n",
    "            cpy = deepcopy(array)\n",
    "            class Decorator:\n",
    "                def __init__(self,cpy,index,function):\n",
    "                    self.index = index\n",
    "                    self.cpy = cpy\n",
    "                    self.function = function\n",
    "                    \n",
    "                def evaluate(self,x):\n",
    "                    self.cpy[self.index] = x\n",
    "                    return self.function.evaluate(cpy)\n",
    "            return Decorator(cpy,index,function)\n",
    "        \n",
    "        for i,coord in enumerate(min_point):\n",
    "            func_1D = function_1D_wrapper(function, i, min_point)\n",
    "            new_coord = golden_section_search(func_1D, coord, eps = epsilon_vector[i])\n",
    "            min_point[i] = new_coord\n",
    "            #print new_coord\n",
    "            if abs(coord-new_coord)<= epsilon_vector[i]:\n",
    "                coordinate_changed[i] = True\n",
    "        cnt-=1\n",
    "        if cnt<0:\n",
    "            break\n",
    "    return min_point"
   ]
  },
  {
   "cell_type": "markdown",
   "metadata": {},
   "source": [
    "# Nelder i Mead simpleks"
   ]
  },
  {
   "cell_type": "code",
   "execution_count": 29,
   "metadata": {
    "collapsed": false
   },
   "outputs": [
    {
     "name": "stdout",
     "output_type": "stream",
     "text": [
      "best so far: 7.07106781187\n",
      "best so far: 7.07106781187\n",
      "best so far: 7.07106781187\n",
      "best so far: 7.07106781187\n",
      "best so far: 7.07106781187\n",
      "best so far: 7.07106781187\n",
      "best so far: 7.07106781187\n",
      "best so far: 7.07106781187\n",
      "best so far: 7.07106781187\n",
      "best so far: 7.07106781187\n",
      "best so far: 7.07106781187\n",
      "best so far: 7.07106781187\n",
      "best so far: 6.82312616626\n",
      "best so far: 6.82312616626\n",
      "best so far: 6.60919301696\n",
      "best so far: 6.11519561699\n",
      "best so far: 5.19963541719\n",
      "best so far: 3.90053460744\n",
      "best so far: 0.841601866643\n",
      "best so far: 0.252998434636\n",
      "best so far: 0.252998434636\n",
      "best so far: 0.252998434636\n",
      "best so far: 0.207010436257\n",
      "best so far: 0.207010436257\n",
      "best so far: 0.123682146637\n",
      "best so far: 0.0610832964559\n",
      "best so far: 0.0603777393962\n",
      "best so far: 0.0536095407197\n",
      "best so far: 0.0502312404999\n",
      "best so far: 0.0390921228821\n",
      "best so far: 0.0364226466503\n",
      "best so far: 0.0364226466503\n",
      "best so far: 0.0364226466503\n",
      "best so far: 0.0323375356159\n",
      "best so far: 0.0287163454128\n",
      "best so far: 0.019008166731\n",
      "best so far: 0.013265146987\n",
      "best so far: 0.00944611352688\n",
      "best so far: 0.00747160475656\n",
      "best so far: 0.00470460687829\n",
      "best so far: 0.00283231562877\n",
      "best so far: 0.00283231562877\n",
      "best so far: 0.00183339767821\n",
      "best so far: 0.00144466868477\n",
      "best so far: 0.000842311561925\n",
      "best so far: 0.000842311561925\n",
      "best so far: 0.000490711808724\n",
      "best so far: 0.000142753473535\n",
      "best so far: 0.000142753473535\n",
      "best so far: 0.000142753473535\n",
      "best so far: 0.000142753473535\n",
      "best so far: 0.000111095605553\n",
      "best so far: 7.8765090447e-05\n",
      "best so far: 4.52142315836e-05\n",
      "best so far: 4.52142315836e-05\n",
      "best so far: 2.94820737059e-05\n",
      "best so far: 2.27769879229e-05\n",
      "best so far: 1.48177785831e-05\n",
      "best so far: 1.31200465412e-05\n",
      "best so far: 1.31200465412e-05\n",
      "best so far: 5.64834296063e-06\n",
      "best so far: 5.59835511514e-06\n",
      "best so far: 4.42791015247e-06\n",
      "best so far: 2.38352646892e-06\n",
      "best so far: 2.38352646892e-06\n",
      "best so far: 1.59208321165e-06\n",
      "best so far: 1.30041298489e-06\n",
      "best so far: 8.29675909201e-07\n",
      "best so far: 4.95103933981e-07\n",
      "best so far: 4.95103933981e-07\n",
      "best so far: 3.24347640252e-07\n",
      "best so far: 3.04759648468e-07\n",
      "best so far: 1.75292131184e-07\n",
      "best so far: 1.75292131184e-07\n",
      "best so far: 1.2535116714e-07\n",
      "best so far: 5.25406775715e-08\n",
      "best so far: 5.25406775715e-08\n",
      "best so far: 5.25406775715e-08\n",
      "best so far: 4.28497024774e-08\n",
      "best so far: 1.735793772e-08\n",
      "best so far: 1.735793772e-08\n",
      "best so far: 1.23776423609e-08\n",
      "best so far: 1.20691033773e-08\n",
      "best so far: 8.24070392475e-09\n",
      "best so far: 3.59581186073e-09\n",
      "best so far: 3.59581186073e-09\n",
      "best so far: 2.26004420085e-09\n",
      "best so far: 2.26004420085e-09\n",
      "best so far: 9.05606058801e-10\n",
      "best so far: 9.05606058801e-10\n",
      "best so far: 9.05606058801e-10\n",
      "best so far: 9.05606058801e-10\n",
      "best so far: 2.51743844251e-10\n",
      "best so far: 2.51743844251e-10\n",
      "best so far: 2.51743844251e-10\n",
      "best so far: 2.51743844251e-10\n",
      "best so far: 2.14186902143e-10\n",
      "best so far: 1.37553515613e-10\n",
      "best so far: 4.8494050978e-11\n",
      "best so far: 4.8494050978e-11\n",
      "best so far: 4.8494050978e-11\n",
      "best so far: 2.81556098653e-11\n",
      "best so far: 1.73520856838e-11\n",
      "best so far: 1.73520856838e-11\n",
      "best so far: 8.08962244843e-12\n",
      "best so far: 6.26112928522e-12\n",
      "best so far: 6.12547304261e-12\n",
      "best so far: 3.57324917806e-12\n",
      "best so far: 1.92181608842e-12\n",
      "best so far: 1.92181608842e-12\n",
      "best so far: 1.63841737068e-12\n",
      "best so far: 8.57699530274e-13\n",
      "best so far: 6.40274858284e-13\n",
      "[ -5.32220735e-13   3.55939579e-13]\n"
     ]
    }
   ],
   "source": [
    "def nelder_mead(f, x_start,\n",
    "                step=1, no_improve_thr=10e-6,\n",
    "                no_improv_break=50, max_iter=0,\n",
    "                alpha=1., gamma=2., rho=-0.5, sigma=0.5,verbose=False):\n",
    "    \n",
    "    dim = len(x_start)\n",
    "    prev_best = f.evaluate(x_start)\n",
    "    no_improv = 0\n",
    "    x_start = np.array(x_start).astype(np.float64)\n",
    "    res = [[x_start, prev_best]]\n",
    "\n",
    "    for i in range(dim):\n",
    "        x = deepcopy(x_start)\n",
    "        x[i] = x[i] + step\n",
    "        score = f.evaluate(x)\n",
    "        res.append([x, score])\n",
    "    \n",
    "    \n",
    "    # simplex iter\n",
    "    iters = 0\n",
    "    while 1:\n",
    "        # order\n",
    "        res.sort(key=lambda x: x[1])\n",
    "        best = res[0][1]\n",
    "\n",
    "        # break after max_iter\n",
    "        if max_iter and iters >= max_iter:\n",
    "            return res[0][0]\n",
    "        iters += 1\n",
    "\n",
    "        # break after no_improv_break iterations with no improvement\n",
    "        if verbose:\n",
    "            print 'best so far:', best\n",
    "\n",
    "        if best < prev_best - no_improve_thr:\n",
    "            no_improv = 0\n",
    "            prev_best = best\n",
    "        else:\n",
    "            no_improv += 1\n",
    "\n",
    "        if no_improv >= no_improv_break:\n",
    "            return res[0][0]\n",
    "\n",
    "        # centroid\n",
    "        x0 = [0.] * dim\n",
    "        for tup in res[:-1]:\n",
    "            for i, c in enumerate(tup[0]):\n",
    "                x0[i] += c / (len(res)-1)\n",
    "                \n",
    "        # reflection\n",
    "        xr = x0 + alpha*(x0 - res[-1][0])\n",
    "        rscore = f.evaluate(xr)\n",
    "        if rscore < res[0][1]:\n",
    "            xe = x0 + gamma*(x0 - res[-1][0])\n",
    "            escore = f.evaluate(xe)\n",
    "            if escore < res[0][1]:\n",
    "                del res[-1]\n",
    "                res.append([xe, escore])\n",
    "                continue\n",
    "            else:\n",
    "                del res[-1]\n",
    "                res.append([xr, rscore])\n",
    "                continue\n",
    "        else:\n",
    "            if rscore > res[-2][1]:\n",
    "                if rscore < res[-1][1]:\n",
    "                    del res[-1]\n",
    "                    res.append([xr, rscore])\n",
    "                # contraction\n",
    "                xc = x0 + rho*(x0 - res[-1][0])\n",
    "                cscore = f.evaluate(xc)\n",
    "                if cscore < res[-1][1]:\n",
    "                    del res[-1]\n",
    "                    res.append([xc, cscore])\n",
    "                    continue\n",
    "                else:\n",
    "                    # reduction\n",
    "                    x1 = res[0][0]\n",
    "                    nres = []\n",
    "                    for tup in res:\n",
    "                        redx = x1 + sigma*(tup[0] - x1)\n",
    "                        score = f.evaluate(redx)\n",
    "                        nres.append([redx, score])\n",
    "                    res = nres\n",
    "            else:\n",
    "                del res[-1]\n",
    "                res.append([xr, rscore])\n",
    "\n",
    "\n",
    "if __name__ == \"__main__\":\n",
    "    \n",
    "    fun = Function(f4)\n",
    "    print nelder_mead(fun, [5,5],verbose=True)"
   ]
  },
  {
   "cell_type": "markdown",
   "metadata": {},
   "source": [
    "# Hooke-Jeeves"
   ]
  },
  {
   "cell_type": "code",
   "execution_count": 30,
   "metadata": {
    "collapsed": false
   },
   "outputs": [
    {
     "name": "stdout",
     "output_type": "stream",
     "text": [
      "Iteration 0 base_point = [ 5.1  1.1]\n",
      "Iteration 1 base_point = [ 4.1  0.1]\n",
      "Iteration 2 base_point = [ 2.1  0.1]\n",
      "Iteration 3 base_point = [ 0.1  0.1]\n",
      "Iteration 4 base_point = [ 0.1  0.1]\n",
      "Iteration 5 base_point = [ 0.1  0.1]\n",
      "Iteration 6 base_point = [ 0.1  0.1]\n",
      "Iteration 7 base_point = [ 0.1  0.1]\n",
      "Iteration 8 base_point = [ 0.1  0.1]\n",
      "Iteration 9 base_point = [-0.06807 -0.06807]\n",
      "Iteration 10 base_point = [-0.06807 -0.06807]\n",
      "Iteration 11 base_point = [ 0.049579  0.049579]\n",
      "Iteration 12 base_point = [ 0.049579  0.049579]\n",
      "Iteration 13 base_point = [-0.0327753 -0.0327753]\n",
      "Iteration 14 base_point = [-0.0327753 -0.0327753]\n",
      "Iteration 15 base_point = [ 0.02487271  0.02487271]\n",
      "Iteration 16 base_point = [ 0.02487271  0.02487271]\n",
      "Iteration 17 base_point = [-0.0154809 -0.0154809]\n",
      "Iteration 18 base_point = [-0.0154809 -0.0154809]\n",
      "Iteration 19 base_point = [ 0.01276663  0.01276663]\n",
      "Iteration 20 base_point = [ 0.01276663  0.01276663]\n",
      "Iteration 21 base_point = [-0.00700664 -0.00700664]\n",
      "Iteration 22 base_point = [-0.00700664 -0.00700664]\n",
      "Iteration 23 base_point = [ 0.00683465  0.00683465]\n",
      "Iteration 24 base_point = [ 0.00683465  0.00683465]\n",
      "Iteration 25 base_point = [-0.00285425 -0.00285425]\n",
      "Iteration 26 base_point = [-0.00285425 -0.00285425]\n",
      "Iteration 27 base_point = [-0.00285425 -0.00285425]\n",
      "Iteration 28 base_point = [ 0.00189331  0.00189331]\n",
      "Iteration 29 base_point = [ 0.00189331  0.00189331]\n",
      "Iteration 30 base_point = [-0.00142998 -0.00142998]\n",
      "Iteration 31 base_point = [-0.00142998 -0.00142998]\n",
      "Iteration 32 base_point = [ 0.00089632  0.00089632]\n",
      "Iteration 33 base_point = [ 0.00089632  0.00089632]\n",
      "Iteration 34 base_point = [-0.00073209 -0.00073209]\n",
      "Iteration 35 base_point = [-0.00073209 -0.00073209]\n",
      "Iteration 36 base_point = [ 0.0004078  0.0004078]\n",
      "Iteration 37 base_point = [ 0.0004078  0.0004078]\n",
      "Iteration 38 base_point = [-0.00039013 -0.00039013]\n",
      "Iteration 39 base_point = [-0.00039013 -0.00039013]\n",
      "Iteration 40 base_point = [ 0.00016842  0.00016842]\n",
      "Iteration 41 base_point = [ 0.00016842  0.00016842]\n",
      "Iteration 42 base_point = [ 0.00016842  0.00016842]\n",
      "Iteration 43 base_point = [-0.00010527 -0.00010527]\n",
      "Iteration 44 base_point = [-0.00010527 -0.00010527]\n",
      "Iteration 45 base_point = [  8.63131029e-05   8.63131029e-05]\n",
      "Iteration 46 base_point = [  8.63131029e-05   8.63131029e-05]\n",
      "Iteration 47 base_point = [ -4.77937591e-05  -4.77937591e-05]\n",
      "Iteration 48 base_point = [ -4.77937591e-05  -4.77937591e-05]\n",
      "Iteration 49 base_point = [  4.60810443e-05   4.60810443e-05]\n",
      "Iteration 50 base_point = [  4.60810443e-05   4.60810443e-05]\n",
      "Iteration 51 base_point = [ -1.96313181e-05  -1.96313181e-05]\n",
      "Iteration 52 base_point = [ -1.96313181e-05  -1.96313181e-05]\n",
      "Iteration 53 base_point = [ -1.96313181e-05  -1.96313181e-05]\n",
      "Iteration 54 base_point = [  1.25677395e-05   1.25677395e-05]\n",
      "Iteration 55 base_point = [  1.25677395e-05   1.25677395e-05]\n",
      "Iteration 56 base_point = [ -9.97160082e-06  -9.97160082e-06]\n",
      "Iteration 57 base_point = [ -9.97160082e-06  -9.97160082e-06]\n",
      "Iteration 58 base_point = [  5.80593739e-06   5.80593739e-06]\n",
      "Iteration 59 base_point = [  5.80593739e-06   5.80593739e-06]\n",
      "Iteration 60 base_point = [ -5.23833936e-06  -5.23833936e-06]\n",
      "[ -5.23833936e-06  -5.23833936e-06]\n"
     ]
    },
    {
     "name": "stderr",
     "output_type": "stream",
     "text": [
      "/usr/local/lib/python2.7/site-packages/numpy/core/_methods.py:41: VisibleDeprecationWarning:\n",
      "\n",
      "using a boolean instead of an integer will result in an error in the future\n",
      "\n"
     ]
    }
   ],
   "source": [
    "def hooke_jeeves(function,starting_point,search_direction=None,decay_coeff=0.7,epsilon=None,max_iter = 0, max_patience = 30, verbose=False):\n",
    "    \n",
    "    if search_direction == None:\n",
    "        search_direction = [0.5] * len(starting_point)\n",
    "        \n",
    "    if epsilon == None:\n",
    "        epsilon = np.array([1e-6]*len(starting_point))\n",
    "    else:\n",
    "        epsilon = np.array(epsilon)\n",
    "        \n",
    "    iters = 0\n",
    "    patience = 0\n",
    "    same_threshold = 1e-9\n",
    "    dX = np.array(search_direction).astype(np.float64)\n",
    "    search_point = deepcopy(np.array(starting_point).astype(np.float64))\n",
    "    base_point = deepcopy(np.array(starting_point).astype(np.float64))\n",
    "    base_point_score = function.evaluate(base_point)\n",
    "    while True:\n",
    "        if verbose:\n",
    "            print \"Iteration %s base_point = %s\" % (iters, base_point)\n",
    "        if max_iter!=0 and iters >= max_iter:\n",
    "            return base_point\n",
    "        \n",
    "        new_point = istrazi(search_point, function, dX)\n",
    "        new_point_score = function.evaluate(new_point)\n",
    "        if abs(new_point_score-base_point_score) > same_threshold and new_point_score<base_point_score:\n",
    "            search_point = (2. * new_point) - base_point\n",
    "            base_point = deepcopy(new_point)\n",
    "            base_point_score = function.evaluate(base_point)\n",
    "        else:\n",
    "            dX *=decay_coeff\n",
    "            search_point = deepcopy(base_point)\n",
    "            if (abs(base_point-new_point)<epsilon).all(False):\n",
    "                if patience > max_patience:\n",
    "                    return base_point\n",
    "                else:\n",
    "                    patience +=1\n",
    "        if iters > 200:\n",
    "            break\n",
    "        iters+=1\n",
    "        \n",
    "\n",
    "def istrazi(point,fun, search_direction):\n",
    "    x = deepcopy(point)\n",
    "    dim = len(x)\n",
    "    for i in range(dim):\n",
    "        temp = fun.evaluate(x)\n",
    "        x[i]+=search_direction[i]\n",
    "        new = fun.evaluate(x)\n",
    "        if new > temp:\n",
    "            x[i]-=search_direction[i]*2\n",
    "            new = fun.evaluate(x)\n",
    "            if new > temp:\n",
    "                x[i] = x[i] + search_direction[i]\n",
    "    return x\n",
    "\n",
    "fun = Function(f4)\n",
    "print hooke_jeeves(fun,[5.1,1.1],[1,1], verbose=True)"
   ]
  },
  {
   "cell_type": "code",
   "execution_count": 31,
   "metadata": {
    "collapsed": false
   },
   "outputs": [
    {
     "name": "stdout",
     "output_type": "stream",
     "text": [
      "Searching in interval [2.000000, 8.000000]\n",
      "|a = 2.000|c = 4.292|d = 5.708|b = 8.000|f(c) = 0.085|f(d) = 2.918|f(c) > f(d) = False\n",
      "|a = 2.000|c = 3.416|d = 4.292|b = 5.708|f(c) = 0.341|f(d) = 0.085|f(c) > f(d) = True\n",
      "|a = 3.416|c = 4.292|d = 4.833|b = 5.708|f(c) = 0.085|f(d) = 0.694|f(c) > f(d) = False\n",
      "|a = 3.416|c = 3.957|d = 4.292|b = 4.833|f(c) = 0.002|f(d) = 0.085|f(c) > f(d) = False\n",
      "\n",
      "Final interval = [ 3.416407865 ,  4.2917960675 ]\n",
      "3.85410196625\n"
     ]
    }
   ],
   "source": [
    "fun = Function(f_test)\n",
    "print golden_section_search(fun,a=2,b=8,eps=1, verbose = True)"
   ]
  },
  {
   "cell_type": "code",
   "execution_count": 32,
   "metadata": {
    "collapsed": false
   },
   "outputs": [
    {
     "name": "stdout",
     "output_type": "stream",
     "text": [
      "[0.5846190027185936, 0.3417791839096474]\n"
     ]
    }
   ],
   "source": [
    "fun = Function(f1)\n",
    "print coordinate_search(fun,[0.1,0.3])"
   ]
  },
  {
   "cell_type": "code",
   "execution_count": 38,
   "metadata": {
    "collapsed": false,
    "scrolled": false
   },
   "outputs": [
    {
     "data": {
      "image/png": "[encoded data removed]",
      "text/plain": [
       "<matplotlib.figure.Figure at 0x111f76050>"
      ]
     },
     "metadata": {},
     "output_type": "display_data"
    },
    {
     "data": {
      "image/png": "[encoded data removed]",
      "text/plain": [
       "<matplotlib.figure.Figure at 0x111f760d0>"
      ]
     },
     "metadata": {},
     "output_type": "display_data"
    },
    {
     "data": {
      "image/png": "[encoded data removed]",
      "text/plain": [
       "<matplotlib.figure.Figure at 0x111c27ad0>"
      ]
     },
     "metadata": {},
     "output_type": "display_data"
    },
    {
     "name": "stdout",
     "output_type": "stream",
     "text": [
      "____f1zad____ starting point: [10.0]\n",
      "N-M f_value: 0.0 rezultat: [ 4.]\n",
      "H-J f_value: 2.7386188302e-13 rezultat: [ 4.00000052]\n",
      "Cord_Search f_value: 3.88888094092e-14 rezultat: [3.999999802797542]\n",
      "\n",
      "\n",
      "____f1____ starting point: [-1.9, 2]\n",
      "N-M f_value: 3.39555454326e-19 rezultat: [ 1.  1.]\n",
      "H-J f_value: 2.36352869577e-10 rezultat: [ 1.00000271  1.0000039 ]\n",
      "Cord_Search f_value: 5.66646112429 rezultat: [-1.3804329699200177, 1.9055954085682372]\n",
      "\n",
      "\n",
      "____f2____ starting point: [0.1, 0.3]\n",
      "N-M f_value: 5.94366223544e-19 rezultat: [ 4.  2.]\n",
      "H-J f_value: 4.82113409128e-10 rezultat: [ 4.00001269  1.99999104]\n",
      "Cord_Search f_value: 1.20031086512e-12 rezultat: [3.999999910071634, 1.9999994540550041]\n",
      "\n",
      "\n",
      "____f3____ starting point: [0.0, 0.0, 0.0, 0.0, 0.0]\n",
      "N-M f_value: 8.0550479486e-08 rezultat: [ 1.00020568  1.99999536  2.99987477  4.0001086   4.99989632]\n",
      "H-J f_value: 2.07918136829e-10 rezultat: [ 1.          2.          2.99998558  4.          5.        ]\n",
      "Cord_Search f_value: 5.30018981976e-13 rezultat: [0.9999996749646107, 1.9999995913053286, 2.9999997584178564, 3.9999996269094265, 4.99999975549819]\n",
      "\n",
      "\n",
      "____f4____ starting point: [5.1, 1.1]\n",
      "N-M f_value: 1.09152354582e-12 rezultat: [  3.50072124e-13  -1.03386322e-12]\n",
      "H-J f_value: 3.40731985655e-06 rezultat: [  2.40933898e-06   2.40933898e-06]\n",
      "Cord_Search f_value: 7.39310286574e-07 rezultat: [-4.6980296578194767e-07, -5.708457525256483e-07]\n",
      "\n",
      "\n",
      "____f4_3zad____ starting point: [5, 5]\n",
      "N-M f_value: 6.40274858284e-13 rezultat: [ -5.32220735e-13   3.55939579e-13]\n",
      "H-J f_value: 7.07106781187 rezultat: [ 5.  5.]\n",
      "Cord_Search f_value: 7.07106737485 rezultat: [4.999999690983006, 4.999999690983006]\n",
      "\n",
      "\n",
      "Best result for f6\n",
      "____f6____ starting point: [1.8999361108767445, -30.551899745112564]\n",
      "N-M f_value: -0.0208689841787 rezultat: [  1.94073346 -30.25135759]\n",
      "H-J f_value: -0.0208689832826 rezultat: [  0.92214251 -30.29957574]\n",
      "Cord_Search f_value: -0.0208689841787 rezultat: [-4.5499776814039226e-07, -30.313546667751247]\n",
      "\n"
     ]
    }
   ],
   "source": [
    "num_random = 20\n",
    "f6_start = []\n",
    "for i in range(num_random):\n",
    "    f6_start.append([np.random.uniform(-50,50),np.random.uniform(-50,50)])\n",
    "functions = [f_test,f1,f2,f3,f4,f4] + [f6]*num_random\n",
    "fun_names = [\"f1zad\",\"f1\",\"f2\",\"f3\",\"f4\",\"f4_3zad\"] + [\"f6\"] * num_random\n",
    "colors = [\"green\", \"red\", \"blue\", \"yellow\", \"pink\", \"purple\"] + [\"magenta\"] * num_random\n",
    "opt_names = [\"N-M\", \"H-J\",\"Cord_Search\"]\n",
    "opt_fun = [nelder_mead,hooke_jeeves,coordinate_search]\n",
    "starting_points=[[10.],[-1.9,2],[0.1,0.3],[0.,0.,0.,0.,0.],[5.1,1.1],[5,5]]+f6_start\n",
    "hooke_jeeves\n",
    "opt_num_calls = []\n",
    "results = {}\n",
    "for name in opt_names:\n",
    "    opt_num_calls.append([0]*len(functions))\n",
    "    results[name] = {}\n",
    "\n",
    "for i, fun in enumerate(functions):\n",
    "    for j,opt in enumerate(opt_fun):\n",
    "        Fun = Function(fun)\n",
    "        rez = opt(Fun,starting_points[i])\n",
    "        results[opt_names[j]][i] = rez\n",
    "        opt_num_calls[j][i] = Fun.calls\n",
    "\n",
    "f6_set_flag = False\n",
    "for i, fname in enumerate(opt_names):\n",
    "    plt.figure(figsize=(12,8))\n",
    "    for j,func_name in enumerate(fun_names):\n",
    "        if func_name == \"f6\":\n",
    "            if f6_set_flag == True:\n",
    "                plt.bar(j, opt_num_calls[i][j], width=0.4, color=colors[j], align=\"center\")\n",
    "                continue\n",
    "            else:\n",
    "                f6_set_flag = True\n",
    "        plt.bar(j, opt_num_calls[i][j], width=0.4, color=colors[j], align=\"center\", label= fun_names[j])\n",
    "        \n",
    "    plt.xticks(range(len(functions)), fun_names, rotation='horizontal')\n",
    "    plt.title(opt_names[i])\n",
    "    plt.legend(loc=\"best\")\n",
    "    plt.ylabel(\"Broj Poziva\")\n",
    "    plt.show()\n",
    "    \n",
    "best_f6_row = None\n",
    "best_value = None\n",
    "for i,func_name in enumerate(fun_names):\n",
    "    flag = False\n",
    "    row = \"____\"+func_name + \"____\"+\" starting point: \" + str(starting_points[i]) + '\\n'\n",
    "    for j, opt_name in enumerate(opt_names):\n",
    "        \n",
    "        row += opt_name + \" f_value: \" + str(functions[i](results[opt_name][i])) + \" rezultat: \" + str(results[opt_name][i]) +'\\n'\n",
    "        if (best_value == None or best_value > abs(functions[i](results[opt_name][i]))) and func_name == \"f6\":\n",
    "            best_value = abs(functions[i](results[opt_name][i]))\n",
    "            flag = True\n",
    "    if func_name == \"f6\" and flag:\n",
    "        best_f6_row = row\n",
    "        continue\n",
    "    elif func_name == \"f6\":\n",
    "        continue\n",
    "    print row\n",
    "    print\n",
    "    \n",
    "print \"Best result for f6\"\n",
    "print best_f6_row\n",
    "    "
   ]
  },
  {
   "cell_type": "markdown",
   "metadata": {},
   "source": [
    "# Funkcija f4"
   ]
  },
  {
   "cell_type": "code",
   "execution_count": 39,
   "metadata": {
    "collapsed": false
   },
   "outputs": [
    {
     "data": {
      "text/html": [
       "<iframe id=\"igraph\" scrolling=\"no\" style=\"border:none;\" seamless=\"seamless\" src=\"https://plot.ly/~Mungos/34.embed\" height=\"525px\" width=\"100%\"></iframe>"
      ],
      "text/plain": [
       "<plotly.tools.PlotlyDisplay object>"
      ]
     },
     "execution_count": 39,
     "metadata": {},
     "output_type": "execute_result"
    }
   ],
   "source": [
    "x = np.linspace(-10,10,num=100)\n",
    "x, y = np.meshgrid(x, x)\n",
    "grid = np.stack((x.flatten(), y.flatten())).transpose()\n",
    "points = list(grid)\n",
    "z1 = np.array(map(f4,points))\n",
    "z1 = z1.reshape(x.shape)\n",
    "\n",
    "py.iplot([dict(x=x,y=y,z=z1, type='surface')])"
   ]
  },
  {
   "cell_type": "markdown",
   "metadata": {},
   "source": [
    "# Funkcija f6"
   ]
  },
  {
   "cell_type": "code",
   "execution_count": 40,
   "metadata": {
    "collapsed": false
   },
   "outputs": [
    {
     "data": {
      "text/html": [
       "<iframe id=\"igraph\" scrolling=\"no\" style=\"border:none;\" seamless=\"seamless\" src=\"https://plot.ly/~Mungos/36.embed\" height=\"525px\" width=\"100%\"></iframe>"
      ],
      "text/plain": [
       "<plotly.tools.PlotlyDisplay object>"
      ]
     },
     "execution_count": 40,
     "metadata": {},
     "output_type": "execute_result"
    }
   ],
   "source": [
    "x = np.linspace(-10,10,num=100)\n",
    "x, y = np.meshgrid(x, x)\n",
    "grid = np.stack((x.flatten(), y.flatten())).transpose()\n",
    "points = list(grid)\n",
    "z1 = np.array(map(f6,points))\n",
    "z1 = z1.reshape(x.shape)\n",
    "\n",
    "py.iplot([dict(x=x,y=y,z=z1, type='surface')])"
   ]
  },
  {
   "cell_type": "code",
   "execution_count": null,
   "metadata": {
    "collapsed": true
   },
   "outputs": [],
   "source": []
  }
 ],
 "metadata": {
  "kernelspec": {
   "display_name": "Python 2",
   "language": "python",
   "name": "python2"
  },
  "language_info": {
   "codemirror_mode": {
    "name": "ipython",
    "version": 2
   },
   "file_extension": ".py",
   "mimetype": "text/x-python",
   "name": "python",
   "nbconvert_exporter": "python",
   "pygments_lexer": "ipython2",
   "version": "2.7.12"
  }
 },
 "nbformat": 4,
 "nbformat_minor": 1
}
