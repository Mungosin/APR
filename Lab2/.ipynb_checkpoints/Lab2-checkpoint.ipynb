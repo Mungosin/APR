{
 "cells": [
  {
   "cell_type": "code",
   "execution_count": 1,
   "metadata": {
    "collapsed": false
   },
   "outputs": [],
   "source": [
    "import math\n",
    "from copy import deepcopy\n",
    "import types"
   ]
  },
  {
   "cell_type": "markdown",
   "metadata": {},
   "source": [
    "## Helper functions"
   ]
  },
  {
   "cell_type": "code",
   "execution_count": 2,
   "metadata": {
    "collapsed": false
   },
   "outputs": [],
   "source": [
    "def is_numeric(x):\n",
    "    NumberTypes = (types.IntType, types.LongType, types.FloatType)\n",
    "    return isinstance(x, NumberTypes)\n",
    "\n",
    "class Function:\n",
    "    def __init__(self, func=None):\n",
    "        if func:\n",
    "            self.calls = 0\n",
    "            self.function = func\n",
    "\n",
    "    def evaluate(self,X):\n",
    "        self.calls+=1\n",
    "        return self.function(X)"
   ]
  },
  {
   "cell_type": "markdown",
   "metadata": {},
   "source": [
    "## Funkcije"
   ]
  },
  {
   "cell_type": "code",
   "execution_count": 32,
   "metadata": {
    "collapsed": false
   },
   "outputs": [],
   "source": [
    "def f_test(x):\n",
    "    if is_numeric(x):\n",
    "        return (x-4)**2\n",
    "    elif len(x) == 1:\n",
    "        return (x[0]-4)**2\n",
    "    else:\n",
    "        raise Exception(\"Argument passed needs to be a list with 1 element or a numeric type\")\n",
    "    \n",
    "def f1(x):\n",
    "    if len(x) != 2:\n",
    "        raise Exception(\"Argument needs to be a list with two elements\")\n",
    "    return 100*(x[1]-x[0]**2)**2 + (1-x[0])**2\n",
    "\n",
    "def f2(x):\n",
    "    if len(x) != 2:\n",
    "        raise Exception(\"Argument needs to be a list with two elements\")\n",
    "    return (x[0]-4.)**2 + 4.*(x[1]-2)**2\n",
    "\n",
    "def f3(x):\n",
    "    el_sum = 0\n",
    "    for i, element in enumerate(x):\n",
    "        el_sum+=(element-i-1)**2\n",
    "    return el_sum\n",
    "\n",
    "def f4(x):\n",
    "    if len(x) != 2:\n",
    "        raise Exception(\"Argument needs to be a list with two elements\")\n",
    "    return abs((x[0]-x[1])*(x[0]*x[1]))+ math.sqrt(x[0]**2+x[1]**2)\n",
    "\n",
    "def f6(x):\n",
    "    el_sum = 0\n",
    "    for el in x:\n",
    "        el_sum += el**2\n",
    "    return 0.5 +(math.sin(math.sqrt(el_sum)-0.5))/(1+0.001*el_sum)"
   ]
  },
  {
   "cell_type": "markdown",
   "metadata": {},
   "source": [
    "## Unimodal interval"
   ]
  },
  {
   "cell_type": "code",
   "execution_count": 17,
   "metadata": {
    "collapsed": false
   },
   "outputs": [],
   "source": [
    "def find_unimodal(starting_point, function, starting_step=1):\n",
    "    step = starting_step\n",
    "    current_point = starting_point\n",
    "    direction = 1\n",
    "    if function(current_point + step) >= function(current_point):\n",
    "        direction=-1\n",
    "    next_point = current_point + direction*step\n",
    "    cnt = 1\n",
    "    previous_point = current_point\n",
    "    while function(current_point) > function(next_point):\n",
    "        previous_point = current_point\n",
    "        current_point = next_point\n",
    "        next_point = starting_point + direction * (2**cnt) * step\n",
    "        cnt+=1\n",
    "    \n",
    "    if previous_point > next_point:\n",
    "        return next_point, previous_point\n",
    "    return previous_point, next_point"
   ]
  },
  {
   "cell_type": "markdown",
   "metadata": {},
   "source": [
    "## Golden section search"
   ]
  },
  {
   "cell_type": "code",
   "execution_count": 18,
   "metadata": {
    "collapsed": true
   },
   "outputs": [],
   "source": [
    "def golden_section_search(f,starting_point = None, a=None,b=None,eps=1, verbose = False):\n",
    "    if starting_point != None:\n",
    "        a,b = find_unimodal(starting_point,f.evaluate,eps)\n",
    "    elif a==None or b== None:\n",
    "        raise Exception(\"Starting point or unimodal interval needs to be given\")\n",
    "    \n",
    "    if verbose:\n",
    "        print \"Searching in interval [%f, %f]\" % (a,b)\n",
    "    \n",
    "    \n",
    "    fi = (math.sqrt(5.0) - 1.0)/2\n",
    "    c = b - (b - a)*fi\n",
    "    d = a + (b - a)*fi\n",
    "    while (b - a) > eps:\n",
    "        c_score, d_score = f.evaluate(c),f.evaluate(d)\n",
    "        if verbose:\n",
    "            print \"|a = %.3f|c = %.3f|d = %.3f|b = %.3f|f(c) = %.3f|f(d) = %.3f|f(c) > f(d) = %s\" %(a,c,d,b,c_score,d_score, c_score>d_score)\n",
    "        if c_score >= d_score:\n",
    "            a = c\n",
    "            c = d\n",
    "            d = a + (b - a)*fi\n",
    "        else:\n",
    "            b = d\n",
    "            d = c\n",
    "            c = b - (b - a)*fi\n",
    "    if verbose:\n",
    "        print ''\n",
    "        print \"Final interval = [\",a,\", \", b,\"]\"\n",
    "    return (a+b)/2."
   ]
  },
  {
   "cell_type": "markdown",
   "metadata": {},
   "source": [
    "## Coordinate descend"
   ]
  },
  {
   "cell_type": "code",
   "execution_count": 22,
   "metadata": {
    "collapsed": false
   },
   "outputs": [],
   "source": [
    "def coordinate_search(starting_point, epsilon_vector, function):\n",
    "    if len(starting_point) != len(epsilon_vector):\n",
    "        raise Exception(\"Point vector and epsilon vector need to be the same dimension\")\n",
    "        \n",
    "    coordinate_changed = [False]*len(starting_point)\n",
    "    min_point = deepcopy(starting_point)\n",
    "    reset_flag = lambda x: False\n",
    "    \n",
    "    cnt = 10\n",
    "    while any(flag == False for flag in coordinate_changed):\n",
    "        coordinate_changed = map(reset_flag, coordinate_changed)\n",
    "        \n",
    "        def function_1D_wrapper(function,index, array):\n",
    "            cpy = deepcopy(array)\n",
    "            class Decorator:\n",
    "                def __init__(self,cpy,index,function):\n",
    "                    self.index = index\n",
    "                    self.cpy = cpy\n",
    "                    self.function = function\n",
    "                    \n",
    "                def evaluate(self,x):\n",
    "                    self.cpy[self.index] = x\n",
    "                    return self.function.evaluate(cpy)\n",
    "            return Decorator(cpy,index,function)\n",
    "        \n",
    "        for i,coord in enumerate(min_point):\n",
    "            func_1D = function_1D_wrapper(function, i, min_point)\n",
    "            new_coord = golden_section_search(func_1D, coord, eps = epsilon_vector[i])\n",
    "            min_point[i] = new_coord\n",
    "            #print new_coord\n",
    "            if abs(coord-new_coord)<= epsilon_vector[i]:\n",
    "                coordinate_changed[i] = True\n",
    "        cnt-=1\n",
    "        if cnt<0:\n",
    "            break\n",
    "        print min_point\n",
    "    return min_point"
   ]
  },
  {
   "cell_type": "markdown",
   "metadata": {},
   "source": [
    "# Nelder i Mead simpleks"
   ]
  },
  {
   "cell_type": "code",
   "execution_count": 36,
   "metadata": {
    "collapsed": false
   },
   "outputs": [
    {
     "name": "stdout",
     "output_type": "stream",
     "text": [
      "...best so far: 27.6572789843\n",
      "...best so far: 25.8803342714\n",
      "...best so far: 22.9195632346\n",
      "...best so far: 14.7817457107\n",
      "...best so far: 7.31366163022\n",
      "...best so far: 7.31366163022\n",
      "...best so far: 7.31366163022\n",
      "...best so far: 7.31366163022\n",
      "...best so far: 7.31366163022\n",
      "...best so far: 5.6735445986\n",
      "...best so far: 5.6735445986\n",
      "...best so far: 5.6735445986\n",
      "...best so far: 5.35812179532\n",
      "...best so far: 5.35812179532\n",
      "...best so far: 5.35812179532\n",
      "...best so far: 5.34211583782\n",
      "...best so far: 5.32976901987\n",
      "...best so far: 5.27954602621\n",
      "...best so far: 5.27954602621\n",
      "...best so far: 5.21756271663\n",
      "...best so far: 5.21296385315\n",
      "...best so far: 5.2065913299\n",
      "...best so far: 5.16125509008\n",
      "...best so far: 5.12422705588\n",
      "...best so far: 5.09427219256\n",
      "...best so far: 4.88963502858\n",
      "...best so far: 4.88963502858\n",
      "...best so far: 4.46484180904\n",
      "...best so far: 4.46484180904\n",
      "...best so far: 3.62823616393\n",
      "...best so far: 3.15301018708\n",
      "...best so far: 1.03010415215\n",
      "...best so far: 0.802616000078\n",
      "...best so far: 0.802616000078\n",
      "...best so far: 0.644776728761\n",
      "...best so far: 0.149037133385\n",
      "...best so far: 0.149037133385\n",
      "...best so far: 0.149037133385\n",
      "...best so far: 0.139917156217\n",
      "...best so far: 0.0454287641823\n",
      "...best so far: 0.0454287641823\n",
      "...best so far: 0.0454287641823\n",
      "...best so far: 0.0342917547554\n",
      "...best so far: 0.0341403449436\n",
      "...best so far: 0.0337418926117\n",
      "...best so far: 0.0259026810261\n",
      "...best so far: 0.0259026810261\n",
      "...best so far: 0.0258250241893\n",
      "...best so far: 0.0144938052322\n",
      "...best so far: 0.0144938052322\n",
      "...best so far: 0.0113297521705\n",
      "...best so far: 0.00821313196989\n",
      "...best so far: 0.00444989978604\n",
      "...best so far: 0.00444989978604\n",
      "...best so far: 0.00318170293249\n",
      "...best so far: 0.00222771171333\n",
      "...best so far: 0.00130708826541\n",
      "...best so far: 0.00130708826541\n",
      "...best so far: 0.000650231357293\n",
      "...best so far: 0.000339297270867\n",
      "...best so far: 0.000339297270867\n",
      "...best so far: 0.000336871163069\n",
      "...best so far: 0.00027333865771\n",
      "...best so far: 6.65793509031e-05\n",
      "...best so far: 6.65793509031e-05\n",
      "...best so far: 6.65793509031e-05\n",
      "...best so far: 6.65793509031e-05\n",
      "...best so far: 6.45958598541e-05\n",
      "...best so far: 4.48555853285e-05\n",
      "...best so far: 8.07804782628e-06\n",
      "...best so far: 8.07804782628e-06\n",
      "...best so far: 8.07804782628e-06\n",
      "...best so far: 8.07804782628e-06\n",
      "...best so far: 8.07804782628e-06\n",
      "...best so far: 8.07804782628e-06\n",
      "...best so far: 3.94831933212e-06\n",
      "...best so far: 3.94831933212e-06\n",
      "...best so far: 3.87750816709e-06\n",
      "...best so far: 2.27737330424e-06\n",
      "...best so far: 9.33726790533e-07\n",
      "[array([  1.44717947e-07,   9.22443730e-07]), 9.3372679053259043e-07]\n"
     ]
    }
   ],
   "source": [
    "def nelder_mead(f, x_start,\n",
    "                step=0.1, no_improve_thr=10e-6,\n",
    "                no_improv_break=10, max_iter=0,\n",
    "                alpha=1., gamma=2., rho=-0.5, sigma=0.5):\n",
    "    \n",
    "    dim = len(x_start)\n",
    "    prev_best = f.evaluate(x_start)\n",
    "    no_improv = 0\n",
    "    x_start = np.array(x_start)\n",
    "    res = [[x_start, prev_best]]\n",
    "\n",
    "    for i in range(dim):\n",
    "        x = deepcopy(x_start)\n",
    "        x[i] = x[i] + step\n",
    "        score = f.evaluate(x)\n",
    "        res.append([x, score])\n",
    "\n",
    "    # simplex iter\n",
    "    iters = 0\n",
    "    while 1:\n",
    "        # order\n",
    "        res.sort(key=lambda x: x[1])\n",
    "        best = res[0][1]\n",
    "\n",
    "        # break after max_iter\n",
    "        if max_iter and iters >= max_iter:\n",
    "            return res[0]\n",
    "        iters += 1\n",
    "\n",
    "        # break after no_improv_break iterations with no improvement\n",
    "        print '...best so far:', best\n",
    "\n",
    "        if best < prev_best - no_improve_thr:\n",
    "            no_improv = 0\n",
    "            prev_best = best\n",
    "        else:\n",
    "            no_improv += 1\n",
    "\n",
    "        if no_improv >= no_improv_break:\n",
    "            return res[0]\n",
    "\n",
    "        # centroid\n",
    "        x0 = [0.] * dim\n",
    "        for tup in res[:-1]:\n",
    "            for i, c in enumerate(tup[0]):\n",
    "                x0[i] += c / (len(res)-1)\n",
    "        \n",
    "        # reflection\n",
    "        xr = x0 + alpha*(x0 - res[-1][0])\n",
    "        rscore = f.evaluate(xr)\n",
    "        if rscore < res[0][1]:\n",
    "            xe = x0 + gamma*(x0 - res[-1][0])\n",
    "            escore = f.evaluate(xe)\n",
    "            if escore < res[0][1]:\n",
    "                del res[-1]\n",
    "                res.append([xe, escore])\n",
    "                continue\n",
    "            else:\n",
    "                del res[-1]\n",
    "                res.append([xr, rscore])\n",
    "                continue\n",
    "        else:\n",
    "            if rscore > res[-2][1]:\n",
    "                if rscore < res[-1][1]:\n",
    "                    del res[-1]\n",
    "                    res.append([xr, rscore])\n",
    "                # contraction\n",
    "                xc = x0 + rho*(x0 - res[-1][0])\n",
    "                cscore = f.evaluate(xc)\n",
    "                if cscore < res[-1][1]:\n",
    "                    del res[-1]\n",
    "                    res.append([xc, cscore])\n",
    "                    continue\n",
    "                else:\n",
    "                    # reduction\n",
    "                    x1 = res[0][0]\n",
    "                    nres = []\n",
    "                    for tup in res:\n",
    "                        redx = x1 + sigma*(tup[0] - x1)\n",
    "                        score = f.evaluate(redx)\n",
    "                        nres.append([redx, score])\n",
    "                    res = nres\n",
    "            else:\n",
    "                del res[-1]\n",
    "                res.append([xr, rscore])\n",
    "\n",
    "\n",
    "if __name__ == \"__main__\":\n",
    "    import math\n",
    "    import numpy as np\n",
    "\n",
    "    def f(x):\n",
    "        return math.sin(x[0]) * math.cos(x[1]) * (1. / (abs(x[2]) + 1))\n",
    "    fun = Function(f4)\n",
    "    print nelder_mead(fun, [5.1,1.1])"
   ]
  },
  {
   "cell_type": "markdown",
   "metadata": {},
   "source": [
    "# Hooke-Jeeves"
   ]
  },
  {
   "cell_type": "code",
   "execution_count": 8,
   "metadata": {
    "collapsed": false
   },
   "outputs": [
    {
     "name": "stdout",
     "output_type": "stream",
     "text": [
      "Iteration 0 base_point = [ 0.  0.]\n",
      "Iteration 1 base_point = [ 1.  1.]\n",
      "Iteration 2 base_point = [ 3.  3.]\n",
      "Iteration 3 base_point = [ 3.  3.]\n",
      "Iteration 4 base_point = [ 3.95  2.05]\n",
      "Iteration 5 base_point = [ 3.95  2.05]\n",
      "Iteration 6 base_point = [ 3.95  2.05]\n",
      "Iteration 7 base_point = [ 3.95  2.05]\n",
      "Iteration 8 base_point = [ 3.95  2.05]\n",
      "Iteration 9 base_point = [ 3.95  2.05]\n",
      "Iteration 10 base_point = [ 3.95  2.05]\n",
      "Iteration 11 base_point = [ 3.95  2.05]\n",
      "Iteration 12 base_point = [ 3.95  2.05]\n",
      "Iteration 13 base_point = [ 3.95  2.05]\n",
      "Iteration 14 base_point = [ 3.95  2.05]\n",
      "Iteration 15 base_point = [ 3.95  2.05]\n",
      "Iteration 16 base_point = [ 3.95  2.05]\n",
      "Iteration 17 base_point = [ 3.95  2.05]\n",
      "Iteration 18 base_point = [ 3.95  2.05]\n",
      "Iteration 19 base_point = [ 3.95  2.05]\n",
      "Iteration 20 base_point = [ 3.95  2.05]\n",
      "Iteration 21 base_point = [ 3.95  2.05]\n",
      "Iteration 22 base_point = [ 3.95  2.05]\n",
      "Iteration 23 base_point = [ 3.95  2.05]\n",
      "Iteration 24 base_point = [ 3.95  2.05]\n",
      "Iteration 25 base_point = [ 3.95  2.05]\n",
      "Iteration 26 base_point = [ 3.95  2.05]\n",
      "Iteration 27 base_point = [ 3.95  2.05]\n",
      "Iteration 28 base_point = [ 3.95  2.05]\n",
      "Iteration 29 base_point = [ 3.95  2.05]\n",
      "Iteration 30 base_point = [ 3.95  2.05]\n",
      "Iteration 31 base_point = [ 3.95  2.05]\n",
      "Iteration 32 base_point = [ 3.95  2.05]\n",
      "Iteration 33 base_point = [ 3.95  2.05]\n",
      "Iteration 34 base_point = [ 3.95  2.05]\n",
      "Iteration 35 base_point = [ 3.95  2.05]\n",
      "Iteration 36 base_point = [ 3.95  2.05]\n",
      "Iteration 37 base_point = [ 3.95  2.05]\n",
      "Iteration 38 base_point = [ 3.95  2.05]\n",
      "Iteration 39 base_point = [ 3.95  2.05]\n",
      "Iteration 40 base_point = [ 3.95  2.05]\n",
      "Iteration 41 base_point = [ 3.95  2.05]\n",
      "Iteration 42 base_point = [ 3.95  2.05]\n",
      "Iteration 43 base_point = [ 3.95  2.05]\n",
      "Iteration 44 base_point = [ 3.95  2.05]\n",
      "Iteration 45 base_point = [ 3.95  2.05]\n",
      "Iteration 46 base_point = [ 3.95  2.05]\n",
      "Iteration 47 base_point = [ 3.95  2.05]\n",
      "Iteration 48 base_point = [ 3.95  2.05]\n",
      "Iteration 49 base_point = [ 4.04944026  1.95055974]\n",
      "Iteration 50 base_point = [ 4.04944026  1.95055974]\n",
      "Iteration 51 base_point = [ 3.95497201  2.04502799]\n",
      "Iteration 52 base_point = [ 3.95497201  2.04502799]\n",
      "Iteration 53 base_point = [ 4.04471684  1.95528316]\n"
     ]
    },
    {
     "name": "stderr",
     "output_type": "stream",
     "text": [
      "/usr/local/lib/python2.7/site-packages/numpy/core/_methods.py:41: VisibleDeprecationWarning: using a boolean instead of an integer will result in an error in the future\n",
      "  return umr_all(a, axis, dtype, out, keepdims)\n"
     ]
    },
    {
     "data": {
      "text/plain": [
       "array([ 4.04471684,  1.95528316])"
      ]
     },
     "execution_count": 8,
     "metadata": {},
     "output_type": "execute_result"
    }
   ],
   "source": [
    "def hooke_jeeves(starting_point,function,search_direction,decay_coeff=0.95,epsilon=None,max_iter = 0, verbose=False):\n",
    "    \n",
    "    iters = 0\n",
    "    dX = np.array(search_direction).astype(np.float64)\n",
    "    if epsilon == None:\n",
    "        epsilon = np.array([1e-6]*len(starting_point))\n",
    "    else:\n",
    "        epsilon = np.array(epsilon)\n",
    "    search_point = deepcopy(np.array(starting_point))\n",
    "    base_point = deepcopy(np.array(starting_point))\n",
    "    base_point_score = function.evaluate(base_point)\n",
    "    while True:\n",
    "        if verbose:\n",
    "            print \"Iteration %s base_point = %s\" % (iters, base_point)\n",
    "        if max_iter and iters >= max_iter:\n",
    "            return base_point\n",
    "        new_point = istrazi(search_point, function, dX)\n",
    "        new_point_score = function.evaluate(new_point)\n",
    "        if new_point_score < base_point_score:\n",
    "            search_point = 2 * new_point - base_point\n",
    "            if (abs(base_point-new_point)<epsilon).all(False):\n",
    "                return base_point\n",
    "            base_point = deepcopy(new_point)\n",
    "            base_point_score = function.evaluate(base_point)\n",
    "        else:\n",
    "            dX *=decay_coeff\n",
    "            search_point = deepcopy(base_point)\n",
    "        iters+=1\n",
    "    pass\n",
    "\n",
    "def istrazi(point,fun, search_direction):\n",
    "    x = deepcopy(point)\n",
    "    dim = len(x)\n",
    "    for i in range(dim):\n",
    "        temp = fun.evaluate(x)\n",
    "        x[i]+=search_direction[i]\n",
    "        new = fun.evaluate(x)\n",
    "        if new > temp:\n",
    "            x[i]-=search_direction[i]*2\n",
    "            new = fun.evaluate(x)\n",
    "            if new > temp:\n",
    "                x[i] += x[i] + search_direction[i]\n",
    "    return x\n",
    "\n",
    "fun = Function(f1)\n",
    "hooke_jeeves([0.,0.],fun,[1,1], verbose=True)"
   ]
  },
  {
   "cell_type": "code",
   "execution_count": 19,
   "metadata": {
    "collapsed": false
   },
   "outputs": [
    {
     "name": "stdout",
     "output_type": "stream",
     "text": [
      "Searching in interval [2.000000, 8.000000]\n",
      "|a = 2.000|c = 4.292|d = 5.708|b = 8.000|f(c) = 0.085|f(d) = 2.918|f(c) > f(d) = False\n",
      "|a = 2.000|c = 3.416|d = 4.292|b = 5.708|f(c) = 0.341|f(d) = 0.085|f(c) > f(d) = True\n",
      "|a = 3.416|c = 4.292|d = 4.833|b = 5.708|f(c) = 0.085|f(d) = 0.694|f(c) > f(d) = False\n",
      "|a = 3.416|c = 3.957|d = 4.292|b = 4.833|f(c) = 0.002|f(d) = 0.085|f(c) > f(d) = False\n",
      "\n",
      "Final interval = [ 3.416407865 ,  4.2917960675 ]\n",
      "3.85410196625\n"
     ]
    }
   ],
   "source": [
    "fun = Function(f_test)\n",
    "print golden_section_search(fun,a=2,b=8,eps=1, verbose = True)"
   ]
  },
  {
   "cell_type": "code",
   "execution_count": 23,
   "metadata": {
    "collapsed": false
   },
   "outputs": [
    {
     "name": "stdout",
     "output_type": "stream",
     "text": [
      "[4.000000219088628, 1.9999999540550042]\n",
      "[3.999999910071634, 1.9999994540550041]\n",
      "[3.999999910071634, 1.9999994540550041]\n"
     ]
    }
   ],
   "source": [
    "fun = Function(f1)\n",
    "print coordinate_search([0.1,0.3],[1e-6,1e-6],fun)"
   ]
  },
  {
   "cell_type": "code",
   "execution_count": null,
   "metadata": {
    "collapsed": true
   },
   "outputs": [],
   "source": []
  }
 ],
 "metadata": {
  "kernelspec": {
   "display_name": "Python 2",
   "language": "python",
   "name": "python2"
  },
  "language_info": {
   "codemirror_mode": {
    "name": "ipython",
    "version": 2
   },
   "file_extension": ".py",
   "mimetype": "text/x-python",
   "name": "python",
   "nbconvert_exporter": "python",
   "pygments_lexer": "ipython2",
   "version": "2.7.12"
  }
 },
 "nbformat": 4,
 "nbformat_minor": 1
}
