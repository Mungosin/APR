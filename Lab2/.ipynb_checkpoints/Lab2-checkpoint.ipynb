{
 "cells": [
  {
   "cell_type": "code",
   "execution_count": 44,
   "metadata": {
    "collapsed": false
   },
   "outputs": [],
   "source": [
    "import math\n",
    "from copy import deepcopy\n",
    "import types"
   ]
  },
  {
   "cell_type": "markdown",
   "metadata": {},
   "source": [
    "## Helper functions"
   ]
  },
  {
   "cell_type": "code",
   "execution_count": 46,
   "metadata": {
    "collapsed": false
   },
   "outputs": [],
   "source": [
    "def is_numeric(x):\n",
    "    NumberTypes = (types.IntType, types.LongType, types.FloatType)\n",
    "    return isinstance(x, NumberTypes)"
   ]
  },
  {
   "cell_type": "markdown",
   "metadata": {},
   "source": [
    "## Funkcije"
   ]
  },
  {
   "cell_type": "code",
   "execution_count": 57,
   "metadata": {
    "collapsed": false
   },
   "outputs": [],
   "source": [
    "def f_test(x):\n",
    "    if is_numeric(x):\n",
    "        return (x-4)**2\n",
    "    elif len(x) == 1:\n",
    "        return (x[0]-4)**2\n",
    "    else:\n",
    "        raise Exception(\"Argument passed needs to be a list with 1 element or a numeric type\")\n",
    "        \n",
    "def f1(x):\n",
    "    if len(x) != 2:\n",
    "        raise Exception(\"Argument needs to be a list with two elements\")\n",
    "    return (x[0]-4.)**2 + 4.*(x[1]-2)**2"
   ]
  },
  {
   "cell_type": "markdown",
   "metadata": {},
   "source": [
    "## Unimodal interval"
   ]
  },
  {
   "cell_type": "code",
   "execution_count": 33,
   "metadata": {
    "collapsed": false
   },
   "outputs": [],
   "source": [
    "def find_unimodal(starting_point, function, starting_step=1):\n",
    "    step = starting_step\n",
    "    current_point = starting_point\n",
    "    direction = 1\n",
    "    if function(current_point + step) >= function(current_point):\n",
    "        direction=-1\n",
    "    next_point = current_point + direction*step\n",
    "    cnt = 1\n",
    "    previous_point = current_point\n",
    "    while function(current_point) > function(next_point):\n",
    "        previous_point = current_point\n",
    "        current_point = next_point\n",
    "        next_point = starting_point + direction * (2**cnt) * step\n",
    "        cnt+=1\n",
    "    \n",
    "    if previous_point > next_point:\n",
    "        return next_point, previous_point\n",
    "    return previous_point, next_point"
   ]
  },
  {
   "cell_type": "markdown",
   "metadata": {},
   "source": [
    "## Golden section search"
   ]
  },
  {
   "cell_type": "code",
   "execution_count": 34,
   "metadata": {
    "collapsed": true
   },
   "outputs": [],
   "source": [
    "def golden_section_search(f,starting_point = None, a=None,b=None,eps=1, verbose = False):\n",
    "    if starting_point != None:\n",
    "        a,b = find_unimodal(starting_point,f,eps)\n",
    "    elif a==None or b== None:\n",
    "        raise Exception(\"Starting point or unimodal interval needs to be given\")\n",
    "    \n",
    "    if verbose:\n",
    "        print \"Searching in interval [%f, %f]\" % (a,b)\n",
    "    \n",
    "    \n",
    "    fi = (math.sqrt(5.0) - 1.0)/2\n",
    "    c = b - (b - a)*fi\n",
    "    d = a + (b - a)*fi\n",
    "    while (b - a) > eps:\n",
    "        if verbose:\n",
    "            print \"|a = %.3f|c = %.3f|d = %.3f|b = %.3f|f(c) = %.3f|f(d) = %.3f|f(c) > f(d) = %s\" %(a,c,d,b,f(c),f(d), f(c)>f(d))\n",
    "        if f(c) >= f(d):\n",
    "            a = c\n",
    "            c = d\n",
    "            d = a + (b - a)*fi\n",
    "        else:\n",
    "            b = d\n",
    "            d = c\n",
    "            c = b - (b - a)*fi\n",
    "    if verbose:\n",
    "        print ''\n",
    "        print \"Final interval = [\",a,\", \", b,\"]\"\n",
    "    return (a+b)/2."
   ]
  },
  {
   "cell_type": "markdown",
   "metadata": {},
   "source": [
    "## Coordinate descend"
   ]
  },
  {
   "cell_type": "code",
   "execution_count": 41,
   "metadata": {
    "collapsed": false
   },
   "outputs": [],
   "source": [
    "def coordinate_search(starting_point, epsilon_vector, function):\n",
    "    if len(starting_point) != len(epsilon_vector):\n",
    "        raise Exception(\"Point vector and epsilon vector need to be the same dimension\")\n",
    "        \n",
    "    coordinate_changed = [False]*len(starting_point)\n",
    "    min_point = deepcopy(starting_point)\n",
    "    reset_flag = lambda x: False\n",
    "    \n",
    "    cnt = 10\n",
    "    while any(flag == False for flag in coordinate_changed):\n",
    "        coordinate_changed = map(reset_flag, coordinate_changed)\n",
    "        \n",
    "        def function_1D_wrapper(function,index, array):\n",
    "            cpy = deepcopy(array)\n",
    "            def func_1D(x):\n",
    "                cpy[index] = x\n",
    "                return function(cpy)\n",
    "            return func_1D\n",
    "        \n",
    "        for i,coord in enumerate(min_point):\n",
    "            func_1D = function_1D_wrapper(function, i, min_point)\n",
    "            new_coord = golden_section_search(func_1D, coord, eps = epsilon_vector[i])\n",
    "            min_point[i] = new_coord\n",
    "            #print new_coord\n",
    "            if abs(coord-new_coord)<= epsilon_vector[i]:\n",
    "                coordinate_changed[i] = True\n",
    "        cnt-=1\n",
    "        if cnt<0:\n",
    "            break\n",
    "        print min_point\n",
    "    return min_point"
   ]
  },
  {
   "cell_type": "code",
   "execution_count": 56,
   "metadata": {
    "collapsed": false
   },
   "outputs": [
    {
     "name": "stdout",
     "output_type": "stream",
     "text": [
      "Searching in interval [3.771072, 4.164288]\n",
      "|a = 3.771|c = 3.921|d = 4.014|b = 4.164|f(c) = 0.006|f(d) = 0.000|f(c) > f(d) = True\n",
      "|a = 3.921|c = 4.014|d = 4.071|b = 4.164|f(c) = 0.000|f(d) = 0.005|f(c) > f(d) = False\n",
      "|a = 3.921|c = 3.979|d = 4.014|b = 4.071|f(c) = 0.000|f(d) = 0.000|f(c) > f(d) = True\n",
      "|a = 3.979|c = 4.014|d = 4.036|b = 4.071|f(c) = 0.000|f(d) = 0.001|f(c) > f(d) = False\n",
      "|a = 3.979|c = 4.001|d = 4.014|b = 4.036|f(c) = 0.000|f(d) = 0.000|f(c) > f(d) = False\n",
      "|a = 3.979|c = 3.992|d = 4.001|b = 4.014|f(c) = 0.000|f(d) = 0.000|f(c) > f(d) = True\n",
      "|a = 3.992|c = 4.001|d = 4.006|b = 4.014|f(c) = 0.000|f(d) = 0.000|f(c) > f(d) = False\n",
      "|a = 3.992|c = 3.997|d = 4.001|b = 4.006|f(c) = 0.000|f(d) = 0.000|f(c) > f(d) = True\n",
      "|a = 3.997|c = 4.001|d = 4.003|b = 4.006|f(c) = 0.000|f(d) = 0.000|f(c) > f(d) = False\n",
      "|a = 3.997|c = 3.999|d = 4.001|b = 4.003|f(c) = 0.000|f(d) = 0.000|f(c) > f(d) = True\n",
      "|a = 3.999|c = 4.001|d = 4.001|b = 4.003|f(c) = 0.000|f(d) = 0.000|f(c) > f(d) = False\n",
      "|a = 3.999|c = 4.000|d = 4.001|b = 4.001|f(c) = 0.000|f(d) = 0.000|f(c) > f(d) = False\n",
      "|a = 3.999|c = 4.000|d = 4.000|b = 4.001|f(c) = 0.000|f(d) = 0.000|f(c) > f(d) = True\n",
      "|a = 4.000|c = 4.000|d = 4.000|b = 4.001|f(c) = 0.000|f(d) = 0.000|f(c) > f(d) = False\n",
      "|a = 4.000|c = 4.000|d = 4.000|b = 4.000|f(c) = 0.000|f(d) = 0.000|f(c) > f(d) = False\n",
      "|a = 4.000|c = 4.000|d = 4.000|b = 4.000|f(c) = 0.000|f(d) = 0.000|f(c) > f(d) = True\n",
      "|a = 4.000|c = 4.000|d = 4.000|b = 4.000|f(c) = 0.000|f(d) = 0.000|f(c) > f(d) = True\n",
      "|a = 4.000|c = 4.000|d = 4.000|b = 4.000|f(c) = 0.000|f(d) = 0.000|f(c) > f(d) = False\n",
      "|a = 4.000|c = 4.000|d = 4.000|b = 4.000|f(c) = 0.000|f(d) = 0.000|f(c) > f(d) = False\n",
      "|a = 4.000|c = 4.000|d = 4.000|b = 4.000|f(c) = 0.000|f(d) = 0.000|f(c) > f(d) = True\n",
      "|a = 4.000|c = 4.000|d = 4.000|b = 4.000|f(c) = 0.000|f(d) = 0.000|f(c) > f(d) = False\n",
      "|a = 4.000|c = 4.000|d = 4.000|b = 4.000|f(c) = 0.000|f(d) = 0.000|f(c) > f(d) = True\n",
      "|a = 4.000|c = 4.000|d = 4.000|b = 4.000|f(c) = 0.000|f(d) = 0.000|f(c) > f(d) = False\n",
      "|a = 4.000|c = 4.000|d = 4.000|b = 4.000|f(c) = 0.000|f(d) = 0.000|f(c) > f(d) = True\n",
      "|a = 4.000|c = 4.000|d = 4.000|b = 4.000|f(c) = 0.000|f(d) = 0.000|f(c) > f(d) = True\n",
      "|a = 4.000|c = 4.000|d = 4.000|b = 4.000|f(c) = 0.000|f(d) = 0.000|f(c) > f(d) = False\n",
      "|a = 4.000|c = 4.000|d = 4.000|b = 4.000|f(c) = 0.000|f(d) = 0.000|f(c) > f(d) = True\n",
      "\n",
      "Final interval = [ 3.99999974985 ,  4.00000064515 ]\n",
      "4.0000001975\n"
     ]
    }
   ],
   "source": [
    "print golden_section_search(f_test,starting_point=3.64,eps=1e-6, verbose = True)"
   ]
  },
  {
   "cell_type": "code",
   "execution_count": 59,
   "metadata": {
    "collapsed": false
   },
   "outputs": [
    {
     "name": "stdout",
     "output_type": "stream",
     "text": [
      "[4.000000219088628, 1.9999999540550042]\n",
      "[3.999999910071634, 1.9999994540550041]\n",
      "[3.999999910071634, 1.9999994540550041]\n"
     ]
    }
   ],
   "source": [
    "print coordinate_search([0.1,0.3],[1e-6,1e-6],f1)"
   ]
  },
  {
   "cell_type": "code",
   "execution_count": null,
   "metadata": {
    "collapsed": true
   },
   "outputs": [],
   "source": []
  }
 ],
 "metadata": {
  "kernelspec": {
   "display_name": "Python 2",
   "language": "python",
   "name": "python2"
  }
 },
 "nbformat": 4,
 "nbformat_minor": 1
}
