{
 "cells": [
  {
   "cell_type": "code",
   "execution_count": 1,
   "metadata": {
    "collapsed": false
   },
   "outputs": [],
   "source": [
    "import math\n",
    "from copy import deepcopy\n",
    "import numpy as np\n",
    "import types\n",
    "import pylab\n",
    "import matplotlib.pyplot as plt\n",
    "import plotly.plotly as py\n",
    "from plotly.graph_objs import Surface\n",
    "import plotly.tools as tls\n",
    "tls.set_credentials_file(username='Mungos', api_key='mcnflyescl')"
   ]
  },
  {
   "cell_type": "markdown",
   "metadata": {},
   "source": [
    "## Helper functions"
   ]
  },
  {
   "cell_type": "code",
   "execution_count": 2,
   "metadata": {
    "collapsed": false
   },
   "outputs": [],
   "source": [
    "def is_numeric(x):\n",
    "    NumberTypes = (types.IntType, types.LongType, types.FloatType)\n",
    "    return isinstance(x, NumberTypes)\n",
    "\n",
    "class Function:\n",
    "    def __init__(self, func=None):\n",
    "        if func:\n",
    "            self.calls = 0\n",
    "            self.function = func\n",
    "\n",
    "    def evaluate(self,X):\n",
    "        self.calls+=1\n",
    "        return self.function(X)"
   ]
  },
  {
   "cell_type": "markdown",
   "metadata": {},
   "source": [
    "## Funkcije"
   ]
  },
  {
   "cell_type": "code",
   "execution_count": 15,
   "metadata": {
    "collapsed": false
   },
   "outputs": [],
   "source": [
    "def f_simple(x):\n",
    "    if is_numeric(x):\n",
    "        return (x-3)**2\n",
    "    elif len(x) == 1:\n",
    "        return (x[0]-3)**2\n",
    "    else:\n",
    "        raise Exception(\"Argument passed needs to be a list with 1 element or a numeric type\")\n",
    "    \n",
    "def f1(x):\n",
    "    if len(x) != 2:\n",
    "        raise Exception(\"Argument needs to be a list with two elements\")\n",
    "    return 100*(x[1]-x[0]**2)**2 + (1-x[0])**2\n",
    "\n",
    "def f2(x):\n",
    "    if len(x) != 2:\n",
    "        raise Exception(\"Argument needs to be a list with two elements\")\n",
    "    return (x[0]-4.)**2 + 4.*(x[1]-2)**2\n",
    "\n",
    "def f3(x):\n",
    "    el_sum = 0\n",
    "    for i, element in enumerate(x):\n",
    "        el_sum+=(element-i-1)**2\n",
    "    return el_sum\n",
    "\n",
    "def f4(x):\n",
    "    if len(x) != 2:\n",
    "        raise Exception(\"Argument needs to be a list with two elements\")\n",
    "    return abs((x[0]-x[1])*(x[0]+x[1]))+ math.sqrt(x[0]**2+x[1]**2)\n",
    "\n",
    "def f6(x):\n",
    "    el_sum = 0\n",
    "    for el in x:\n",
    "        el_sum += el**2\n",
    "    return 0.5 +(math.sin(math.sqrt(el_sum)-0.5))/(1+0.001*el_sum)"
   ]
  },
  {
   "cell_type": "markdown",
   "metadata": {},
   "source": [
    "## Unimodal interval"
   ]
  },
  {
   "cell_type": "code",
   "execution_count": 4,
   "metadata": {
    "collapsed": false
   },
   "outputs": [],
   "source": [
    "def find_unimodal(starting_point, function, starting_step=1):\n",
    "    step = starting_step\n",
    "    current_point = starting_point\n",
    "    direction = 1\n",
    "    if function(current_point + step) >= function(current_point):\n",
    "        direction=-1\n",
    "    next_point = current_point + direction*step\n",
    "    cnt = 1\n",
    "    previous_point = current_point\n",
    "    while function(current_point) > function(next_point):\n",
    "        previous_point = current_point\n",
    "        current_point = next_point\n",
    "        next_point = starting_point + direction * (2**cnt) * step\n",
    "        cnt+=1\n",
    "    \n",
    "    if previous_point > next_point:\n",
    "        return next_point, previous_point\n",
    "    return previous_point, next_point"
   ]
  },
  {
   "cell_type": "markdown",
   "metadata": {},
   "source": [
    "## Golden section search"
   ]
  },
  {
   "cell_type": "code",
   "execution_count": 5,
   "metadata": {
    "collapsed": true
   },
   "outputs": [],
   "source": [
    "def golden_section_search(f,starting_point = None, a=None,b=None,eps=1, verbose = False):\n",
    "    if starting_point != None:\n",
    "        a,b = find_unimodal(starting_point,f.evaluate,eps)\n",
    "    elif a==None or b== None:\n",
    "        raise Exception(\"Starting point or unimodal interval needs to be given\")\n",
    "    \n",
    "    if verbose:\n",
    "        print \"Searching in interval [%f, %f]\" % (a,b)\n",
    "    \n",
    "    \n",
    "    fi = (math.sqrt(5.0) - 1.0)/2\n",
    "    c = b - (b - a)*fi\n",
    "    d = a + (b - a)*fi\n",
    "    while (b - a) > eps:\n",
    "        c_score, d_score = f.evaluate(c),f.evaluate(d)\n",
    "        if verbose:\n",
    "            print \"|a = %.3f|c = %.3f|d = %.3f|b = %.3f|f(c) = %.3f|f(d) = %.3f|f(c) > f(d) = %s\" %(a,c,d,b,c_score,d_score, c_score>d_score)\n",
    "        if c_score >= d_score:\n",
    "            a = c\n",
    "            c = d\n",
    "            d = a + (b - a)*fi\n",
    "        else:\n",
    "            b = d\n",
    "            d = c\n",
    "            c = b - (b - a)*fi\n",
    "    if verbose:\n",
    "        print ''\n",
    "        print \"Final interval = [\",a,\", \", b,\"]\"\n",
    "    return (a+b)/2."
   ]
  },
  {
   "cell_type": "markdown",
   "metadata": {},
   "source": [
    "## Coordinate descend"
   ]
  },
  {
   "cell_type": "code",
   "execution_count": 6,
   "metadata": {
    "collapsed": false
   },
   "outputs": [],
   "source": [
    "def coordinate_search(function,starting_point, epsilon_vector = None ):\n",
    "    if epsilon_vector==None:\n",
    "        epsilon_vector = [1e-6]*len(starting_point)\n",
    "        \n",
    "    coordinate_changed = [False]*len(starting_point)\n",
    "    min_point = deepcopy(starting_point)\n",
    "    reset_flag = lambda x: False\n",
    "    \n",
    "    while any(flag == False for flag in coordinate_changed):\n",
    "        coordinate_changed = map(reset_flag, coordinate_changed)\n",
    "        \n",
    "        def function_1D_wrapper(function,index, array):\n",
    "            cpy = deepcopy(array)\n",
    "            class Decorator:\n",
    "                def __init__(self,cpy,index,function):\n",
    "                    self.index = index\n",
    "                    self.cpy = cpy\n",
    "                    self.function = function\n",
    "                    \n",
    "                def evaluate(self,x):\n",
    "                    self.cpy[self.index] = x\n",
    "                    return self.function.evaluate(cpy)\n",
    "            return Decorator(cpy,index,function)\n",
    "        \n",
    "        for i,coord in enumerate(min_point):\n",
    "            func_1D = function_1D_wrapper(function, i, min_point)\n",
    "            new_coord = golden_section_search(func_1D, coord, eps = epsilon_vector[i])\n",
    "            min_point[i] = new_coord\n",
    "            if abs(coord-new_coord)<= epsilon_vector[i]:\n",
    "                coordinate_changed[i] = True\n",
    "        \n",
    "    return min_point\n",
    "\n"
   ]
  },
  {
   "cell_type": "markdown",
   "metadata": {},
   "source": [
    "# Nelder i Mead simpleks"
   ]
  },
  {
   "cell_type": "code",
   "execution_count": 30,
   "metadata": {
    "collapsed": false,
    "scrolled": true
   },
   "outputs": [
    {
     "name": "stdout",
     "output_type": "stream",
     "text": [
      "Value in centroid:  21.1830343737  Centroid:  [5.5, 5.0]\n",
      "Value in centroid:  10.7000465454  Centroid:  [5.125, 5.25]\n",
      "Value in centroid:  10.7000465454  Centroid:  [5.125, 5.25]\n",
      "Value in centroid:  9.31724687151  Centroid:  [5.171875, 5.09375]\n",
      "Value in centroid:  8.38011192232  Centroid:  [5.10546875, 5.1484375]\n",
      "Value in centroid:  7.94596271257  Centroid:  [5.1123046875, 5.083984375]\n",
      "Value in centroid:  7.56843963169  Centroid:  [5.080810546875, 5.09521484375]\n",
      "Value in centroid:  7.44312256088  Centroid:  [5.07635498046875, 5.0657958984375]\n",
      "Value in centroid:  7.27532712888  Centroid:  [5.0594940185546875, 5.064056396484375]\n",
      "Value in centroid:  7.27532712888  Centroid:  [5.0594940185546875, 5.064056396484375]\n",
      "Value in centroid:  7.24876167183  Centroid:  [5.0530509948730469, 5.0489120483398438]\n",
      "Value in centroid:  7.21649220851  Centroid:  [5.0100412368774414, 5.0046558380126953]\n",
      "Value in centroid:  6.94727372443  Centroid:  [4.9089598655700684, 4.9091596603393555]\n",
      "Value in centroid:  6.93734373907  Centroid:  [4.8078784942626953, 4.8136634826660156]\n",
      "Value in centroid:  6.73095464932  Centroid:  [4.6207776069641113, 4.6296548843383789]\n",
      "Value in centroid:  6.35747415174  Centroid:  [4.3451468944549561, 4.3559699058532715]\n",
      "Value in centroid:  5.69901706977  Centroid:  [3.8331297636032104, 3.8511102199554443]\n",
      "Value in centroid:  4.53222762312  Centroid:  [3.0258597731590271, 3.0513104200363159]\n",
      "Value in centroid:  2.40528292502  Centroid:  [1.5981905162334442, 1.6416911482810974]\n",
      "Value in centroid:  0.290419878314  Centroid:  [0.17052125930786133, 0.23207187652587891]\n",
      "Value in centroid:  0.290419878314  Centroid:  [0.17052125930786133, 0.23207187652587891]\n",
      "Value in centroid:  0.424644619226  Centroid:  [-0.32654909789562225, -0.26281818747520447]\n",
      "Value in centroid:  0.0490746784216  Centroid:  [-0.047181691974401474, 0.013359196484088898]\n",
      "Value in centroid:  0.0490746784216  Centroid:  [-0.047181691974401474, 0.013359196484088898]\n",
      "Value in centroid:  0.165037138296  Centroid:  [0.08117459574714303, 0.14287153352051973]\n",
      "Value in centroid:  0.0544558648636  Centroid:  [-0.0037652048049494624, 0.054313635686412454]\n",
      "Value in centroid:  0.0607072239943  Centroid:  [-0.060549502988578752, -0.0041708779172040522]\n",
      "Value in centroid:  0.0397788732318  Centroid:  [-0.031802383811736945, 0.023824687741580419]\n",
      "Value in centroid:  0.051918930914  Centroid:  [-0.0030552646348951384, 0.051820253400364891]\n",
      "Value in centroid:  0.0403981433067  Centroid:  [-0.01707385413828888, 0.036575779427948873]\n",
      "Value in centroid:  0.0377410641423  Centroid:  [-0.031092443641682621, 0.021331305455532856]\n",
      "Value in centroid:  0.0377410641423  Centroid:  [-0.031092443641682621, 0.021331305455532856]\n",
      "Value in centroid:  0.0364457859827  Centroid:  [-0.027291987861644884, 0.024103514662783709]\n",
      "Value in centroid:  0.033761600872  Centroid:  [-0.024681819801571692, 0.022996236980361573]\n",
      "Value in centroid:  0.0294900559844  Centroid:  [-0.02243014887812933, 0.019118088424420421]\n",
      "Value in centroid:  0.0219762998166  Centroid:  [-0.016083977296261764, 0.014964458781605572]\n",
      "Value in centroid:  0.00985033595749  Centroid:  [-0.0084075496584432585, 0.0051313468483158431]\n",
      "Value in centroid:  0.00475828374711  Centroid:  [-0.00073112202062475262, -0.0047017650849738857]\n",
      "Value in centroid:  0.00387261918931  Centroid:  [0.0029545374493409327, 0.0025035698531610251]\n",
      "Value in centroid:  0.00416802508878  Centroid:  [-0.0036479209720425843, 0.0020161246162047064]\n",
      "Value in centroid:  0.00133460201256  Centroid:  [-0.00053890689098778921, -0.00122095892514551]\n",
      "Value in centroid:  0.00151312825016  Centroid:  [0.00043056175891287296, 0.0014505763493453117]\n",
      "Value in centroid:  0.000581056419087  Centroid:  [0.0005447855016300629, -0.00020207727191756675]\n",
      "Value in centroid:  0.0012686760029  Centroid:  [-0.0012235327656932027, 0.00033541727481911643]\n",
      "Value in centroid:  0.000759992090985  Centroid:  [4.5594063440651533e-05, 0.00075862317539804325]\n",
      "Value in centroid:  0.000173880601667  Centroid:  [-2.209192474810634e-05, 0.00017247147659550655]\n",
      "Value in centroid:  0.00056444609414  Centroid:  [0.00056170699867725236, -5.5539347216932572e-05]\n",
      "Value in centroid:  0.000199115399985  Centroid:  [9.00148120138544e-05, -0.00017760707875887159]\n",
      "Value in centroid:  0.000154434622169  Centroid:  [0.00015188449029872352, 2.7949131803802233e-05]\n",
      "Value in centroid:  0.000234729496904  Centroid:  [-8.0084063097049627e-05, 0.00022064559152607465]\n",
      "Value in centroid:  7.57173732275e-05  Centroid:  [2.0432794029619667e-05, 7.2908309024269987e-05]\n",
      "Value in centroid:  6.76442074436e-05  Centroid:  [-5.1098678965699497e-05, -4.4324528272284212e-05]\n",
      "Value in centroid:  6.08679465097e-05  Centroid:  [5.2808354344124524e-05, -3.0268541550770898e-05]\n",
      "Value in centroid:  2.07446482248e-05  Centroid:  [1.0643815859416094e-05, 1.7805887056371211e-05]\n",
      "Value in centroid:  2.70702416001e-05  Centroid:  [-9.6862969319645934e-06, -2.5277927759742026e-05]\n",
      "Value in centroid:  8.27134168702e-06  Centroid:  [-8.242839683007377e-06, 6.8606651482883991e-07]\n",
      "Value in centroid:  1.92701812384e-05  Centroid:  [1.8282822069431312e-05, -6.0891955160711901e-06]\n",
      "Value in centroid:  1.41829686282e-05  Centroid:  [-2.3331528693763113e-06, -1.3989746130181603e-05]\n",
      "Value in centroid:  4.67862156193e-06  Centroid:  [-1.3400254148993711e-07, -4.6767021541487784e-06]\n",
      "Value in centroid:  5.07548035847e-06  Centroid:  [2.0651477863964379e-06, 4.6363418218840449e-06]\n",
      "Value in centroid:  4.08975037789e-06  Centroid:  [3.6685183362923963e-06, -1.8077697224582393e-06]\n",
      "Value in centroid:  4.48289986438e-06  Centroid:  [-4.0394761677510511e-06, 1.9439710604338075e-06]\n",
      "Value in centroid:  2.53302853386e-06  Centroid:  [9.3983443533355497e-07, 2.3522212454359145e-06]\n",
      "Value in centroid:  1.0729283584e-06  Centroid:  [1.059348735041824e-06, 1.7016321523831076e-07]\n",
      "Value in centroid:  2.20873097026e-06  Centroid:  [-1.5199422912816808e-06, 1.6025816453854601e-06]\n",
      "Value in centroid:  7.7015745775e-07  Centroid:  [-4.2531864702884239e-07, 6.4206429445788053e-07]\n",
      "Value in centroid:  7.41202758012e-07  Centroid:  [6.6930499722399608e-07, -3.184530564696989e-07]\n",
      "Value in centroid:  7.35263726557e-07  Centroid:  [-4.6307243162916486e-07, -5.7111878856792372e-07]\n",
      "Value in centroid:  1.88900184986e-07  Centroid:  [-1.6110118211571342e-07, 9.8639185969534634e-08]\n",
      "Value in centroid:  3.29882176685e-07  Centroid:  [1.7860909517577843e-07, -2.773464288844467e-07]\n",
      "Value in centroid:  8.7860004147e-08  Centroid:  [8.7391687889898766e-08, -9.0594269390447454e-09]\n",
      "Value in centroid:  2.50587472988e-07  Centroid:  [-1.7132585801116985e-07, -1.8287026000792813e-07]\n",
      "Value in centroid:  1.98766411271e-07  Centroid:  [6.8321005057571465e-08, -1.8665563617896658e-07]\n",
      "Value in centroid:  9.85585513134e-08  Centroid:  [1.7944630706549794e-08, -9.6911187516246044e-08]\n",
      "Value in centroid:  1.12375611325e-07  Centroid:  [1.1054070695101511e-07, 2.0224493253355699e-08]\n",
      "Value in centroid:  3.92316548915e-08  Centroid:  [2.6460388065516203e-08, 2.8964989365595227e-08]\n",
      "Value in centroid:  2.7339970245e-08  Centroid:  [-2.400575751085256e-08, 1.3084249284094738e-08]\n",
      "Value in centroid:  7.20118456903e-09  Centroid:  [5.4178655378047028e-09, 4.7438162075998512e-09]\n",
      "Value in centroid:  4.33382808245e-08  Centroid:  [1.0633610557059031e-08, -4.2013484875011824e-08]\n",
      "Value in centroid:  2.41445467024e-08  Centroid:  [2.1433613316946915e-08, -1.1115725601300513e-08]\n",
      "Value in centroid:  1.52996137187e-08  Centroid:  [1.0725738737403837e-08, -1.091039451527816e-08]\n",
      "Value in centroid:  1.06090186769e-08  Centroid:  [3.6485744712716568e-09, 9.9618864485591849e-09]\n",
      "Value in centroid:  9.02483605317e-10  Centroid:  [-8.4374933031956119e-10, -3.2025571884272205e-10]\n",
      "Value in centroid:  6.78555503213e-09  Centroid:  [6.0640756539399422e-09, -3.0447895752099641e-09]\n",
      "Value in centroid:  5.18940414975e-09  Centroid:  [3.129368816540923e-09, 4.1396819007664206e-09]\n",
      "Value in centroid:  1.87992161558e-09  Centroid:  [1.8764864524604356e-09, 1.1359522196775277e-10]\n",
      "Value in centroid:  8.67422445253e-10  Centroid:  [-5.3052873929943964e-10, 6.8626595085694433e-10]\n",
      "Value in centroid:  1.87211185574e-09  Centroid:  [6.4829147248022308e-10, -1.7562804352092833e-09]\n",
      "Value in centroid:  6.87858437025e-10  Centroid:  [-2.4405281438794893e-10, -6.4310765286682327e-10]\n",
      "Value in centroid:  4.43517876958e-10  Centroid:  [4.4166365683002999e-10, -4.0513225209247012e-11]\n",
      "Value in centroid:  1.06311192413e-10  Centroid:  [7.2244126778434566e-12, -1.0606543967616042e-10]\n",
      "Value in centroid:  9.10702209928e-10  Centroid:  [-3.5909962149494485e-10, 8.3691455777133845e-10]\n",
      "Value in centroid:  3.87703369794e-10  Centroid:  [-6.7327793370504072e-11, 3.8181261266431742e-10]\n",
      "Value in centroid:  2.36106863489e-10  Centroid:  [2.2444403475393673e-10, -7.3289332442703615e-11]\n",
      "Value in centroid:  1.41110701031e-10  Centroid:  [-3.0051690346330307e-11, 1.3787358649407855e-10]\n",
      "Value in centroid:  6.39260514314e-11  Centroid:  [5.2210292440823348e-11, -3.6886656325236428e-11]\n",
      "Value in centroid:  5.99370005523e-11  Centroid:  [-5.4472074412521765e-11, 2.5004742438325916e-11]\n",
      "Value in centroid:  1.6437378279e-10  Centroid:  [1.1551146025344681e-10, 1.1694376006750196e-10]\n",
      "Value in centroid:  4.47387265292e-11  Centroid:  [4.1364992680642943e-11, 1.7043797463838748e-11]\n",
      "Value in centroid:  4.37188262568e-11  Centroid:  [-1.7859957919020099e-11, -3.9904356559216926e-11]\n",
      "Value in centroid:  6.08193515126e-12  Centroid:  [4.4070382174660773e-12, -4.1914137631492451e-12]\n",
      "Value in centroid:  2.47380033413e-11  Centroid:  [-2.3196148306691501e-11, 8.5969478914533684e-12]\n",
      "Value in centroid:  1.89466920097e-11  Centroid:  [8.6397396546697709e-12, 1.6862148048535249e-11]\n",
      "Value in centroid:  4.50397964463e-12  Centroid:  [-1.4355830542723927e-12, 4.2690671034225321e-12]\n",
      "Value in centroid:  7.00398517733e-12  Centroid:  [6.9258688947016202e-12, -1.0431435268710659e-12]\n",
      "Value in centroid:  5.51989170825e-12  Centroid:  [-4.3828814214999714e-12, -3.3555260267072265e-12]\n",
      "Value in centroid:  1.03811333775e-12  Centroid:  [-8.2044658835783542e-14, 1.034866163316693e-12]\n",
      "Value in centroid:  2.59245799378e-12  Centroid:  [2.3467029272668717e-12, -1.1017367292831661e-12]\n",
      "Value in centroid:  2.34793254433e-12  Centroid:  [-1.6252761436422134e-12, -1.6944806548452317e-12]\n",
      "Value in centroid:  2.28911225931e-13  Centroid:  [1.393343664882732e-13, -1.8162126437375292e-13]\n",
      "Value in centroid:  8.39598922625e-13  Centroid:  [-5.2319728636840469e-13, 6.5665131569882343e-13]\n",
      "Value in centroid:  1.16103147998e-12  Centroid:  [8.5600670833934698e-13, 7.8437657588013065e-13]\n",
      "[ -5.32220735e-13   3.55939579e-13]\n"
     ]
    }
   ],
   "source": [
    "def nelder_mead(f, x_start,\n",
    "                step=1, no_improve_thr=10e-6,\n",
    "                no_improv_break=50, max_iter=0,\n",
    "                alpha=1., gamma=2., rho=-0.5, sigma=0.5,verbose=False):\n",
    "    \n",
    "    dim = len(x_start)\n",
    "    prev_best = f.evaluate(x_start)\n",
    "    no_improv = 0\n",
    "    x_start = np.array(x_start).astype(np.float64)\n",
    "    res = [[x_start, prev_best]]\n",
    "\n",
    "    for i in range(dim):\n",
    "        x = deepcopy(x_start)\n",
    "        x[i] = x[i] + step\n",
    "        score = f.evaluate(x)\n",
    "        res.append([x, score])\n",
    "    \n",
    "    \n",
    "    # simplex iter\n",
    "    iters = 0\n",
    "    while 1:\n",
    "        # order\n",
    "        res.sort(key=lambda x: x[1])\n",
    "        best = res[0][1]\n",
    "\n",
    "        # break after max_iter\n",
    "        if max_iter and iters >= max_iter:\n",
    "            return res[0][0]\n",
    "        iters += 1\n",
    "\n",
    "\n",
    "        if best < prev_best - no_improve_thr:\n",
    "            no_improv = 0\n",
    "            prev_best = best\n",
    "        else:\n",
    "            no_improv += 1\n",
    "\n",
    "        if no_improv >= no_improv_break:\n",
    "            return res[0][0]\n",
    "\n",
    "        # centroid\n",
    "        x0 = [0.] * dim\n",
    "        for tup in res[:-1]:\n",
    "            for i, c in enumerate(tup[0]):\n",
    "                x0[i] += c / (len(res)-1)\n",
    "                \n",
    "        # break after no_improv_break iterations with no improvement\n",
    "        if verbose:\n",
    "            print  'Value in centroid: ', fun.function(x0), ' Centroid: ', x0\n",
    "                \n",
    "        # reflection\n",
    "        xr = x0 + alpha*(x0 - res[-1][0])\n",
    "        rscore = f.evaluate(xr)\n",
    "        if rscore < res[0][1]:\n",
    "            xe = x0 + gamma*(x0 - res[-1][0])\n",
    "            escore = f.evaluate(xe)\n",
    "            if escore < res[0][1]:\n",
    "                del res[-1]\n",
    "                res.append([xe, escore])\n",
    "                continue\n",
    "            else:\n",
    "                del res[-1]\n",
    "                res.append([xr, rscore])\n",
    "                continue\n",
    "        else:\n",
    "            if rscore > res[-2][1]:\n",
    "                if rscore < res[-1][1]:\n",
    "                    del res[-1]\n",
    "                    res.append([xr, rscore])\n",
    "                # contraction\n",
    "                xc = x0 + rho*(x0 - res[-1][0])\n",
    "                cscore = f.evaluate(xc)\n",
    "                if cscore < res[-1][1]:\n",
    "                    del res[-1]\n",
    "                    res.append([xc, cscore])\n",
    "                    continue\n",
    "                else:\n",
    "                    # reduction\n",
    "                    x1 = res[0][0]\n",
    "                    nres = []\n",
    "                    for tup in res:\n",
    "                        redx = x1 + sigma*(tup[0] - x1)\n",
    "                        score = f.evaluate(redx)\n",
    "                        nres.append([redx, score])\n",
    "                    res = nres\n",
    "            else:\n",
    "                del res[-1]\n",
    "                res.append([xr, rscore])\n",
    "\n",
    "\n",
    "if __name__ == \"__main__\":\n",
    "    \n",
    "    fun = Function(f4)\n",
    "    print nelder_mead(fun, [5,5],verbose=True)"
   ]
  },
  {
   "cell_type": "markdown",
   "metadata": {},
   "source": [
    "# Hooke-Jeeves"
   ]
  },
  {
   "cell_type": "code",
   "execution_count": 16,
   "metadata": {
    "collapsed": false,
    "scrolled": true
   },
   "outputs": [
    {
     "name": "stdout",
     "output_type": "stream",
     "text": [
      "Iteration 0: \n",
      "Base point = [ 1.  1.] function(xB) = 1.414214 \n",
      "Search point = [ 1.  1.] function(xP) = 1.414214\n",
      "\n",
      "Iteration 1: \n",
      "Base point = [ 1.  1.] function(xB) = 1.414214 \n",
      "Search point = [ 1.  1.] function(xP) = 1.414214\n",
      "\n",
      "Iteration 2: \n",
      "Base point = [ 1.  1.] function(xB) = 1.414214 \n",
      "Search point = [ 1.  1.] function(xP) = 1.414214\n",
      "\n",
      "Iteration 3: \n",
      "Base point = [ 1.  1.] function(xB) = 1.414214 \n",
      "Search point = [ 1.  1.] function(xP) = 1.414214\n",
      "\n",
      "Iteration 4: \n",
      "Base point = [ 1.  1.] function(xB) = 1.414214 \n",
      "Search point = [ 1.  1.] function(xP) = 1.414214\n",
      "\n",
      "Iteration 5: \n",
      "Base point = [ 1.  1.] function(xB) = 1.414214 \n",
      "Search point = [ 1.  1.] function(xP) = 1.414214\n",
      "\n",
      "Iteration 6: \n",
      "Base point = [ 1.  1.] function(xB) = 1.414214 \n",
      "Search point = [ 1.  1.] function(xP) = 1.414214\n",
      "\n",
      "Iteration 7: \n",
      "Base point = [ 1.  1.] function(xB) = 1.414214 \n",
      "Search point = [ 1.  1.] function(xP) = 1.414214\n",
      "\n",
      "Iteration 8: \n",
      "Base point = [ 1.  1.] function(xB) = 1.414214 \n",
      "Search point = [ 1.  1.] function(xP) = 1.414214\n",
      "\n",
      "Iteration 9: \n",
      "Base point = [ 1.  1.] function(xB) = 1.414214 \n",
      "Search point = [ 1.  1.] function(xP) = 1.414214\n",
      "\n",
      "Iteration 10: \n",
      "Base point = [ 1.  1.] function(xB) = 1.414214 \n",
      "Search point = [ 1.  1.] function(xP) = 1.414214\n",
      "\n",
      "Iteration 11: \n",
      "Base point = [ 1.  1.] function(xB) = 1.414214 \n",
      "Search point = [ 1.  1.] function(xP) = 1.414214\n",
      "\n",
      "Iteration 12: \n",
      "Base point = [ 1.  1.] function(xB) = 1.414214 \n",
      "Search point = [ 1.  1.] function(xP) = 1.414214\n",
      "\n",
      "Iteration 13: \n",
      "Base point = [ 1.  1.] function(xB) = 1.414214 \n",
      "Search point = [ 1.  1.] function(xP) = 1.414214\n",
      "\n",
      "Iteration 14: \n",
      "Base point = [ 1.  1.] function(xB) = 1.414214 \n",
      "Search point = [ 1.  1.] function(xP) = 1.414214\n",
      "\n",
      "Iteration 15: \n",
      "Base point = [ 1.  1.] function(xB) = 1.414214 \n",
      "Search point = [ 1.  1.] function(xP) = 1.414214\n",
      "\n",
      "Iteration 16: \n",
      "Base point = [ 1.  1.] function(xB) = 1.414214 \n",
      "Search point = [ 1.  1.] function(xP) = 1.414214\n",
      "\n",
      "Iteration 17: \n",
      "Base point = [ 1.  1.] function(xB) = 1.414214 \n",
      "Search point = [ 1.  1.] function(xP) = 1.414214\n",
      "\n",
      "Iteration 18: \n",
      "Base point = [ 1.  1.] function(xB) = 1.414214 \n",
      "Search point = [ 1.  1.] function(xP) = 1.414214\n",
      "\n",
      "Iteration 19: \n",
      "Base point = [ 1.  1.] function(xB) = 1.414214 \n",
      "Search point = [ 1.  1.] function(xP) = 1.414214\n",
      "\n",
      "Iteration 20: \n",
      "Base point = [ 1.  1.] function(xB) = 1.414214 \n",
      "Search point = [ 1.  1.] function(xP) = 1.414214\n",
      "\n",
      "Iteration 21: \n",
      "Base point = [ 1.  1.] function(xB) = 1.414214 \n",
      "Search point = [ 1.  1.] function(xP) = 1.414214\n",
      "\n",
      "Iteration 22: \n",
      "Base point = [ 1.  1.] function(xB) = 1.414214 \n",
      "Search point = [ 1.  1.] function(xP) = 1.414214\n",
      "\n",
      "Iteration 23: \n",
      "Base point = [ 1.  1.] function(xB) = 1.414214 \n",
      "Search point = [ 1.  1.] function(xP) = 1.414214\n",
      "\n",
      "Iteration 24: \n",
      "Base point = [ 1.  1.] function(xB) = 1.414214 \n",
      "Search point = [ 1.  1.] function(xP) = 1.414214\n",
      "\n",
      "Iteration 25: \n",
      "Base point = [ 1.  1.] function(xB) = 1.414214 \n",
      "Search point = [ 1.  1.] function(xP) = 1.414214\n",
      "\n",
      "Iteration 26: \n",
      "Base point = [ 1.  1.] function(xB) = 1.414214 \n",
      "Search point = [ 1.  1.] function(xP) = 1.414214\n",
      "\n",
      "Iteration 27: \n",
      "Base point = [ 1.  1.] function(xB) = 1.414214 \n",
      "Search point = [ 1.  1.] function(xP) = 1.414214\n",
      "\n",
      "Iteration 28: \n",
      "Base point = [ 1.  1.] function(xB) = 1.414214 \n",
      "Search point = [ 1.  1.] function(xP) = 1.414214\n",
      "\n",
      "Iteration 29: \n",
      "Base point = [ 1.  1.] function(xB) = 1.414214 \n",
      "Search point = [ 1.  1.] function(xP) = 1.414214\n",
      "\n",
      "Iteration 30: \n",
      "Base point = [ 1.  1.] function(xB) = 1.414214 \n",
      "Search point = [ 1.  1.] function(xP) = 1.414214\n",
      "\n",
      "Iteration 31: \n",
      "Base point = [ 1.  1.] function(xB) = 1.414214 \n",
      "Search point = [ 1.  1.] function(xP) = 1.414214\n",
      "\n",
      "[ 1.  1.]\n"
     ]
    }
   ],
   "source": [
    "def hooke_jeeves(function,starting_point,search_direction=None,decay_coeff=0.7,epsilon=None,max_iter = 0, max_patience = 30, verbose=False):\n",
    "    \n",
    "    if search_direction == None:\n",
    "        search_direction = [0.5] * len(starting_point)\n",
    "        \n",
    "    if epsilon == None:\n",
    "        epsilon = np.array([1e-6]*len(starting_point))\n",
    "    else:\n",
    "        epsilon = np.array(epsilon)\n",
    "        \n",
    "    iters = 0\n",
    "    patience = 0\n",
    "    same_threshold = 1e-9\n",
    "    dX = np.array(search_direction).astype(np.float64)\n",
    "    search_point = deepcopy(np.array(starting_point).astype(np.float64))\n",
    "    base_point = deepcopy(np.array(starting_point).astype(np.float64))\n",
    "    base_point_score = function.evaluate(base_point)\n",
    "    while True:\n",
    "        if verbose:\n",
    "            print \"Iteration %s: \\nBase point = %s function(xB) = %f \\nSearch point = %s function(xP) = %f\" % (iters, base_point, function.function(base_point), search_point,function.function(search_point))\n",
    "            print\n",
    "        if max_iter!=0 and iters >= max_iter:\n",
    "            return base_point\n",
    "        \n",
    "        new_point = istrazi(search_point, function, dX)\n",
    "        new_point_score = function.evaluate(new_point)\n",
    "        if abs(new_point_score-base_point_score) > same_threshold and new_point_score<base_point_score:\n",
    "            search_point = (2. * new_point) - base_point\n",
    "            base_point = deepcopy(new_point)\n",
    "            base_point_score = function.evaluate(base_point)\n",
    "        else:\n",
    "            dX *=decay_coeff\n",
    "            search_point = deepcopy(base_point)\n",
    "            if (abs(base_point-new_point)<epsilon).all(False):\n",
    "                if patience > max_patience:\n",
    "                    return base_point\n",
    "                else:\n",
    "                    patience +=1\n",
    "        iters+=1\n",
    "        \n",
    "\n",
    "def istrazi(point,fun, search_direction):\n",
    "    x = deepcopy(point)\n",
    "    dim = len(x)\n",
    "    for i in range(dim):\n",
    "        temp = fun.evaluate(x)\n",
    "        x[i]+=search_direction[i]\n",
    "        new = fun.evaluate(x)\n",
    "        if new > temp:\n",
    "            x[i]-=search_direction[i]*2\n",
    "            new = fun.evaluate(x)\n",
    "            if new > temp:\n",
    "                x[i] = x[i] + search_direction[i]\n",
    "    return x\n",
    "\n",
    "fun = Function(f4)\n",
    "print hooke_jeeves(fun,[1,1],[1,1], verbose=True)"
   ]
  },
  {
   "cell_type": "code",
   "execution_count": 14,
   "metadata": {
    "collapsed": false
   },
   "outputs": [
    {
     "name": "stdout",
     "output_type": "stream",
     "text": [
      "Searching in interval [-2.000000, 2.000000]\n",
      "|a = -2.000|c = -0.472|d = 0.472|b = 2.000|f(c) = 0.279|f(d) = 2.167|f(c) > f(d) = False\n",
      "|a = -2.000|c = -1.056|d = -0.472|b = 0.472|f(c) = 0.003|f(d) = 0.279|f(c) > f(d) = False\n",
      "|a = -2.000|c = -1.416|d = -1.056|b = -0.472|f(c) = 0.173|f(d) = 0.003|f(c) > f(d) = True\n",
      "|a = -1.416|c = -1.056|d = -0.833|b = -0.472|f(c) = 0.003|f(d) = 0.028|f(c) > f(d) = False\n",
      "|a = -1.416|c = -1.193|d = -1.056|b = -0.833|f(c) = 0.037|f(d) = 0.003|f(c) > f(d) = True\n",
      "\n",
      "Final interval = [ -1.193495505 ,  -0.832815729997 ]\n",
      "-1.0131556175\n"
     ]
    }
   ],
   "source": [
    "def fn123(x):\n",
    "    if is_numeric(x):\n",
    "        return (x+1)**2\n",
    "    elif len(x) == 1:\n",
    "        return (x[0]+1)**2\n",
    "fun = Function(fn123)\n",
    "print golden_section_search(fun,a=-2,b=2,eps=0.5, verbose = True)"
   ]
  },
  {
   "cell_type": "code",
   "execution_count": 33,
   "metadata": {
    "collapsed": false
   },
   "outputs": [
    {
     "name": "stdout",
     "output_type": "stream",
     "text": [
      "[0.5846190027185936, 0.3417791839096474]\n"
     ]
    }
   ],
   "source": [
    "fun = Function(f1)\n",
    "print coordinate_search(fun,[0.1,0.3],verbose=True)"
   ]
  },
  {
   "cell_type": "code",
   "execution_count": 53,
   "metadata": {
    "collapsed": false,
    "scrolled": false
   },
   "outputs": [
    {
     "data": {
      "image/png": "[encoded data removed]",
      "text/plain": [
       "<matplotlib.figure.Figure at 0x1131d98d0>"
      ]
     },
     "metadata": {},
     "output_type": "display_data"
    },
    {
     "data": {
      "image/png": "[encoded data removed]",
      "text/plain": [
       "<matplotlib.figure.Figure at 0x1146995d0>"
      ]
     },
     "metadata": {},
     "output_type": "display_data"
    },
    {
     "data": {
      "image/png": "[encoded data removed]",
      "text/plain": [
       "<matplotlib.figure.Figure at 0x113d1eb90>"
      ]
     },
     "metadata": {},
     "output_type": "display_data"
    },
    {
     "name": "stdout",
     "output_type": "stream",
     "text": [
      "____simple____ starting point: [10.0]\n",
      "N-M f_value: 0.0 rezultat: [ 3.]\n",
      "H-J f_value: 0.0 rezultat: [ 3.]\n",
      "Cord_Search f_value: 1.27591521649e-13 rezultat: [2.9999996428004456]\n",
      "\n",
      "\n",
      "____f1____ starting point: [-1.9, 2]\n",
      "N-M f_value: 3.39555454326e-19 rezultat: [ 1.  1.]\n",
      "H-J f_value: 2.36352869577e-10 rezultat: [ 1.00000271  1.0000039 ]\n",
      "Cord_Search f_value: 7.89773631154e-08 rezultat: [0.9997189724634312, 0.9994379297329874]\n",
      "\n",
      "\n",
      "____f2____ starting point: [0.1, 0.3]\n",
      "N-M f_value: 5.94366223544e-19 rezultat: [ 4.  2.]\n",
      "H-J f_value: 4.82113409128e-10 rezultat: [ 4.00001269  1.99999104]\n",
      "Cord_Search f_value: 1.20031086512e-12 rezultat: [3.999999910071634, 1.9999994540550041]\n",
      "\n",
      "\n",
      "____f3____ starting point: [0.0, 0.0, 0.0, 0.0, 0.0]\n",
      "N-M f_value: 8.0550479486e-08 rezultat: [ 1.00020568  1.99999536  2.99987477  4.0001086   4.99989632]\n",
      "H-J f_value: 2.07918136829e-10 rezultat: [ 1.          2.          2.99998558  4.          5.        ]\n",
      "Cord_Search f_value: 5.30018981976e-13 rezultat: [0.9999996749646107, 1.9999995913053286, 2.9999997584178564, 3.9999996269094265, 4.99999975549819]\n",
      "\n",
      "\n",
      "____f4____ starting point: [5.1, 1.1]\n",
      "N-M f_value: 1.09152354582e-12 rezultat: [  3.50072124e-13  -1.03386322e-12]\n",
      "H-J f_value: 3.40731985655e-06 rezultat: [  2.40933898e-06   2.40933898e-06]\n",
      "Cord_Search f_value: 7.39310286574e-07 rezultat: [-4.6980296578194767e-07, -5.708457525256483e-07]\n",
      "\n",
      "\n",
      "____f4_3zad____ starting point: [5, 5]\n",
      "N-M f_value: 6.40274858284e-13 rezultat: [ -5.32220735e-13   3.55939579e-13]\n",
      "H-J f_value: 7.07106781187 rezultat: [ 5.  5.]\n",
      "Cord_Search f_value: 7.07106737485 rezultat: [4.999999690983006, 4.999999690983006]\n",
      "\n",
      "\n",
      "Best result for f6\n",
      "____f6____ starting point: [-16.922661816120687, -25.680690164883547]\n",
      "N-M f_value: -0.0208689841787 rezultat: [-16.12076596 -25.67161834]\n",
      "H-J f_value: -0.0208689841773 rezultat: [-16.10630605 -25.68069016]\n",
      "Cord_Search f_value: -0.0208689841787 rezultat: [-16.10631011223502, -25.680690782917537]\n",
      "\n"
     ]
    }
   ],
   "source": [
    "num_random = 5\n",
    "width = 0.4\n",
    "f6_start = []\n",
    "for i in range(num_random):\n",
    "    f6_start.append([np.random.uniform(-50,50),np.random.uniform(-50,50)])\n",
    "functions = [f_simple,f1,f2,f3,f4,f4] + [f6]*num_random\n",
    "fun_names = [\"simple\",\"f1\",\"f2\",\"f3\",\"f4\",\"f4_3zad\"] + [\"f6\"] * num_random\n",
    "colors = [\"green\", \"red\", \"blue\", \"yellow\", \"brown\", \"purple\"] + [\"magenta\"] * num_random\n",
    "opt_names = [\"N-M\", \"H-J\",\"Cord_Search\"]\n",
    "opt_fun = [nelder_mead,hooke_jeeves,coordinate_search]\n",
    "starting_points=[[10.],[-1.9,2],[0.1,0.3],[0.,0.,0.,0.,0.],[5.1,1.1],[5,5]]+f6_start\n",
    "hooke_jeeves\n",
    "opt_num_calls = []\n",
    "results = {}\n",
    "for name in opt_names:\n",
    "    opt_num_calls.append([0]*len(functions))\n",
    "    results[name] = {}\n",
    "\n",
    "for i, fun in enumerate(functions):\n",
    "    for j,opt in enumerate(opt_fun):\n",
    "        Fun = Function(fun)\n",
    "        rez = opt(Fun,starting_points[i])\n",
    "        results[opt_names[j]][i] = rez\n",
    "        opt_num_calls[j][i] = Fun.calls\n",
    "\n",
    "f6_set_flag = False\n",
    "for i, fname in enumerate(opt_names):\n",
    "    plt.figure(figsize=(16,14))\n",
    "    for j,func_name in enumerate(fun_names):\n",
    "        \n",
    "        height = opt_num_calls[i][j]\n",
    "        plt.text(j , 1.01*height,'%d' % int(height),ha='center', va='bottom')\n",
    "        \n",
    "        if func_name == \"f6\":\n",
    "            if f6_set_flag == True:\n",
    "                plt.bar(j, opt_num_calls[i][j], width=width, color=colors[j], align=\"center\")\n",
    "                continue\n",
    "            else:\n",
    "                f6_set_flag = True\n",
    "        plt.bar(j, opt_num_calls[i][j], width=width, color=colors[j], align=\"center\", label= fun_names[j])\n",
    "        \n",
    "        \n",
    "    plt.xticks(range(len(functions)), fun_names, rotation='horizontal')\n",
    "    plt.title(opt_names[i])\n",
    "    plt.legend(loc=\"best\")\n",
    "    plt.ylabel(\"Broj Poziva\")\n",
    "    plt.show()\n",
    "    \n",
    "best_f6_row = None\n",
    "best_value = None\n",
    "for i,func_name in enumerate(fun_names):\n",
    "    flag = False\n",
    "    row = \"____\"+func_name + \"____\"+\" starting point: \" + str(starting_points[i]) + '\\n'\n",
    "    for j, opt_name in enumerate(opt_names):\n",
    "        \n",
    "        row += opt_name + \" f_value: \" + str(functions[i](results[opt_name][i])) + \" rezultat: \" + str(results[opt_name][i]) +'\\n'\n",
    "        if (best_value == None or best_value > abs(functions[i](results[opt_name][i]))) and func_name == \"f6\":\n",
    "            best_value = abs(functions[i](results[opt_name][i]))\n",
    "            flag = True\n",
    "    if func_name == \"f6\" and flag:\n",
    "        best_f6_row = row\n",
    "        continue\n",
    "    elif func_name == \"f6\":\n",
    "        continue\n",
    "    print row\n",
    "    print\n",
    "    \n",
    "print \"Best result for f6\"\n",
    "print best_f6_row\n",
    "    "
   ]
  },
  {
   "cell_type": "markdown",
   "metadata": {},
   "source": [
    "# Zadatak 4"
   ]
  },
  {
   "cell_type": "code",
   "execution_count": 37,
   "metadata": {
    "collapsed": false,
    "scrolled": true
   },
   "outputs": [
    {
     "name": "stdout",
     "output_type": "stream",
     "text": [
      "________Starting point [0.5,0.5]___________\n",
      "Step:   1 Res: [ 1.  1.] with value: 0.000000 and number of evaluations: 149\n",
      "Step:   2 Res: [ 1.  1.] with value: 0.000000 and number of evaluations: 244\n",
      "Step:   3 Res: [ 1.  1.] with value: 0.000000 and number of evaluations: 193\n",
      "Step:   4 Res: [ 1.  1.] with value: 0.000000 and number of evaluations: 174\n",
      "Step:   5 Res: [ 1.  1.] with value: 0.000000 and number of evaluations: 193\n",
      "Step:   6 Res: [ 1.  1.] with value: 0.000000 and number of evaluations: 288\n",
      "Step:   7 Res: [ 1.  1.] with value: 0.000000 and number of evaluations: 178\n",
      "Step:   8 Res: [ 1.  1.] with value: 0.000000 and number of evaluations: 207\n",
      "Step:   9 Res: [ 1.  1.] with value: 0.000000 and number of evaluations: 196\n",
      "Step:  10 Res: [ 1.  1.] with value: 0.000000 and number of evaluations: 192\n",
      "Step:  11 Res: [ 1.  1.] with value: 0.000000 and number of evaluations: 190\n",
      "Step:  12 Res: [ 1.  1.] with value: 0.000000 and number of evaluations: 192\n",
      "Step:  13 Res: [ 1.  1.] with value: 0.000000 and number of evaluations: 290\n",
      "Step:  14 Res: [ 1.  1.] with value: 0.000000 and number of evaluations: 193\n",
      "Step:  15 Res: [ 1.  1.] with value: 0.000000 and number of evaluations: 173\n",
      "Step:  16 Res: [ 1.  1.] with value: 0.000000 and number of evaluations: 195\n",
      "Step:  17 Res: [ 1.  1.] with value: 0.000000 and number of evaluations: 180\n",
      "Step:  18 Res: [ 1.  1.] with value: 0.000000 and number of evaluations: 183\n",
      "Step:  19 Res: [ 1.  1.] with value: 0.000000 and number of evaluations: 185\n",
      "Step:  20 Res: [ 1.  1.] with value: 0.000000 and number of evaluations: 222\n",
      "\n",
      "________Starting point [20,20]___________\n",
      "Step:   1 Res: [ 1.  1.] with value: 0.000000 and number of evaluations: 485\n",
      "Step:   2 Res: [ 1.  1.] with value: 0.000000 and number of evaluations: 453\n",
      "Step:   3 Res: [ 1.  1.] with value: 0.000000 and number of evaluations: 395\n",
      "Step:   4 Res: [ 1.  1.] with value: 0.000000 and number of evaluations: 428\n",
      "Step:   5 Res: [ 1.  1.] with value: 0.000000 and number of evaluations: 360\n",
      "Step:   6 Res: [ 1.  1.] with value: 0.000000 and number of evaluations: 386\n",
      "Step:   7 Res: [ 1.  1.] with value: 0.000000 and number of evaluations: 328\n",
      "Step:   8 Res: [ 1.  1.] with value: 0.000000 and number of evaluations: 318\n",
      "Step:   9 Res: [ 1.  1.] with value: 0.000000 and number of evaluations: 430\n",
      "Step:  10 Res: [ 1.  1.] with value: 0.000000 and number of evaluations: 403\n",
      "Step:  11 Res: [ 1.  1.] with value: 0.000000 and number of evaluations: 296\n",
      "Step:  12 Res: [ 1.  1.] with value: 0.000000 and number of evaluations: 382\n",
      "Step:  13 Res: [ 1.  1.] with value: 0.000000 and number of evaluations: 410\n",
      "Step:  14 Res: [ 1.  1.] with value: 0.000000 and number of evaluations: 371\n",
      "Step:  15 Res: [ 1.  1.] with value: 0.000000 and number of evaluations: 354\n",
      "Step:  16 Res: [ 1.  1.] with value: 0.000000 and number of evaluations: 209\n",
      "Step:  17 Res: [ 1.  1.] with value: 0.000000 and number of evaluations: 418\n",
      "Step:  18 Res: [ 1.  1.] with value: 0.000000 and number of evaluations: 412\n",
      "Step:  19 Res: [ 1.  1.] with value: 0.000000 and number of evaluations: 420\n",
      "Step:  20 Res: [ 1.          0.99999999] with value: 0.000000 and number of evaluations: 410\n"
     ]
    }
   ],
   "source": [
    "starting = [0.5,0.5]\n",
    "min_05 = starting\n",
    "iter_05 = None\n",
    "print \"________Starting point [0.5,0.5]___________\"\n",
    "for step in range(1,21):\n",
    "    Fun = Function(f1)\n",
    "    rez = nelder_mead(Fun,starting,step=step*1.)\n",
    "    if f1(rez) < f1(min_05):\n",
    "        min_05 = rez\n",
    "        iter_05 = Fun.calls\n",
    "    print \"Step: %3d Res: %s with value: %f and number of evaluations: %d\" % ( step, rez, f1(rez), Fun.calls)\n",
    "        \n",
    "print\n",
    "print \"________Starting point [20,20]___________\"\n",
    "min_20 = starting\n",
    "iter_20 = None\n",
    "starting = [20.,20.]\n",
    "for step in range(1,21):\n",
    "    Fun = Function(f1)\n",
    "    rez = nelder_mead(Fun,starting,step = step*1.)\n",
    "    if f1(rez) < f1(min_20):\n",
    "        min_20 = rez\n",
    "        iter_20 = Fun.calls\n",
    "    print \"Step: %3d Res: %s with value: %f and number of evaluations: %d\" % ( step, rez, f1(rez), Fun.calls)\n"
   ]
  },
  {
   "cell_type": "markdown",
   "metadata": {},
   "source": [
    "# Funkcija f1"
   ]
  },
  {
   "cell_type": "code",
   "execution_count": 20,
   "metadata": {
    "collapsed": false
   },
   "outputs": [
    {
     "data": {
      "text/html": [
       "<iframe id=\"igraph\" scrolling=\"no\" style=\"border:none;\" seamless=\"seamless\" src=\"https://plot.ly/~Mungos/52.embed\" height=\"525px\" width=\"100%\"></iframe>"
      ],
      "text/plain": [
       "<plotly.tools.PlotlyDisplay object>"
      ]
     },
     "execution_count": 20,
     "metadata": {},
     "output_type": "execute_result"
    }
   ],
   "source": [
    "x = np.linspace(-2,0.5,num=100)\n",
    "y = np.linspace(-0.5,2,num=100)\n",
    "x, y = np.meshgrid(x, y)\n",
    "grid = np.stack((x.flatten(), y.flatten())).transpose()\n",
    "points = list(grid)\n",
    "z1 = np.array(map(f1,points))\n",
    "z1 = z1.reshape(x.shape)\n",
    "\n",
    "py.iplot([dict(x=x,y=y,z=z1, type='surface')])"
   ]
  },
  {
   "cell_type": "markdown",
   "metadata": {},
   "source": [
    "# Funkcija f4"
   ]
  },
  {
   "cell_type": "code",
   "execution_count": 12,
   "metadata": {
    "collapsed": false
   },
   "outputs": [
    {
     "data": {
      "text/html": [
       "<iframe id=\"igraph\" scrolling=\"no\" style=\"border:none;\" seamless=\"seamless\" src=\"https://plot.ly/~Mungos/38.embed\" height=\"525px\" width=\"100%\"></iframe>"
      ],
      "text/plain": [
       "<plotly.tools.PlotlyDisplay object>"
      ]
     },
     "execution_count": 12,
     "metadata": {},
     "output_type": "execute_result"
    }
   ],
   "source": [
    "x = np.linspace(-10,10,num=100)\n",
    "x, y = np.meshgrid(x, x)\n",
    "grid = np.stack((x.flatten(), y.flatten())).transpose()\n",
    "points = list(grid)\n",
    "z1 = np.array(map(f4,points))\n",
    "z1 = z1.reshape(x.shape)\n",
    "\n",
    "py.iplot([dict(x=x,y=y,z=z1, type='surface')])"
   ]
  },
  {
   "cell_type": "markdown",
   "metadata": {},
   "source": [
    "# Funkcija f6"
   ]
  },
  {
   "cell_type": "code",
   "execution_count": 13,
   "metadata": {
    "collapsed": false
   },
   "outputs": [
    {
     "data": {
      "text/html": [
       "<iframe id=\"igraph\" scrolling=\"no\" style=\"border:none;\" seamless=\"seamless\" src=\"https://plot.ly/~Mungos/40.embed\" height=\"525px\" width=\"100%\"></iframe>"
      ],
      "text/plain": [
       "<plotly.tools.PlotlyDisplay object>"
      ]
     },
     "execution_count": 13,
     "metadata": {},
     "output_type": "execute_result"
    }
   ],
   "source": [
    "x = np.linspace(-10,10,num=100)\n",
    "x, y = np.meshgrid(x, x)\n",
    "grid = np.stack((x.flatten(), y.flatten())).transpose()\n",
    "points = list(grid)\n",
    "z1 = np.array(map(f6,points))\n",
    "z1 = z1.reshape(x.shape)\n",
    "\n",
    "py.iplot([dict(x=x,y=y,z=z1, type='surface')])"
   ]
  },
  {
   "cell_type": "code",
   "execution_count": null,
   "metadata": {
    "collapsed": true
   },
   "outputs": [],
   "source": []
  }
 ],
 "metadata": {
  "kernelspec": {
   "display_name": "Python 2",
   "language": "python",
   "name": "python2"
  },
  "language_info": {
   "codemirror_mode": {
    "name": "ipython",
    "version": 2
   },
   "file_extension": ".py",
   "mimetype": "text/x-python",
   "name": "python",
   "nbconvert_exporter": "python",
   "pygments_lexer": "ipython2",
   "version": "2.7.12"
  }
 },
 "nbformat": 4,
 "nbformat_minor": 1
}
