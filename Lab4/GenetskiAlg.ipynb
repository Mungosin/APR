{
 "cells": [
  {
   "cell_type": "code",
   "execution_count": 4,
   "metadata": {
    "collapsed": true
   },
   "outputs": [],
   "source": [
    "import math\n",
    "from copy import deepcopy\n",
    "import numpy as np\n",
    "import types\n",
    "import pylab\n",
    "import matplotlib.pyplot as plt\n",
    "import plotly.plotly as py\n",
    "from plotly.graph_objs import Surface\n",
    "import plotly.tools as tls\n",
    "import sympy\n",
    "from sympy import *\n",
    "tls.set_credentials_file(username='Mungos', api_key='mcnflyescl')"
   ]
  },
  {
   "cell_type": "code",
   "execution_count": 5,
   "metadata": {
    "collapsed": true
   },
   "outputs": [],
   "source": [
    "class Function():\n",
    "    def subs_dict(self,x):\n",
    "        dic = {}\n",
    "        for i,var in enumerate(self.variables):\n",
    "            dic[var] = x[i]\n",
    "        return dic\n",
    "    \n",
    "    def gradient_symbolic(self):\n",
    "        grads = []\n",
    "        for var in self.variables:\n",
    "            dif = diff(self.equation,var)\n",
    "            grads.append(dif)\n",
    "        return grads\n",
    "        \n",
    "    def gradient(self,x):\n",
    "        self.gradient_calls+=1\n",
    "        sub_dict = self.subs_dict(x)\n",
    "        grads = self.gradient_symbolic()\n",
    "        for i,grad in enumerate(grads):\n",
    "            grads[i]=grad.evalf(subs=sub_dict)\n",
    "        return np.array(grads,dtype=np.float32)\n",
    "        \n",
    "    def hessean_symbolic(self):\n",
    "        grads = self.gradient_symbolic()\n",
    "        hessean = []\n",
    "        for i,grad in enumerate(grads):\n",
    "            hess_row = []\n",
    "            for var in self.variables:\n",
    "                dif = diff(grad,var)\n",
    "                hess_row.append(dif)\n",
    "            hessean.append(hess_row)\n",
    "        return hessean\n",
    "        \n",
    "    def hessean(self,x):\n",
    "        self.hessean_calls+=1\n",
    "        hess = self.hessean_symbolic()\n",
    "        sub_dict = self.subs_dict(x)\n",
    "        for i,row in enumerate(hess):\n",
    "            for j, val in enumerate(row):\n",
    "                hess[i][j] = hess[i][j].evalf(subs=sub_dict)\n",
    "        return np.array(hess,dtype=np.float32)\n",
    "        \n",
    "    def evaluate(self,x, exponential=False):\n",
    "        self.calls+=1\n",
    "        subs = self.subs_dict(x)\n",
    "        value = np.array(self.equation.evalf(subs=subs),dtype=np.float32)\n",
    "        return value"
   ]
  },
  {
   "cell_type": "code",
   "execution_count": 6,
   "metadata": {
    "collapsed": true
   },
   "outputs": [],
   "source": [
    "class Rosenbrock(Function):\n",
    "    def __init__(self):\n",
    "        self.calls=0\n",
    "        self.gradient_calls=0\n",
    "        self.hessean_calls=0\n",
    "        self.x1= symbols('x1')\n",
    "        self.x2 = symbols('x2')\n",
    "        self.variables = [self.x1,self.x2]\n",
    "        self.equation = (100*(self.x2-self.x1**2)**2+(1-self.x1)**2)"
   ]
  },
  {
   "cell_type": "code",
   "execution_count": 7,
   "metadata": {
    "collapsed": true
   },
   "outputs": [],
   "source": [
    "class F3(Function):\n",
    "    def __init__(self, num_vars):\n",
    "        self.calls=0\n",
    "        self.gradient_calls=0\n",
    "        self.hessean_calls=0\n",
    "        self.variables = []\n",
    "        self.equation = 0\n",
    "        for i, var in enumerate(range(num_vars)):\n",
    "            variable = symbols('x'+str(var+1))\n",
    "            self.variables.append(variable)\n",
    "            self.equation += (variable-i-1)**2"
   ]
  },
  {
   "cell_type": "code",
   "execution_count": 8,
   "metadata": {
    "collapsed": false
   },
   "outputs": [],
   "source": [
    "class F6(Function):\n",
    "    def __init__(self, num_vars):\n",
    "        self.calls=0\n",
    "        self.gradient_calls=0\n",
    "        self.hessean_calls=0\n",
    "        self.variables = []\n",
    "        self.sum_vars = 0\n",
    "        for i, var in enumerate(range(num_vars)):\n",
    "            variable = symbols('x'+str(var+1))\n",
    "            self.variables.append(variable)\n",
    "            self.sum_vars += (variable)**2\n",
    "            \n",
    "        self.equation = 0.5 + ((sin(sqrt(self.sum_vars)))**2-0.5)/(1+0.001*self.sum_vars)"
   ]
  },
  {
   "cell_type": "code",
   "execution_count": 9,
   "metadata": {
    "collapsed": false
   },
   "outputs": [],
   "source": [
    "class F7(Function):\n",
    "    def __init__(self, num_vars):\n",
    "        self.calls=0\n",
    "        self.gradient_calls=0\n",
    "        self.hessean_calls=0\n",
    "        self.variables = []\n",
    "        self.sum_vars = 0\n",
    "        for i, var in enumerate(range(num_vars)):\n",
    "            variable = symbols('x'+str(var+1))\n",
    "            self.variables.append(variable)\n",
    "            self.sum_vars += (variable)**2\n",
    "            \n",
    "        self.equation = self.sum_vars**0.25 * (1+(sin(50*self.sum_vars**0.1))**2)"
   ]
  },
  {
   "cell_type": "code",
   "execution_count": 97,
   "metadata": {
    "collapsed": false
   },
   "outputs": [],
   "source": [
    "class OperatoriFloat():\n",
    "    def __init__(self, first_cross=True, mut_chance=0.05):\n",
    "        self.first_cross = True\n",
    "        self.mutation_chance = mut_chance\n",
    "        \n",
    "    def cross(self, first_parent, second_parent):\n",
    "        if self.first_cross:\n",
    "            return self.crossover_1(first_parent, second_parent)\n",
    "        return self.crossover_2(first_parent, second_parent)\n",
    "    \n",
    "    def crossover_1(self, first_parent, second_parent):\n",
    "        cromosome_length = first_parent.value.shape[0]\n",
    "        first_parent_copy = first_parent.duplicate()\n",
    "        for i in range(cromosome_length):\n",
    "            alpha = np.random.ranf()\n",
    "            first_parent_copy.value[i] = alpha*first_parent.value[i]+(1-alpha)*second_parent.value[i]\n",
    "        first_parent_copy.check_boundaries()\n",
    "        return [first_parent_copy]\n",
    "        \n",
    "    def crossover_2(self, first_parent, second_parent):\n",
    "        cromosome_length = first_parent.value.shape[0]\n",
    "        if first_parent.fitness < second_parent.fitness:\n",
    "            better_parent_copy = first_parent.duplicate()\n",
    "            worst_parent = second_parent\n",
    "        else:\n",
    "            better_parent_copy = second_parent.duplicate()\n",
    "            worst_parent = first_parent\n",
    "            \n",
    "        for i in range(cromosome_length):\n",
    "            alpha = np.random.ranf()\n",
    "            better_parent_copy.value[i] += alpha*(better_parent_copy.value[i]-worst_parent.value[i])\n",
    "        first_parent_copy.check_boundaries()\n",
    "        return [first_parent_copy]\n",
    "    \n",
    "    def mutate(self, child):\n",
    "        cromosome_length = child.value.shape[0]\n",
    "        for i in range(cromosome_length):\n",
    "            if np.random.ranf() < self.mutation_chance:\n",
    "                child.value[i] = np.random.uniform(child.lower_bound,child.upper_bound)\n",
    "#                 child.value[i] += np.random.normal(0,1,1)\n",
    "        return child\n",
    "\n",
    "class OperatoriBinary():\n",
    "    def __init__(self, first_cross=True,mut_chance=0.05):\n",
    "        self.first_cross = True\n",
    "        self.mutation_chance = mut_chance\n",
    "        \n",
    "    def cross(self, first_parent, second_parent):\n",
    "        if self.first_cross:\n",
    "            return self.crossover_1(first_parent, second_parent)\n",
    "        return self.crossover_2(first_parent, second_parent)\n",
    "    \n",
    "    def crossover_1(self, first_parent, second_parent):\n",
    "        cross_index = np.random.randint(0,first_parent.value.shape[0])\n",
    "        cromosome_length = first_parent.value.shape[0]\n",
    "        first_parent_copy = first_parent.duplicate()\n",
    "        second_parent_copy = second_parent.duplicate()\n",
    "        for i in range(cross_index,cromosome_length):\n",
    "            first_parent_copy.value[i] = second_parent.value[i]\n",
    "            second_parent_copy.value[i] = first_parent.value[i]\n",
    "        return [first_parent_copy,second_parent_copy]\n",
    "        \n",
    "        \n",
    "    def crossover_2(self, first_parent, second_parent):\n",
    "        cross_index = np.random.randint(0,first_parent.value.shape[0])\n",
    "        second_cross_index = np.random.randint(cross_index,first_parent.value.shape[0])\n",
    "        cromosome_length = first_parent.value.shape[0]\n",
    "        first_parent_copy = first_parent.duplicate()\n",
    "        second_parent_copy = second_parent.duplicate()\n",
    "        for i in range(cross_index,second_cross_index):\n",
    "            first_parent_copy.value[i] = second_parent.value[i]\n",
    "            second_parent_copy.value[i] = first_parent.value[i]\n",
    "        return [first_parent_copy,second_parent_copy]\n",
    "    \n",
    "    def mutate(self, child):\n",
    "        cromosome_length = child.value.shape[0]\n",
    "        for i in range(cromosome_length):\n",
    "            if np.random.ranf() < self.mutation_chance:\n",
    "                child.value[i] = 1-child.value[i]\n",
    "        return child"
   ]
  },
  {
   "cell_type": "code",
   "execution_count": 11,
   "metadata": {
    "collapsed": false
   },
   "outputs": [],
   "source": [
    "class BinaryUnit():\n",
    "    def __init__(self, upper_bound, lower_bound, num_vars, precision, value=np.array([])):\n",
    "        self.fitness = 0\n",
    "        self.upper_bound = upper_bound\n",
    "        self.lower_bound = lower_bound\n",
    "        self.num_vars = num_vars\n",
    "        self.precision = precision\n",
    "        if value.shape[0]==0:\n",
    "            self.value = self.init_random()\n",
    "        else:\n",
    "            self.value = value\n",
    "        \n",
    "    def check_boundaries(self):\n",
    "        pass\n",
    "        \n",
    "    def init_random(self):\n",
    "        array = []\n",
    "        for var in range(self.num_vars):\n",
    "            for prec in range(self.precision):\n",
    "                array.append(np.random.choice([0,1]))\n",
    "        return np.array(array)\n",
    "        \n",
    "    def evaluate(self, function):\n",
    "        self.fitness = function.evaluate(self.decode())\n",
    "        \n",
    "    def decode(self):\n",
    "        array = []\n",
    "        for var in range(self.num_vars):\n",
    "            val = 0\n",
    "            start_ind = var*self.precision\n",
    "            for prec in range(self.precision):\n",
    "                if self.value[start_ind + prec] == 1:\n",
    "                    val+=math.pow(2,self.precision-prec-1)\n",
    "            val = self.lower_bound + (val * 1./(math.pow(2,self.precision)-1))*(self.upper_bound-self.lower_bound)\n",
    "            array.append(val)\n",
    "        \n",
    "        return np.array(array)\n",
    "    \n",
    "    def duplicate(self):\n",
    "        value = self.value.copy()\n",
    "        return BinaryUnit(self.upper_bound,self.lower_bound,self.num_vars,self.precision,value)\n",
    "    \n",
    "    def encode(self):\n",
    "        pass\n",
    "\n",
    "class FloatingPointUnit():\n",
    "    def __init__(self, upper_bound, lower_bound, num_vars, value=np.array([])):\n",
    "        self.fitness = 0\n",
    "        self.upper_bound = upper_bound\n",
    "        self.lower_bound = lower_bound\n",
    "        self.num_vars = num_vars\n",
    "        if value.shape[0]==0:\n",
    "            self.value = self.init_random()\n",
    "        else:\n",
    "            self.value = value\n",
    "        \n",
    "    def init_random(self):\n",
    "        array = []\n",
    "        for var in range(self.num_vars):\n",
    "            array.append(self.lower_bound+(self.upper_bound-self.lower_bound)*np.random.ranf())\n",
    "        return np.array(array)\n",
    "    \n",
    "    def check_boundaries(self):\n",
    "        for i,value in enumerate(self.value):\n",
    "            if value > self.upper_bound:\n",
    "                self.value[i] = self.upper_bound\n",
    "            if value < self.lower_bound:\n",
    "                self.value[i] = self.lower_bound\n",
    "        \n",
    "    def evaluate(self, function):\n",
    "        self.fitness = function.evaluate(self.decode())\n",
    "    \n",
    "    def decode(self):\n",
    "        return self.value\n",
    "    \n",
    "    \n",
    "    def duplicate(self):\n",
    "        value = self.value.copy()\n",
    "        return FloatingPointUnit(self.upper_bound,self.lower_bound,self.num_vars,value)"
   ]
  },
  {
   "cell_type": "code",
   "execution_count": 12,
   "metadata": {
    "collapsed": true
   },
   "outputs": [],
   "source": [
    "class TournamentSelection():\n",
    "    def __init__(self, num_candidates):\n",
    "        self.num_candidates = num_candidates\n",
    "        \n",
    "    def choose_parent(self, population):\n",
    "        pop_size = len(population)\n",
    "        best_found_index = np.random.randint(0,pop_size)\n",
    "        for i in range(self.num_candidates-1):\n",
    "            index = np.random.randint(0,pop_size)\n",
    "            if population[index].fitness < population[best_found_index].fitness:\n",
    "                best_found_index = index\n",
    "        return population[best_found_index]"
   ]
  },
  {
   "cell_type": "code",
   "execution_count": 35,
   "metadata": {
    "collapsed": false,
    "scrolled": false
   },
   "outputs": [],
   "source": [
    "class GeneticAlg():\n",
    "    \n",
    "    def __init__(self, pop_size, function, upper_bound, lower_bound, num_vars, precision, number_candidates_tournament, binary_rep = True, first_cross=True, mutation_chance = 0.05, max_evals = 10000, verbose=False, print_last_found = True):\n",
    "        self.function = function\n",
    "        self.pop_size = pop_size\n",
    "        self.num_vars = num_vars\n",
    "        self.print_last_found = print_last_found\n",
    "        self.binary_rep = binary_rep\n",
    "        self.precision = int(math.ceil(math.log(1+(upper_bound-lower_bound)*10**precision)/math.log(2)))\n",
    "        self.mutation_chance = mutation_chance\n",
    "        self.max_evals = max_evals\n",
    "        self.upper_bound = upper_bound\n",
    "        self.lower_bound = lower_bound\n",
    "        self.tournament = TournamentSelection(number_candidates_tournament)\n",
    "        self.verbose = verbose\n",
    "        if binary_rep:\n",
    "            self.operators = OperatoriBinary(first_cross,mutation_chance)\n",
    "            self.population = self.init_random_pop(binary_rep)\n",
    "        else:\n",
    "            self.operators = OperatoriFloat(first_cross,mutation_chance)\n",
    "            self.population = self.init_random_pop(binary_rep)\n",
    "            \n",
    "        \n",
    "    def run(self):\n",
    "        best = None\n",
    "        key = lambda x: x.fitness\n",
    "        best_fitness = float('inf')\n",
    "        best = None\n",
    "        while self.function.calls < self.max_evals:\n",
    "            self.population.sort(key = key)\n",
    "            if best_fitness > self.population[0].fitness:\n",
    "                best_fitness = self.population[0].fitness\n",
    "                best = self.population[0]\n",
    "                if self.verbose:\n",
    "                    print \"######\\nBroj evaluacija: %d\\nFitness najbolje jedinke: %s\\nNajbolja jedinka: %s\\nNajbolja jedinka dekodirana: %s\\n\" % (self.function.calls, best_fitness, str(self.population[0].value), self.population[0].decode())\n",
    "            self.new_population(elitism=True)\n",
    "        if self.print_last_found:\n",
    "            print \"######\\nBroj evaluacija: %d\\nFitness najbolje jedinke: %s\\nNajbolja jedinka: %s\\nNajbolja jedinka dekodirana: %s\\n\" % (self.function.calls, best_fitness, str(self.population[0].value), self.population[0].decode())\n",
    "        return best\n",
    "    \n",
    "    def init_random_pop(self, binary_rep = True):\n",
    "        pop = []\n",
    "        while len(pop) < self.pop_size:\n",
    "            if binary_rep:\n",
    "                unit = BinaryUnit(self.upper_bound,self.lower_bound,self.num_vars,self.precision)\n",
    "                unit.evaluate(self.function)\n",
    "                pop.append(unit)\n",
    "            else:\n",
    "                unit = FloatingPointUnit(self.upper_bound,self.lower_bound,self.num_vars)\n",
    "                unit.evaluate(self.function)\n",
    "                pop.append(unit)\n",
    "        return pop\n",
    "    \n",
    "    def new_population(self, elitism=False):\n",
    "        new_pop = []\n",
    "        if elitism:\n",
    "            new_pop.append(self.population[0])\n",
    "            if not self.binary_rep:\n",
    "                self.function.calls+=1 #cisto da mi ne zezne brojanje kasnije da dodem do cistog broja ako koristim float rep\n",
    "                                       #jer float vraca po 1 dijete blabla...\n",
    "        while len(new_pop) < self.pop_size:\n",
    "            par1 = self.tournament.choose_parent(self.population)\n",
    "            par2 = self.tournament.choose_parent(self.population)\n",
    "            children = self.operators.cross(par1,par2)\n",
    "            for child in children:\n",
    "                child = self.operators.mutate(child)\n",
    "                child.evaluate(self.function)\n",
    "                new_pop.append(child)\n",
    "        self.population = new_pop"
   ]
  },
  {
   "cell_type": "markdown",
   "metadata": {},
   "source": [
    "# 1. zadatak"
   ]
  },
  {
   "cell_type": "markdown",
   "metadata": {},
   "source": [
    "### Rosenbrock"
   ]
  },
  {
   "cell_type": "code",
   "execution_count": 48,
   "metadata": {
    "collapsed": false
   },
   "outputs": [
    {
     "name": "stdout",
     "output_type": "stream",
     "text": [
      "######\n",
      "Broj evaluacija: 100300\n",
      "Fitness najbolje jedinke: 0.000199493937544\n",
      "Najbolja jedinka: [0 1 0 0 0 0 0 1 0 1 0 0 1 0 1 0 1 0 0 0 0 0 1 0 0 0 0 0 1 0 1 0 0 1 1 0 1\n",
      " 1 0 1 1 1]\n",
      "Najbolja jedinka dekodirana: [ 1.00863028  1.01845313]\n",
      "\n"
     ]
    },
    {
     "data": {
      "text/plain": [
       "<__main__.BinaryUnit instance at 0x10ff8e488>"
      ]
     },
     "execution_count": 48,
     "metadata": {},
     "output_type": "execute_result"
    }
   ],
   "source": [
    "lower = -50\n",
    "upper = 150\n",
    "prec = 4\n",
    "num_vars = 2\n",
    "num_cand = 3\n",
    "pop = 500\n",
    "mut = 0.1\n",
    "fun = Rosenbrock()\n",
    "ga = GeneticAlg(500,fun,upper,lower,num_vars,prec,num_cand,max_evals=100000,mutation_chance=mut)\n",
    "ga.run()"
   ]
  },
  {
   "cell_type": "markdown",
   "metadata": {},
   "source": [
    "### F3"
   ]
  },
  {
   "cell_type": "code",
   "execution_count": 51,
   "metadata": {
    "collapsed": false
   },
   "outputs": [
    {
     "name": "stdout",
     "output_type": "stream",
     "text": [
      "######\n",
      "Broj evaluacija: 100300\n",
      "Fitness najbolje jedinke: 0.158713847399\n",
      "Najbolja jedinka: [0 1 0 0 0 0 0 1 0 1 1 0 0 0 0 1 0 1 0 1 0 0 1 0 0 0 0 1 0 0 1 0 1 1 1 1 1\n",
      " 1 0 1 0 0 0 1 0 0 0 1 0 0 0 0 1 1 0 1 0 0 0 0 0 1 0 0 1 0 0 0 1 0 1 0 1 0\n",
      " 1 0 1 0 0 1 1 1 1 1 0 1 0 0 0 1 1 0 0 0 1 1 0 1 0 0 0 1 0 1 0]\n",
      "Najbolja jedinka dekodirana: [ 1.07824854  1.85434907  3.28390755  4.16557987  4.84717123]\n",
      "\n"
     ]
    },
    {
     "data": {
      "text/plain": [
       "<__main__.BinaryUnit instance at 0x1109dc6c8>"
      ]
     },
     "execution_count": 51,
     "metadata": {},
     "output_type": "execute_result"
    }
   ],
   "source": [
    "lower = -50\n",
    "upper = 150\n",
    "prec = 4\n",
    "num_vars = 5\n",
    "num_cand = 3\n",
    "pop = 500\n",
    "mut = 0.05\n",
    "fun = F3(num_vars)\n",
    "ga = GeneticAlg(500,fun,upper,lower,num_vars,prec,num_cand,max_evals=100000,mutation_chance=mut)\n",
    "ga.run()"
   ]
  },
  {
   "cell_type": "markdown",
   "metadata": {},
   "source": [
    "### F6"
   ]
  },
  {
   "cell_type": "code",
   "execution_count": 61,
   "metadata": {
    "collapsed": false
   },
   "outputs": [
    {
     "name": "stdout",
     "output_type": "stream",
     "text": [
      "######\n",
      "Broj evaluacija: 100000\n",
      "Fitness najbolje jedinke: 2.59904322775e-06\n",
      "Najbolja jedinka: [0 0 1 1 1 1 1 1 1 1 1 1 1 1 1 1 0 1 1 1 1 0 1 0 0 0 0 0 0 0 0 0 0 0 0 0 0\n",
      " 0 0 0 1 0]\n",
      "Najbolja jedinka dekodirana: [-0.00159741  0.00021458]\n",
      "\n"
     ]
    },
    {
     "data": {
      "text/plain": [
       "<__main__.BinaryUnit instance at 0x1109990e0>"
      ]
     },
     "execution_count": 61,
     "metadata": {},
     "output_type": "execute_result"
    }
   ],
   "source": [
    "lower = -50\n",
    "upper = 150\n",
    "prec = 4\n",
    "num_vars = 2\n",
    "num_cand = 3\n",
    "pop = 500\n",
    "mut = 0.05\n",
    "fun = F6(num_vars)\n",
    "ga = GeneticAlg(500,fun,upper,lower,num_vars,prec,num_cand,max_evals=100000,mutation_chance=mut)\n",
    "ga.run()"
   ]
  },
  {
   "cell_type": "markdown",
   "metadata": {},
   "source": [
    "### F7"
   ]
  },
  {
   "cell_type": "code",
   "execution_count": 62,
   "metadata": {
    "collapsed": false
   },
   "outputs": [
    {
     "name": "stdout",
     "output_type": "stream",
     "text": [
      "######\n",
      "Broj evaluacija: 100000\n",
      "Fitness najbolje jedinke: 0.0313945859671\n",
      "Najbolja jedinka: [0 1 0 0 0 0 0 0 0 0 0 0 0 0 0 0 0 1 0 1 0 0 1 0 0 0 0 0 0 0 0 0 0 0 0 0 0\n",
      " 0 0 0 0 0]\n",
      "Najbolja jedinka dekodirana: [  9.77516640e-04   2.38418693e-05]\n",
      "\n"
     ]
    },
    {
     "data": {
      "text/plain": [
       "<__main__.BinaryUnit instance at 0x110a1ccb0>"
      ]
     },
     "execution_count": 62,
     "metadata": {},
     "output_type": "execute_result"
    }
   ],
   "source": [
    "lower = -50\n",
    "upper = 150\n",
    "prec = 4\n",
    "num_vars = 2\n",
    "num_cand = 3\n",
    "pop = 500\n",
    "mut = 0.05\n",
    "fun = F7(num_vars)\n",
    "ga = GeneticAlg(500,fun,upper,lower,num_vars,prec,num_cand,max_evals=100000,mutation_chance=mut)\n",
    "ga.run()"
   ]
  },
  {
   "cell_type": "markdown",
   "metadata": {},
   "source": [
    "# 2.zad razlicite dimenzionalnosti za F6 i F7"
   ]
  },
  {
   "cell_type": "markdown",
   "metadata": {},
   "source": [
    "### 1"
   ]
  },
  {
   "cell_type": "code",
   "execution_count": 63,
   "metadata": {
    "collapsed": false
   },
   "outputs": [
    {
     "name": "stdout",
     "output_type": "stream",
     "text": [
      "######\n",
      "Broj evaluacija: 100000\n",
      "Fitness najbolje jedinke: 5.68718960814e-10\n",
      "Najbolja jedinka: [0 1 0 0 0 0 0 0 0 0 0 0 0 0 0 0 0 0 0 0 0]\n",
      "Najbolja jedinka dekodirana: [  2.38418693e-05]\n",
      "\n"
     ]
    },
    {
     "data": {
      "text/plain": [
       "<__main__.BinaryUnit instance at 0x10ff7c518>"
      ]
     },
     "execution_count": 63,
     "metadata": {},
     "output_type": "execute_result"
    }
   ],
   "source": [
    "lower = -50\n",
    "upper = 150\n",
    "prec = 4\n",
    "num_vars = 1\n",
    "num_cand = 3\n",
    "pop = 500\n",
    "mut = 0.05\n",
    "fun = F6(num_vars)\n",
    "ga = GeneticAlg(500,fun,upper,lower,num_vars,prec,num_cand,max_evals=100000,mutation_chance=mut)\n",
    "ga.run()"
   ]
  },
  {
   "cell_type": "code",
   "execution_count": null,
   "metadata": {
    "collapsed": false
   },
   "outputs": [
    {
     "name": "stdout",
     "output_type": "stream",
     "text": [
      "######\n",
      "Broj evaluacija: 100000\n",
      "Fitness najbolje jedinke: 0.00540836993605\n",
      "Najbolja jedinka: [0 1 0 0 0 0 0 0 0 0 0 0 0 0 0 0 0 0 0 0 0]\n",
      "Najbolja jedinka dekodirana: [  2.38418693e-05]\n",
      "\n"
     ]
    },
    {
     "data": {
      "text/plain": [
       "<__main__.BinaryUnit instance at 0x1109be128>"
      ]
     },
     "execution_count": 64,
     "metadata": {},
     "output_type": "execute_result"
    }
   ],
   "source": [
    "lower = -50\n",
    "upper = 150\n",
    "prec = 4\n",
    "num_vars = 1\n",
    "num_cand = 3\n",
    "pop = 500\n",
    "mut = 0.05\n",
    "fun = F7(num_vars)\n",
    "ga = GeneticAlg(500,fun,upper,lower,num_vars,prec,num_cand,max_evals=100000,mutation_chance=mut)\n",
    "ga.run()"
   ]
  },
  {
   "cell_type": "markdown",
   "metadata": {},
   "source": [
    "### 3"
   ]
  },
  {
   "cell_type": "code",
   "execution_count": 17,
   "metadata": {
    "collapsed": false
   },
   "outputs": [
    {
     "name": "stdout",
     "output_type": "stream",
     "text": [
      "######\n",
      "Broj evaluacija: 20000\n",
      "Fitness najbolje jedinke: 0.0189810469747\n",
      "Najbolja jedinka: [0 1 0 0 0 1 0 1 0 0 1 0 0 0 1 0 1 1 0 1 0 0 0 1 1 1 1 0 0 1 1 1 0 1 0 1 1\n",
      " 1 0 1 0 1 0 1 0 0 0 1 0 1 0 1 0 1 1 1 0 1 0 0 0 1 1]\n",
      "Najbolja jedinka dekodirana: [ 4.01251507 -2.4058115   4.19037542]\n",
      "\n"
     ]
    },
    {
     "data": {
      "text/plain": [
       "<__main__.BinaryUnit instance at 0x10a33cc20>"
      ]
     },
     "execution_count": 17,
     "metadata": {},
     "output_type": "execute_result"
    }
   ],
   "source": [
    "lower = -50\n",
    "upper = 150\n",
    "prec = 4\n",
    "num_vars = 3\n",
    "num_cand = 3\n",
    "pop = 500\n",
    "mut = 0.05\n",
    "fun = F6(num_vars)\n",
    "ga = GeneticAlg(500,fun,upper,lower,num_vars,prec,num_cand,max_evals=20000,mutation_chance=mut)\n",
    "ga.run()"
   ]
  },
  {
   "cell_type": "code",
   "execution_count": 19,
   "metadata": {
    "collapsed": false
   },
   "outputs": [
    {
     "name": "stdout",
     "output_type": "stream",
     "text": [
      "######\n",
      "Broj evaluacija: 20000\n",
      "Fitness najbolje jedinke: 0.65239661932\n",
      "Najbolja jedinka: [0 0 1 1 1 1 1 1 1 0 0 0 1 1 0 1 0 1 0 0 1 0 1 0 0 0 0 0 0 0 0 0 0 1 1 0 0\n",
      " 1 1 0 0 1 0 0 1 1 1 1 1 1 1 1 0 1 0 1 0 1 1 0 1 0 0]\n",
      "Najbolja jedinka dekodirana: [-0.35007017  0.03902914 -0.12929446]\n",
      "\n"
     ]
    },
    {
     "data": {
      "text/plain": [
       "<__main__.BinaryUnit instance at 0x10a393d88>"
      ]
     },
     "execution_count": 19,
     "metadata": {},
     "output_type": "execute_result"
    }
   ],
   "source": [
    "lower = -50\n",
    "upper = 150\n",
    "prec = 4\n",
    "num_vars = 3\n",
    "num_cand = 3\n",
    "pop = 500\n",
    "mut = 0.05\n",
    "fun = F7(num_vars)\n",
    "ga = GeneticAlg(500,fun,upper,lower,num_vars,prec,num_cand,max_evals=20000,mutation_chance=mut)\n",
    "ga.run()"
   ]
  },
  {
   "cell_type": "markdown",
   "metadata": {},
   "source": [
    "### 6"
   ]
  },
  {
   "cell_type": "code",
   "execution_count": 20,
   "metadata": {
    "collapsed": false
   },
   "outputs": [
    {
     "name": "stdout",
     "output_type": "stream",
     "text": [
      "######\n",
      "Broj evaluacija: 20000\n",
      "Fitness najbolje jedinke: 0.193527713418\n",
      "Najbolja jedinka: [0 0 1 1 0 0 1 1 1 0 0 0 0 0 1 0 1 0 0 0 0 0 1 0 0 1 0 0 0 1 0 1 0 1 0 0 0\n",
      " 0 0 0 1 0 0 1 0 0 1 0 1 0 0 0 0 1 1 1 1 0 1 1 0 1 1 0 0 1 0 1 1 1 0 0 0 0\n",
      " 0 1 0 0 1 0 0 0 0 1 0 1 0 0 0 0 0 1 0 1 1 0 1 1 0 0 0 1 0 0 0 0 1 0 1 0 0\n",
      " 1 1 0 1 1 0 0 1 0 0 0 0 1 0 1]\n",
      "Najbolja jedinka dekodirana: [ -9.75797642   6.76291311   7.90665527 -14.03492166   1.11162716\n",
      "  15.14943368]\n",
      "\n"
     ]
    },
    {
     "data": {
      "text/plain": [
       "<__main__.BinaryUnit instance at 0x10adbca70>"
      ]
     },
     "execution_count": 20,
     "metadata": {},
     "output_type": "execute_result"
    }
   ],
   "source": [
    "lower = -50\n",
    "upper = 150\n",
    "prec = 4\n",
    "num_vars = 6\n",
    "num_cand = 3\n",
    "pop = 500\n",
    "mut = 0.05\n",
    "fun = F6(num_vars)\n",
    "ga = GeneticAlg(500,fun,upper,lower,num_vars,prec,num_cand,max_evals=20000,mutation_chance=mut)\n",
    "ga.run()"
   ]
  },
  {
   "cell_type": "code",
   "execution_count": 23,
   "metadata": {
    "collapsed": false
   },
   "outputs": [
    {
     "name": "stdout",
     "output_type": "stream",
     "text": [
      "######\n",
      "Broj evaluacija: 20000\n",
      "Fitness najbolje jedinke: 3.42043328285\n",
      "Najbolja jedinka: [0 1 0 0 0 1 1 1 1 0 1 0 1 0 0 0 0 1 1 1 0 0 1 0 0 0 0 0 1 0 0 0 0 0 0 1 1\n",
      " 0 1 1 0 0 0 1 0 0 0 1 1 1 1 0 0 1 0 1 1 0 0 1 0 0 1 0 1 0 0 0 1 0 0 1 1 1\n",
      " 0 0 0 0 0 0 0 1 1 1 0 0 1 1 0 1 1 1 1 0 0 0 0 0 1 0 1 1 1 1 0 0 0 1 1 1 1\n",
      " 0 1 0 1 1 0 0 0 1 0 1 1 0 1 1]\n",
      "Najbolja jedinka dekodirana: [ 5.98280715  0.7915739   5.92739865  3.80928698 -6.63163978 -2.04207995]\n",
      "\n"
     ]
    },
    {
     "data": {
      "text/plain": [
       "<__main__.BinaryUnit instance at 0x10a3f0518>"
      ]
     },
     "execution_count": 23,
     "metadata": {},
     "output_type": "execute_result"
    }
   ],
   "source": [
    "lower = -50\n",
    "upper = 150\n",
    "prec = 4\n",
    "num_vars = 6\n",
    "num_cand = 3\n",
    "pop = 500\n",
    "mut = 0.05\n",
    "fun = F7(num_vars)\n",
    "ga = GeneticAlg(500,fun,upper,lower,num_vars,prec,num_cand,max_evals=20000,mutation_chance=mut)\n",
    "ga.run()"
   ]
  },
  {
   "cell_type": "markdown",
   "metadata": {},
   "source": [
    "### 10"
   ]
  },
  {
   "cell_type": "code",
   "execution_count": 24,
   "metadata": {
    "collapsed": false
   },
   "outputs": [
    {
     "name": "stdout",
     "output_type": "stream",
     "text": [
      "######\n",
      "Broj evaluacija: 20000\n",
      "Fitness najbolje jedinke: 0.359545141459\n",
      "Najbolja jedinka: [0 1 0 1 0 1 0 1 1 1 1 0 1 0 1 1 0 0 0 1 1 0 0 0 1 0 1 0 1 1 0 0 0 1 1 0 0\n",
      " 0 0 1 0 0 0 1 0 0 0 1 0 0 0 0 0 1 0 0 1 1 0 1 0 1 0 0 1 0 1 1 1 1 0 1 1 1\n",
      " 1 0 1 1 0 1 0 0 1 1 0 0 1 1 0 0 0 1 0 1 1 1 0 0 1 0 1 0 0 0 1 0 1 0 0 1 0\n",
      " 0 0 0 1 1 1 0 0 1 1 1 0 0 1 0 0 1 0 0 1 1 1 1 1 1 0 0 1 0 0 0 0 1 1 0 0 0\n",
      " 0 1 0 1 1 0 1 1 1 0 1 1 0 1 1 1 1 1 0 1 0 1 0 0 0 0 1 0 1 1 0 0 1 0 0 0 0\n",
      " 1 1 0 0 0 0 1 1 1 1 1 1 1 1 0 1 1 1 1 0 1 1 1 0 0]\n",
      "Najbolja jedinka dekodirana: [ 17.1237312  -33.16611441   3.18396243  24.19007978 -11.36920994\n",
      "   6.60269575  12.33027569 -14.1726323    2.17402085  -0.10106568]\n",
      "\n"
     ]
    },
    {
     "data": {
      "text/plain": [
       "<__main__.BinaryUnit instance at 0x10ac77488>"
      ]
     },
     "execution_count": 24,
     "metadata": {},
     "output_type": "execute_result"
    }
   ],
   "source": [
    "lower = -50\n",
    "upper = 150\n",
    "prec = 4\n",
    "num_vars = 10\n",
    "num_cand = 3\n",
    "pop = 500\n",
    "mut = 0.05\n",
    "fun = F6(num_vars)\n",
    "ga = GeneticAlg(500,fun,upper,lower,num_vars,prec,num_cand,max_evals=20000,mutation_chance=mut)\n",
    "ga.run()"
   ]
  },
  {
   "cell_type": "code",
   "execution_count": 25,
   "metadata": {
    "collapsed": false
   },
   "outputs": [
    {
     "name": "stdout",
     "output_type": "stream",
     "text": [
      "######\n",
      "Broj evaluacija: 20000\n",
      "Fitness najbolje jedinke: 6.76087808609\n",
      "Najbolja jedinka: [0 0 1 1 0 1 1 0 0 0 0 1 1 1 1 1 1 1 0 0 1 0 0 1 0 0 1 0 0 0 1 1 0 1 0 1 1\n",
      " 1 0 0 1 0 0 1 0 0 0 1 0 0 1 0 1 0 1 0 0 1 0 0 0 0 1 0 0 1 0 1 1 0 0 0 0 0\n",
      " 1 0 0 0 0 1 0 1 1 1 0 1 1 0 0 0 1 0 0 0 0 1 1 1 1 0 1 1 1 0 0 0 1 0 1 0 0\n",
      " 0 0 0 0 0 0 0 0 1 1 1 1 1 1 1 0 0 1 1 0 0 1 0 1 0 1 1 0 1 1 1 1 1 0 0 1 0\n",
      " 1 0 0 0 0 1 0 0 1 1 1 1 0 1 1 1 0 1 1 0 0 1 0 0 0 1 1 1 1 1 1 1 0 0 0 1 1\n",
      " 0 0 1 1 0 1 0 1 0 0 0 0 0 0 1 0 0 1 0 1 0 1 0 1 0]\n",
      "Najbolja jedinka dekodirana: [ -7.71549116 -21.54673173   3.64086802 -15.57396201  26.65675958\n",
      "  12.51214147 -10.37662524   1.93998906   6.20606242  12.61389857]\n",
      "\n"
     ]
    },
    {
     "data": {
      "text/plain": [
       "<__main__.BinaryUnit instance at 0x10a37a950>"
      ]
     },
     "execution_count": 25,
     "metadata": {},
     "output_type": "execute_result"
    }
   ],
   "source": [
    "lower = -50\n",
    "upper = 150\n",
    "prec = 4\n",
    "num_vars = 10\n",
    "num_cand = 3\n",
    "pop = 500\n",
    "mut = 0.05\n",
    "fun = F7(num_vars)\n",
    "ga = GeneticAlg(500,fun,upper,lower,num_vars,prec,num_cand,max_evals=20000,mutation_chance=mut)\n",
    "ga.run()"
   ]
  },
  {
   "cell_type": "markdown",
   "metadata": {},
   "source": [
    "# 3.zad"
   ]
  },
  {
   "cell_type": "markdown",
   "metadata": {},
   "source": [
    "## 3 varijable"
   ]
  },
  {
   "cell_type": "markdown",
   "metadata": {},
   "source": [
    "### F6 binarni"
   ]
  },
  {
   "cell_type": "code",
   "execution_count": 23,
   "metadata": {
    "collapsed": false
   },
   "outputs": [
    {
     "name": "stdout",
     "output_type": "stream",
     "text": [
      "######\n",
      "Broj evaluacija: 20000\n",
      "Fitness najbolje jedinke: 0.00495047215372\n",
      "Najbolja jedinka: [0 0 1 1 1 1 0 1 1 1 0 0 0 1 1 1 0 0 0 0 0 0 1 0 0 0 0 0 0 0 1 0 1 1 0 0 0\n",
      " 1 1 1 0 0 0 0 1 1 1 1 0 0 1 0 1 0 1 0 0 0 0 0 0 1 1]\n",
      "Najbolja jedinka dekodirana: [-1.73642718  0.27124895 -2.61199599]\n",
      "\n"
     ]
    },
    {
     "data": {
      "text/plain": [
       "<__main__.BinaryUnit instance at 0x10a52a560>"
      ]
     },
     "execution_count": 23,
     "metadata": {},
     "output_type": "execute_result"
    }
   ],
   "source": [
    "lower = -50\n",
    "upper = 150\n",
    "prec = 4\n",
    "num_vars = 3\n",
    "num_cand = 3\n",
    "pop = 500\n",
    "mut = 0.05\n",
    "fun = F6(num_vars)\n",
    "ga = GeneticAlg(500,fun,upper,lower,num_vars,prec,num_cand,max_evals=20000,mutation_chance=mut)\n",
    "ga.run()"
   ]
  },
  {
   "cell_type": "markdown",
   "metadata": {},
   "source": [
    "### F6 floating point"
   ]
  },
  {
   "cell_type": "code",
   "execution_count": 24,
   "metadata": {
    "collapsed": false
   },
   "outputs": [
    {
     "name": "stdout",
     "output_type": "stream",
     "text": [
      "######\n",
      "Broj evaluacija: 20000\n",
      "Fitness najbolje jedinke: 0.0746263191104\n",
      "Najbolja jedinka: [ 6.81450918  6.11208561  8.474414  ]\n",
      "Najbolja jedinka dekodirana: [ 6.81450918  6.11208561  8.474414  ]\n",
      "\n"
     ]
    },
    {
     "data": {
      "text/plain": [
       "<__main__.FloatingPointUnit instance at 0x10a52aef0>"
      ]
     },
     "execution_count": 24,
     "metadata": {},
     "output_type": "execute_result"
    }
   ],
   "source": [
    "lower = -50\n",
    "upper = 150\n",
    "prec = 4\n",
    "num_vars = 3\n",
    "num_cand = 3\n",
    "pop = 500\n",
    "mut = 0.05\n",
    "fun = F6(num_vars)\n",
    "ga = GeneticAlg(500,fun,upper,lower,num_vars,prec,num_cand,max_evals=20000,mutation_chance=mut,binary_rep=False)\n",
    "ga.run()"
   ]
  },
  {
   "cell_type": "markdown",
   "metadata": {},
   "source": [
    "### F7 binarni"
   ]
  },
  {
   "cell_type": "code",
   "execution_count": 25,
   "metadata": {
    "collapsed": false
   },
   "outputs": [
    {
     "name": "stdout",
     "output_type": "stream",
     "text": [
      "######\n",
      "Broj evaluacija: 20000\n",
      "Fitness najbolje jedinke: 0.60259360075\n",
      "Najbolja jedinka: [0 0 1 1 1 1 1 1 1 1 1 0 0 0 1 1 0 1 0 0 0 0 1 0 0 0 0 0 0 0 1 1 1 0 0 0 1\n",
      " 0 1 0 0 1 0 1 0 0 0 0 0 0 0 0 0 1 0 0 1 1 0 0 1 1 1]\n",
      "Najbolja jedinka dekodirana: [-0.08771424  0.34573095  0.05867484]\n",
      "\n"
     ]
    },
    {
     "data": {
      "text/plain": [
       "<__main__.BinaryUnit instance at 0x10a540638>"
      ]
     },
     "execution_count": 25,
     "metadata": {},
     "output_type": "execute_result"
    }
   ],
   "source": [
    "lower = -50\n",
    "upper = 150\n",
    "prec = 4\n",
    "num_vars = 3\n",
    "num_cand = 3\n",
    "pop = 500\n",
    "mut = 0.05\n",
    "fun = F7(num_vars)\n",
    "ga = GeneticAlg(500,fun,upper,lower,num_vars,prec,num_cand,max_evals=20000,mutation_chance=mut)\n",
    "ga.run()"
   ]
  },
  {
   "cell_type": "markdown",
   "metadata": {},
   "source": [
    "### F7 floating point"
   ]
  },
  {
   "cell_type": "code",
   "execution_count": 26,
   "metadata": {
    "collapsed": false
   },
   "outputs": [
    {
     "name": "stdout",
     "output_type": "stream",
     "text": [
      "######\n",
      "Broj evaluacija: 20000\n",
      "Fitness najbolje jedinke: 0.248381868005\n",
      "Najbolja jedinka: [ 0.02203958  0.01154893  0.04955161]\n",
      "Najbolja jedinka dekodirana: [ 0.02203958  0.01154893  0.04955161]\n",
      "\n"
     ]
    },
    {
     "data": {
      "text/plain": [
       "<__main__.FloatingPointUnit instance at 0x106d95440>"
      ]
     },
     "execution_count": 26,
     "metadata": {},
     "output_type": "execute_result"
    }
   ],
   "source": [
    "lower = -50\n",
    "upper = 150\n",
    "prec = 4\n",
    "num_vars = 3\n",
    "num_cand = 3\n",
    "pop = 500\n",
    "mut = 0.05\n",
    "fun = F7(num_vars)\n",
    "ga = GeneticAlg(500,fun,upper,lower,num_vars,prec,num_cand,max_evals=20000,mutation_chance=mut,binary_rep=False)\n",
    "ga.run()"
   ]
  },
  {
   "cell_type": "markdown",
   "metadata": {},
   "source": [
    "## 6 varijabli"
   ]
  },
  {
   "cell_type": "markdown",
   "metadata": {},
   "source": [
    "### F6 binarni"
   ]
  },
  {
   "cell_type": "code",
   "execution_count": 27,
   "metadata": {
    "collapsed": false
   },
   "outputs": [
    {
     "name": "stdout",
     "output_type": "stream",
     "text": [
      "######\n",
      "Broj evaluacija: 20000\n",
      "Fitness najbolje jedinke: 0.165554121137\n",
      "Najbolja jedinka: [0 0 1 1 1 0 0 1 0 1 1 0 1 1 0 1 0 1 1 1 1 0 0 1 1 1 1 0 1 0 1 1 0 0 0 0 0\n",
      " 0 1 0 1 0 0 1 0 0 0 0 1 1 0 0 1 1 0 1 1 1 1 0 0 0 0 0 1 0 1 0 1 0 0 0 0 0\n",
      " 0 0 0 0 1 0 0 0 1 0 0 1 0 0 1 1 0 0 0 1 1 0 1 1 1 0 0 1 0 0 1 0 0 1 1 0 0\n",
      " 1 0 1 1 1 0 0 0 0 0 0 1 1 1 0]\n",
      "Najbolja jedinka dekodirana: [ -5.13465649  -2.04980471   2.5131476   15.62827379   9.71158014\n",
      " -10.25255215]\n",
      "\n"
     ]
    },
    {
     "data": {
      "text/plain": [
       "<__main__.BinaryUnit instance at 0x10a52b128>"
      ]
     },
     "execution_count": 27,
     "metadata": {},
     "output_type": "execute_result"
    }
   ],
   "source": [
    "lower = -50\n",
    "upper = 150\n",
    "prec = 4\n",
    "num_vars = 6\n",
    "num_cand = 3\n",
    "pop = 500\n",
    "mut = 0.05\n",
    "fun = F6(num_vars)\n",
    "ga = GeneticAlg(500,fun,upper,lower,num_vars,prec,num_cand,max_evals=20000,mutation_chance=mut)\n",
    "ga.run()"
   ]
  },
  {
   "cell_type": "markdown",
   "metadata": {},
   "source": [
    "### F6 floating point"
   ]
  },
  {
   "cell_type": "code",
   "execution_count": 28,
   "metadata": {
    "collapsed": false
   },
   "outputs": [
    {
     "name": "stdout",
     "output_type": "stream",
     "text": [
      "######\n",
      "Broj evaluacija: 20000\n",
      "Fitness najbolje jedinke: 0.212690532207\n",
      "Najbolja jedinka: [ 13.1936495   -7.98489466  15.74172592  11.20706233  -1.04720202\n",
      "   3.17126455]\n",
      "Najbolja jedinka dekodirana: [ 13.1936495   -7.98489466  15.74172592  11.20706233  -1.04720202\n",
      "   3.17126455]\n",
      "\n"
     ]
    },
    {
     "data": {
      "text/plain": [
       "<__main__.FloatingPointUnit instance at 0x10a5b78c0>"
      ]
     },
     "execution_count": 28,
     "metadata": {},
     "output_type": "execute_result"
    }
   ],
   "source": [
    "lower = -50\n",
    "upper = 150\n",
    "prec = 4\n",
    "num_vars = 6\n",
    "num_cand = 3\n",
    "pop = 500\n",
    "mut = 0.05\n",
    "fun = F6(num_vars)\n",
    "ga = GeneticAlg(500,fun,upper,lower,num_vars,prec,num_cand,max_evals=20000,mutation_chance=mut,binary_rep=False)\n",
    "ga.run()"
   ]
  },
  {
   "cell_type": "markdown",
   "metadata": {},
   "source": [
    "### F7 binarni"
   ]
  },
  {
   "cell_type": "code",
   "execution_count": 31,
   "metadata": {
    "collapsed": false
   },
   "outputs": [
    {
     "name": "stdout",
     "output_type": "stream",
     "text": [
      "######\n",
      "Broj evaluacija: 20000\n",
      "Fitness najbolje jedinke: 3.12480068207\n",
      "Najbolja jedinka: [0 0 1 1 1 0 1 1 1 1 0 0 1 1 0 1 0 0 0 0 0 0 1 0 0 0 1 0 1 0 1 0 0 1 0 1 0\n",
      " 0 1 1 1 1 0 0 1 1 1 1 1 1 1 1 1 0 1 1 1 0 0 0 1 1 0 0 1 0 0 0 1 0 1 1 0 1\n",
      " 1 0 1 0 0 0 0 1 0 1 0 0 1 1 1 0 1 1 1 1 0 1 0 1 0 1 1 1 1 1 0 0 1 0 0 0 0\n",
      " 1 0 1 1 1 0 1 1 1 0 1 0 0 1 1]\n",
      "Najbolja jedinka dekodirana: [-3.28061737  4.1335364  -0.05433562  4.45606921 -3.25334227  2.29065527]\n",
      "\n"
     ]
    },
    {
     "data": {
      "text/plain": [
       "<__main__.BinaryUnit instance at 0x10a5b1710>"
      ]
     },
     "execution_count": 31,
     "metadata": {},
     "output_type": "execute_result"
    }
   ],
   "source": [
    "lower = -50\n",
    "upper = 150\n",
    "prec = 4\n",
    "num_vars = 6\n",
    "num_cand = 3\n",
    "pop = 500\n",
    "mut = 0.05\n",
    "fun = F7(num_vars)\n",
    "ga = GeneticAlg(500,fun,upper,lower,num_vars,prec,num_cand,max_evals=20000,mutation_chance=mut)\n",
    "ga.run()"
   ]
  },
  {
   "cell_type": "markdown",
   "metadata": {},
   "source": [
    "### F7 floating point"
   ]
  },
  {
   "cell_type": "code",
   "execution_count": 30,
   "metadata": {
    "collapsed": false
   },
   "outputs": [
    {
     "name": "stdout",
     "output_type": "stream",
     "text": [
      "######\n",
      "Broj evaluacija: 20000\n",
      "Fitness najbolje jedinke: 3.41028285027\n",
      "Najbolja jedinka: [ 3.07007459  5.05858323  5.16115695  2.86657463  5.06670816  6.29717405]\n",
      "Najbolja jedinka dekodirana: [ 3.07007459  5.05858323  5.16115695  2.86657463  5.06670816  6.29717405]\n",
      "\n"
     ]
    },
    {
     "data": {
      "text/plain": [
       "<__main__.FloatingPointUnit instance at 0x106d9f3f8>"
      ]
     },
     "execution_count": 30,
     "metadata": {},
     "output_type": "execute_result"
    }
   ],
   "source": [
    "lower = -50\n",
    "upper = 150\n",
    "prec = 4\n",
    "num_vars = 6\n",
    "num_cand = 3\n",
    "pop = 500\n",
    "mut = 0.05\n",
    "fun = F7(num_vars)\n",
    "ga = GeneticAlg(500,fun,upper,lower,num_vars,prec,num_cand,max_evals=20000,mutation_chance=mut,binary_rep=False)\n",
    "ga.run()"
   ]
  },
  {
   "cell_type": "markdown",
   "metadata": {},
   "source": [
    "# 4. zadatak"
   ]
  },
  {
   "cell_type": "markdown",
   "metadata": {},
   "source": [
    "### Test za velicinu populacije"
   ]
  },
  {
   "cell_type": "code",
   "execution_count": 38,
   "metadata": {
    "collapsed": false,
    "scrolled": true
   },
   "outputs": [
    {
     "name": "stdout",
     "output_type": "stream",
     "text": [
      "Done  0 30\n",
      "Done  1 30\n",
      "Done  2 30\n",
      "Done  3 30\n",
      "Done  4 30\n",
      "Done  5 30\n",
      "Done  6 30\n",
      "Done  7 30\n",
      "Done  8 30\n",
      "Done  9 30\n",
      "Done  0 50\n",
      "Done  1 50\n",
      "Done  2 50\n",
      "Done  3 50\n",
      "Done  4 50\n",
      "Done  5 50\n",
      "Done  6 50\n",
      "Done  7 50\n",
      "Done  8 50\n",
      "Done  9 50\n",
      "Done  0 100\n",
      "Done  1 100\n",
      "Done  2 100\n",
      "Done  3 100\n",
      "Done  4 100\n",
      "Done  5 100\n",
      "Done  6 100\n",
      "Done  7 100\n",
      "Done  8 100\n",
      "Done  9 100\n",
      "Done  0 200\n",
      "Done  1 200\n",
      "Done  2 200\n",
      "Done  3 200\n",
      "Done  4 200\n",
      "Done  5 200\n",
      "Done  6 200\n",
      "Done  7 200\n",
      "Done  8 200\n",
      "Done  9 200\n",
      "Done  0 500\n",
      "Done  1 500\n",
      "Done  2 500\n",
      "Done  3 500\n",
      "Done  4 500\n",
      "Done  5 500\n",
      "Done  6 500\n",
      "Done  7 500\n",
      "Done  8 500\n",
      "Done  9 500\n"
     ]
    }
   ],
   "source": [
    "lower = -50\n",
    "upper = 150\n",
    "prec = 4\n",
    "num_vars = 2\n",
    "num_cand = 3\n",
    "pop = 500\n",
    "mut = 0.05\n",
    "fun = F6(num_vars)\n",
    "num_trials = 10\n",
    "results = {}\n",
    "for pop_size in [30,50,100,200,500]:\n",
    "    for i in range(num_trials):\n",
    "        fun = F6(num_vars)\n",
    "        ga = GeneticAlg(pop_size,fun,upper,lower,num_vars,prec,num_cand,max_evals=20000,mutation_chance=mut, print_last_found=False)\n",
    "        sol = ga.run()\n",
    "        if pop_size not in results:\n",
    "            results[pop_size] = [sol]\n",
    "        else:\n",
    "            results[pop_size].append(sol)\n",
    "        print \"Done \", i, pop_size"
   ]
  },
  {
   "cell_type": "markdown",
   "metadata": {},
   "source": []
  },
  {
   "cell_type": "code",
   "execution_count": 72,
   "metadata": {
    "collapsed": false
   },
   "outputs": [
    {
     "name": "stdout",
     "output_type": "stream",
     "text": [
      "##### 30 #####\n",
      "5.68718938609e-09 30\n",
      "5.68718938609e-09 30\n",
      "0.00488417921588 30\n",
      "0.00488417921588 30\n",
      "0.00488417921588 30\n",
      "0.00488417921588 30\n",
      "0.00488417921588 30\n",
      "0.00488417921588 30\n",
      "0.00488417921588 30\n",
      "0.00488417968154 30\n",
      "##### 50 #####\n",
      "5.68718938609e-09 50\n",
      "5.68718938609e-09 50\n",
      "1.02369410726e-08 50\n",
      "0.00488417921588 50\n",
      "0.00488417921588 50\n",
      "0.00488417921588 50\n",
      "0.00488417921588 50\n",
      "0.00488417921588 50\n",
      "0.00488417921588 50\n",
      "0.00488417968154 50\n",
      "##### 100 #####\n",
      "5.68718938609e-09 100\n",
      "0.00488417921588 100\n",
      "0.00488417921588 100\n",
      "0.00488417921588 100\n",
      "0.00488417921588 100\n",
      "0.00488417921588 100\n",
      "0.00488417921588 100\n",
      "0.00488417921588 100\n",
      "0.00488417921588 100\n",
      "0.00488417968154 100\n",
      "##### 200 #####\n",
      "1.72094257778e-06 200\n",
      "0.000171430510818 200\n",
      "0.00488417921588 200\n",
      "0.00488417921588 200\n",
      "0.00488417921588 200\n",
      "0.00488417968154 200\n",
      "0.0048841801472 200\n",
      "0.00488418061286 200\n",
      "0.00488418061286 200\n",
      "0.00488418107852 200\n",
      "##### 500 #####\n",
      "2.39690361923e-05 500\n",
      "0.000205189964618 500\n",
      "0.000703795929439 500\n",
      "0.00302164885215 500\n",
      "0.00325803458691 500\n",
      "0.00488417921588 500\n",
      "0.00488418107852 500\n",
      "0.00488425977528 500\n",
      "0.00488427467644 500\n",
      "0.00488429004326 500\n"
     ]
    }
   ],
   "source": [
    "sort_key = lambda x: x.fitness\n",
    "for key in sorted(results.keys()):\n",
    "    print \"##### %s #####\" % (key)\n",
    "    results[key].sort(key = sort_key)\n",
    "    for sol in results[key]:\n",
    "        print sol.fitness, key"
   ]
  },
  {
   "cell_type": "code",
   "execution_count": 70,
   "metadata": {
    "collapsed": false
   },
   "outputs": [
    {
     "name": "stdout",
     "output_type": "stream",
     "text": [
      "Mean za velicinu populacije 30 iznosi 0.00488417921588\n",
      "Mean za velicinu populacije 50 iznosi 0.00488417921588\n",
      "Mean za velicinu populacije 100 iznosi 0.00488417921588\n",
      "Mean za velicinu populacije 200 iznosi 0.00488417968154\n",
      "Mean za velicinu populacije 500 iznosi 0.0048841801472\n"
     ]
    },
    {
     "data": {
      "image/png": "[encoded data removed]",
      "text/plain": [
       "<matplotlib.figure.Figure at 0x10ac19a10>"
      ]
     },
     "metadata": {},
     "output_type": "display_data"
    }
   ],
   "source": [
    "data_to_plot = []\n",
    "for key in sorted(results.keys()):\n",
    "    values = []\n",
    "    mean = 0\n",
    "    for val in results[key]:\n",
    "        values.append(val.fitness)\n",
    "    if len(results[key]) %2 == 0:\n",
    "        first_cand = results[key][len(results[key])/2]\n",
    "        second_cand = results[key][len(results[key])/2+1]\n",
    "        mean = (first_cand.fitness+second_cand.fitness)/2.\n",
    "    else:\n",
    "        mean = results[key][len(results[key])/2].fitness\n",
    "    print \"Mean za velicinu populacije %s iznosi %s\" % (key, mean)\n",
    "    data_to_plot.append(np.array(values))\n",
    "# Create a figure instance\n",
    "fig = plt.figure(1, figsize=(16, 12))\n",
    "\n",
    "# Create an axes instance\n",
    "ax = fig.add_subplot(111)\n",
    "\n",
    "# Create the boxplot\n",
    "bp = ax.boxplot(data_to_plot)\n",
    "plt.title(\"Boxplot za razlicite velicine populacija\")\n",
    "plt.xticks([1, 2, 3, 4, 5], ['pop_size = 30', 'pop_size = 50', 'pop_size = 100','pop_size = 200','pop_size = 500'])\n",
    "plt.show()"
   ]
  },
  {
   "cell_type": "markdown",
   "metadata": {},
   "source": [
    "# 5.zadatak"
   ]
  },
  {
   "cell_type": "markdown",
   "metadata": {},
   "source": [
    "### Test za razlicite velicine turnirske selekcije"
   ]
  },
  {
   "cell_type": "code",
   "execution_count": 82,
   "metadata": {
    "collapsed": false,
    "scrolled": true
   },
   "outputs": [
    {
     "name": "stdout",
     "output_type": "stream",
     "text": [
      "Done  0 2\n",
      "Done  1 2\n",
      "Done  2 2\n",
      "Done  3 2\n",
      "Done  4 2\n",
      "Done  5 2\n",
      "Done  6 2\n",
      "Done  7 2\n",
      "Done  8 2\n",
      "Done  9 2\n",
      "Done  0 4\n",
      "Done  1 4\n",
      "Done  2 4\n",
      "Done  3 4\n",
      "Done  4 4\n",
      "Done  5 4\n",
      "Done  6 4\n",
      "Done  7 4\n",
      "Done  8 4\n",
      "Done  9 4\n",
      "Done  0 6\n",
      "Done  1 6\n",
      "Done  2 6\n",
      "Done  3 6\n",
      "Done  4 6\n",
      "Done  5 6\n",
      "Done  6 6\n",
      "Done  7 6\n",
      "Done  8 6\n",
      "Done  9 6\n",
      "Done  0 8\n",
      "Done  1 8\n",
      "Done  2 8\n",
      "Done  3 8\n",
      "Done  4 8\n",
      "Done  5 8\n",
      "Done  6 8\n",
      "Done  7 8\n",
      "Done  8 8\n",
      "Done  9 8\n",
      "Done  0 10\n",
      "Done  1 10\n",
      "Done  2 10\n",
      "Done  3 10\n",
      "Done  4 10\n",
      "Done  5 10\n",
      "Done  6 10\n",
      "Done  7 10\n",
      "Done  8 10\n",
      "Done  9 10\n"
     ]
    }
   ],
   "source": [
    "lower = -50\n",
    "upper = 150\n",
    "prec = 4\n",
    "num_vars = 2\n",
    "pop = 50\n",
    "mut = 0.05\n",
    "fun = F6(num_vars)\n",
    "num_trials = 10\n",
    "tournament_results = {}\n",
    "for num_cand in [2,4,6,8,10]:\n",
    "    for i in range(num_trials):\n",
    "        fun = F6(num_vars)\n",
    "        ga = GeneticAlg(pop,fun,upper,lower,num_vars,prec,num_cand,max_evals=20000,mutation_chance=mut, print_last_found=False)\n",
    "        sol = ga.run()\n",
    "        if num_cand not in tournament_results:\n",
    "            tournament_results[num_cand] = [sol]\n",
    "        else:\n",
    "            tournament_results[num_cand].append(sol)\n",
    "        print \"Done \", i, num_cand"
   ]
  },
  {
   "cell_type": "code",
   "execution_count": 85,
   "metadata": {
    "collapsed": false,
    "scrolled": true
   },
   "outputs": [
    {
     "name": "stdout",
     "output_type": "stream",
     "text": [
      "##### 2 #####\n",
      "5.68718938609e-09 2\n",
      "2.05876247605e-07 2\n",
      "2.10425994851e-07 2\n",
      "3.03126898871e-06 2\n",
      "3.92831789213e-05 2\n",
      "0.00488417921588 2\n",
      "0.00488417921588 2\n",
      "0.00488417921588 2\n",
      "0.00488417921588 2\n",
      "0.00488418200985 2\n",
      "##### 4 #####\n",
      "5.68718938609e-09 4\n",
      "5.68718938609e-09 4\n",
      "1.02369410726e-08 4\n",
      "1.02369410726e-08 4\n",
      "0.00488417921588 4\n",
      "0.00488417921588 4\n",
      "0.00488417921588 4\n",
      "0.00488417921588 4\n",
      "0.00488417921588 4\n",
      "0.00488417921588 4\n",
      "##### 6 #####\n",
      "1.13743792163e-09 6\n",
      "5.68718938609e-09 6\n",
      "5.68718938609e-09 6\n",
      "0.00488417921588 6\n",
      "0.00488417921588 6\n",
      "0.00488417921588 6\n",
      "0.00488417921588 6\n",
      "0.00488417921588 6\n",
      "0.00488417921588 6\n",
      "0.00488417921588 6\n",
      "##### 8 #####\n",
      "1.13743792163e-09 8\n",
      "5.68718938609e-09 8\n",
      "1.02369410726e-08 8\n",
      "1.02369410726e-08 8\n",
      "0.00488417921588 8\n",
      "0.00488417921588 8\n",
      "0.00488417921588 8\n",
      "0.00488417921588 8\n",
      "0.00488417921588 8\n",
      "0.00488417921588 8\n",
      "##### 10 #####\n",
      "1.13743792163e-09 10\n",
      "5.68718938609e-09 10\n",
      "5.68718938609e-09 10\n",
      "1.02369410726e-08 10\n",
      "1.02369410726e-08 10\n",
      "0.00488417921588 10\n",
      "0.00488417921588 10\n",
      "0.00488417921588 10\n",
      "0.00488417921588 10\n",
      "0.00488417921588 10\n"
     ]
    }
   ],
   "source": [
    "sort_key = lambda x: x.fitness\n",
    "for key in sorted(tournament_results.keys()):\n",
    "    print \"##### %s #####\" % (key)\n",
    "    tournament_results[key].sort(key = sort_key)\n",
    "    for sol in tournament_results[key]:\n",
    "        print sol.fitness, key"
   ]
  },
  {
   "cell_type": "code",
   "execution_count": 96,
   "metadata": {
    "collapsed": false
   },
   "outputs": [
    {
     "name": "stdout",
     "output_type": "stream",
     "text": [
      "Mean za velicinu populacije 2 iznosi 0.00488417921588\n",
      "Mean za velicinu populacije 4 iznosi 0.00488417921588\n",
      "Mean za velicinu populacije 6 iznosi 0.00488417921588\n",
      "Mean za velicinu populacije 8 iznosi 0.00488417921588\n",
      "Mean za velicinu populacije 10 iznosi 0.00488417921588\n"
     ]
    },
    {
     "data": {
      "image/png": "[encoded data removed]",
      "text/plain": [
       "<matplotlib.figure.Figure at 0x10b5ba650>"
      ]
     },
     "metadata": {},
     "output_type": "display_data"
    }
   ],
   "source": [
    "data_to_plot = []\n",
    "for key in sorted(tournament_results.keys()):\n",
    "    values = []\n",
    "    mean = 0\n",
    "    for val in tournament_results[key]:\n",
    "        values.append(val.fitness)\n",
    "    if len(tournament_results[key]) %2 == 0:\n",
    "        first_cand = tournament_results[key][len(tournament_results[key])/2]\n",
    "        second_cand = tournament_results[key][len(tournament_results[key])/2+1]\n",
    "        mean = (first_cand.fitness+second_cand.fitness)/2.\n",
    "    else:\n",
    "        mean = tournament_results[key][len(tournament_results[key])/2].fitness\n",
    "    print \"Mean za velicinu populacije %s iznosi %s\" % (key, mean)\n",
    "    data_to_plot.append(np.array(values))\n",
    "# Create a figure instance\n",
    "fig = plt.figure(1, figsize=(16, 12))\n",
    "\n",
    "# Create an axes instance\n",
    "ax = fig.add_subplot(111)\n",
    "\n",
    "# Create the boxplot\n",
    "bp = ax.boxplot(data_to_plot)\n",
    "plt.title(\"Boxplot za razlicit broj kandidata turnirske selekcije\")\n",
    "plt.xticks([1, 2, 3, 4, 5], ['num_cand = 2','num_cand = 4','num_cand = 6','num_cand = 8','num_cand = 10'])\n",
    "plt.show()"
   ]
  },
  {
   "cell_type": "markdown",
   "metadata": {},
   "source": [
    "### Test za razlicite mutacija"
   ]
  },
  {
   "cell_type": "code",
   "execution_count": 90,
   "metadata": {
    "collapsed": false
   },
   "outputs": [
    {
     "name": "stdout",
     "output_type": "stream",
     "text": [
      "Done  0 0.1\n",
      "Done  1 0.1\n",
      "Done  2 0.1\n",
      "Done  3 0.1\n",
      "Done  4 0.1\n",
      "Done  5 0.1\n",
      "Done  6 0.1\n",
      "Done  7 0.1\n",
      "Done  8 0.1\n",
      "Done  9 0.1\n",
      "Done  0 0.3\n",
      "Done  1 0.3\n",
      "Done  2 0.3\n",
      "Done  3 0.3\n",
      "Done  4 0.3\n",
      "Done  5 0.3\n",
      "Done  6 0.3\n",
      "Done  7 0.3\n",
      "Done  8 0.3\n",
      "Done  9 0.3\n",
      "Done  0 0.6\n",
      "Done  1 0.6\n",
      "Done  2 0.6\n",
      "Done  3 0.6\n",
      "Done  4 0.6\n",
      "Done  5 0.6\n",
      "Done  6 0.6\n",
      "Done  7 0.6\n",
      "Done  8 0.6\n",
      "Done  9 0.6\n",
      "Done  0 0.9\n",
      "Done  1 0.9\n",
      "Done  2 0.9\n",
      "Done  3 0.9\n",
      "Done  4 0.9\n",
      "Done  5 0.9\n",
      "Done  6 0.9\n",
      "Done  7 0.9\n",
      "Done  8 0.9\n",
      "Done  9 0.9\n"
     ]
    }
   ],
   "source": [
    "lower = -50\n",
    "upper = 150\n",
    "prec = 4\n",
    "num_vars = 2\n",
    "pop = 50\n",
    "num_cand = 10\n",
    "fun = F6(num_vars)\n",
    "num_trials = 10\n",
    "mutation_results = {}\n",
    "for mut in [0.1,0.3,0.6,0.9]:\n",
    "    for i in range(num_trials):\n",
    "        fun = F6(num_vars)\n",
    "        ga = GeneticAlg(pop,fun,upper,lower,num_vars,prec,num_cand,max_evals=20000,mutation_chance=mut, print_last_found=False)\n",
    "        sol = ga.run()\n",
    "        if mut not in mutation_results:\n",
    "            mutation_results[mut] = [sol]\n",
    "        else:\n",
    "            mutation_results[mut].append(sol)\n",
    "        print \"Done \", i, mut"
   ]
  },
  {
   "cell_type": "code",
   "execution_count": 91,
   "metadata": {
    "collapsed": false
   },
   "outputs": [
    {
     "name": "stdout",
     "output_type": "stream",
     "text": [
      "##### 0.1 #####\n",
      "4.66349519002e-08 0.1\n",
      "6.93837094445e-08 0.1\n",
      "0.00488417921588 0.1\n",
      "0.00488417921588 0.1\n",
      "0.00488417921588 0.1\n",
      "0.00488417921588 0.1\n",
      "0.00488417921588 0.1\n",
      "0.00488417921588 0.1\n",
      "0.00488417968154 0.1\n",
      "0.00488418061286 0.1\n",
      "##### 0.3 #####\n",
      "0.00488976994529 0.3\n",
      "0.00489078415558 0.3\n",
      "0.00492150662467 0.3\n",
      "0.00496159028262 0.3\n",
      "0.00499590486288 0.3\n",
      "0.00500037940219 0.3\n",
      "0.00500365206972 0.3\n",
      "0.00526271760464 0.3\n",
      "0.00531019503251 0.3\n",
      "0.00552361551672 0.3\n",
      "##### 0.6 #####\n",
      "0.00491084018722 0.6\n",
      "0.00493293767795 0.6\n",
      "0.00494569446892 0.6\n",
      "0.00497906561941 0.6\n",
      "0.00507744960487 0.6\n",
      "0.00527213746682 0.6\n",
      "0.0053188004531 0.6\n",
      "0.00538248475641 0.6\n",
      "0.0106301754713 0.6\n",
      "0.0190663728863 0.6\n",
      "##### 0.9 #####\n",
      "0.00488426955417 0.9\n",
      "0.00488675385714 0.9\n",
      "0.00489502679557 0.9\n",
      "0.00490611046553 0.9\n",
      "0.00492783915251 0.9\n",
      "0.00496829347685 0.9\n",
      "0.00501039857045 0.9\n",
      "0.00549465650693 0.9\n",
      "0.0056246551685 0.9\n",
      "0.00591897824779 0.9\n"
     ]
    }
   ],
   "source": [
    "sort_key = lambda x: x.fitness\n",
    "for key in sorted(mutation_results.keys()):\n",
    "    print \"##### %s #####\" % (key)\n",
    "    mutation_results[key].sort(key = sort_key)\n",
    "    for sol in mutation_results[key]:\n",
    "        print sol.fitness, key"
   ]
  },
  {
   "cell_type": "code",
   "execution_count": 95,
   "metadata": {
    "collapsed": false
   },
   "outputs": [
    {
     "name": "stdout",
     "output_type": "stream",
     "text": [
      "Mean za velicinu populacije 0.1 iznosi 0.00488417921588\n",
      "Mean za velicinu populacije 0.3 iznosi 0.00500201573595\n",
      "Mean za velicinu populacije 0.6 iznosi 0.00529546895996\n",
      "Mean za velicinu populacije 0.9 iznosi 0.00498934602365\n"
     ]
    },
    {
     "data": {
      "image/png": "[encoded data removed]",
      "text/plain": [
       "<matplotlib.figure.Figure at 0x10b520150>"
      ]
     },
     "metadata": {},
     "output_type": "display_data"
    }
   ],
   "source": [
    "data_to_plot = []\n",
    "for key in sorted(mutation_results.keys()):\n",
    "    values = []\n",
    "    mean = 0\n",
    "    for val in mutation_results[key]:\n",
    "        values.append(val.fitness)\n",
    "    if len(mutation_results[key]) %2 == 0:\n",
    "        first_cand = mutation_results[key][len(mutation_results[key])/2]\n",
    "        second_cand = mutation_results[key][len(mutation_results[key])/2+1]\n",
    "        mean = (first_cand.fitness+second_cand.fitness)/2.\n",
    "    else:\n",
    "        mean = mutation_results[key][len(mutation_results[key])/2].fitness\n",
    "    print \"Mean za velicinu populacije %s iznosi %s\" % (key, mean)\n",
    "    data_to_plot.append(np.array(values))\n",
    "# Create a figure instance\n",
    "fig = plt.figure(1, figsize=(16, 12))\n",
    "\n",
    "# Create an axes instance\n",
    "ax = fig.add_subplot(111)\n",
    "\n",
    "# Create the boxplot\n",
    "bp = ax.boxplot(data_to_plot)\n",
    "plt.title(\"Boxplot za razlicite vjerojatnosti mutacije\")\n",
    "plt.xticks([1, 2, 3, 4], ['mutation_chance = 0.1','mutation_chance = 0.3','mutation_chance = 0.6','mutation_chance = 0.9'])\n",
    "plt.show()"
   ]
  },
  {
   "cell_type": "code",
   "execution_count": null,
   "metadata": {
    "collapsed": true
   },
   "outputs": [],
   "source": []
  }
 ],
 "metadata": {
  "kernelspec": {
   "display_name": "Python 2",
   "language": "python",
   "name": "python2"
  },
  "language_info": {
   "codemirror_mode": {
    "name": "ipython",
    "version": 2
   },
   "file_extension": ".py",
   "mimetype": "text/x-python",
   "name": "python",
   "nbconvert_exporter": "python",
   "pygments_lexer": "ipython2",
   "version": "2.7.12"
  }
 },
 "nbformat": 4,
 "nbformat_minor": 1
}
