{
 "cells": [
  {
   "cell_type": "code",
   "execution_count": 229,
   "metadata": {
    "collapsed": false
   },
   "outputs": [],
   "source": [
    "import math\n",
    "from copy import deepcopy\n",
    "import numpy as np\n",
    "import types\n",
    "import pylab\n",
    "import matplotlib.pyplot as plt\n",
    "import plotly.plotly as py\n",
    "from plotly.graph_objs import Surface\n",
    "import plotly.tools as tls\n",
    "import sympy\n",
    "from sympy import *\n",
    "tls.set_credentials_file(username='Mungos', api_key='mcnflyescl')"
   ]
  },
  {
   "cell_type": "markdown",
   "metadata": {},
   "source": [
    "# Nelder Mead"
   ]
  },
  {
   "cell_type": "code",
   "execution_count": 230,
   "metadata": {
    "collapsed": false
   },
   "outputs": [],
   "source": [
    "def nelder_mead(f, x_start,\n",
    "                step=1, no_improve_thr=10e-6,\n",
    "                no_improv_break=50, max_iter=0,\n",
    "                alpha=1., gamma=2., rho=-0.5, sigma=0.5,verbose=False):\n",
    "    \n",
    "    dim = len(x_start)\n",
    "    prev_best = f.evaluate(x_start)\n",
    "    no_improv = 0\n",
    "    x_start = np.array(x_start).astype(np.float64)\n",
    "    res = [[x_start, prev_best]]\n",
    "\n",
    "    for i in range(dim):\n",
    "        x = deepcopy(x_start)\n",
    "        x[i] = x[i] + step\n",
    "        score = f.evaluate(x)\n",
    "        res.append([x, score])\n",
    "    \n",
    "    \n",
    "    # simplex iter\n",
    "    iters = 0\n",
    "    while 1:\n",
    "        # order\n",
    "        res.sort(key=lambda x: x[1])\n",
    "        best = res[0][1]\n",
    "\n",
    "        # break after max_iter\n",
    "        if max_iter and iters >= max_iter:\n",
    "            return res[0][0]\n",
    "        iters += 1\n",
    "\n",
    "\n",
    "        if best < prev_best - no_improve_thr:\n",
    "            no_improv = 0\n",
    "            prev_best = best\n",
    "        else:\n",
    "            no_improv += 1\n",
    "\n",
    "        if no_improv >= no_improv_break:\n",
    "            return res[0][0]\n",
    "\n",
    "        # centroid\n",
    "        x0 = [0.] * dim\n",
    "        for tup in res[:-1]:\n",
    "            for i, c in enumerate(tup[0]):\n",
    "                x0[i] += c / (len(res)-1)\n",
    "                \n",
    "        # break after no_improv_break iterations with no improvement\n",
    "        if verbose:\n",
    "            print  'Value in centroid: ', f.evaluate(x0), ' Centroid: ', x0\n",
    "                \n",
    "        # reflection\n",
    "        xr = x0 + alpha*(x0 - res[-1][0])\n",
    "        rscore = f.evaluate(xr)\n",
    "        if rscore < res[0][1]:\n",
    "            xe = x0 + gamma*(x0 - res[-1][0])\n",
    "            escore = f.evaluate(xe)\n",
    "            if escore < res[0][1]:\n",
    "                del res[-1]\n",
    "                res.append([xe, escore])\n",
    "                continue\n",
    "            else:\n",
    "                del res[-1]\n",
    "                res.append([xr, rscore])\n",
    "                continue\n",
    "        else:\n",
    "            if rscore > res[-2][1]:\n",
    "                if rscore < res[-1][1]:\n",
    "                    del res[-1]\n",
    "                    res.append([xr, rscore])\n",
    "                # contraction\n",
    "                xc = x0 + rho*(x0 - res[-1][0])\n",
    "                cscore = f.evaluate(xc)\n",
    "                if cscore < res[-1][1]:\n",
    "                    del res[-1]\n",
    "                    res.append([xc, cscore])\n",
    "                    continue\n",
    "                else:\n",
    "                    # reduction\n",
    "                    x1 = res[0][0]\n",
    "                    nres = []\n",
    "                    for tup in res:\n",
    "                        redx = x1 + sigma*(tup[0] - x1)\n",
    "                        score = f.evaluate(redx)\n",
    "                        nres.append([redx, score])\n",
    "                    res = nres\n",
    "            else:\n",
    "                del res[-1]\n",
    "                res.append([xr, rscore])\n",
    "\n",
    "\n",
    "# if __name__ == \"__main__\":\n",
    "    \n",
    "# #     fun = Function(f4)\n",
    "#     print nelder_mead(Rosenbrock(), [5,5])"
   ]
  },
  {
   "cell_type": "markdown",
   "metadata": {},
   "source": [
    "# Golden section"
   ]
  },
  {
   "cell_type": "code",
   "execution_count": 231,
   "metadata": {
    "collapsed": true
   },
   "outputs": [],
   "source": [
    "def golden_section_search(f,starting_point = None, a=None,b=None,eps=1, verbose = False):\n",
    "    if starting_point != None:\n",
    "        a,b = find_unimodal(starting_point,f.evaluate,eps)\n",
    "    elif a==None or b== None:\n",
    "        raise Exception(\"Starting point or unimodal interval needs to be given\")\n",
    "    \n",
    "    if verbose:\n",
    "        print \"Searching in interval [%f, %f]\" % (a,b)\n",
    "    \n",
    "    \n",
    "    fi = (math.sqrt(5.0) - 1.0)/2\n",
    "    c = b - (b - a)*fi\n",
    "    d = a + (b - a)*fi\n",
    "    while (b - a) > eps:\n",
    "        c_score, d_score = f.evaluate(c),f.evaluate(d)\n",
    "        if verbose:\n",
    "            print \"|a = %.3f|c = %.3f|d = %.3f|b = %.3f|f(c) = %.3f|f(d) = %.3f|f(c) > f(d) = %s\" %(a,c,d,b,c_score,d_score, c_score>d_score)\n",
    "        if c_score >= d_score:\n",
    "            a = c\n",
    "            c = d\n",
    "            d = a + (b - a)*fi\n",
    "        else:\n",
    "            b = d\n",
    "            d = c\n",
    "            c = b - (b - a)*fi\n",
    "    if verbose:\n",
    "        print ''\n",
    "        print \"Final interval = [\",a,\", \", b,\"]\"\n",
    "    return (a+b)/2."
   ]
  },
  {
   "cell_type": "markdown",
   "metadata": {},
   "source": [
    "# Unimodalni interval"
   ]
  },
  {
   "cell_type": "code",
   "execution_count": 232,
   "metadata": {
    "collapsed": true
   },
   "outputs": [],
   "source": [
    "def find_unimodal(starting_point, function, starting_step=1):\n",
    "    step = starting_step\n",
    "    current_point = starting_point\n",
    "    direction = 1\n",
    "    if function(current_point + step) >= function(current_point):\n",
    "        direction=-1\n",
    "    next_point = current_point + direction*step\n",
    "    cnt = 1\n",
    "    previous_point = current_point\n",
    "    while function(current_point) > function(next_point):\n",
    "        previous_point = current_point\n",
    "        current_point = next_point\n",
    "        next_point = starting_point + direction * (2**cnt) * step\n",
    "        cnt+=1\n",
    "    \n",
    "    if previous_point > next_point:\n",
    "        return next_point, previous_point\n",
    "    return previous_point, next_point"
   ]
  },
  {
   "cell_type": "markdown",
   "metadata": {},
   "source": [
    "# Base function class"
   ]
  },
  {
   "cell_type": "code",
   "execution_count": 267,
   "metadata": {
    "collapsed": true
   },
   "outputs": [],
   "source": [
    "class Function():\n",
    "    def subs_dict(self,x):\n",
    "        dic = {}\n",
    "        for i,var in enumerate(self.variables):\n",
    "            dic[var] = x[i]\n",
    "        return dic\n",
    "    \n",
    "    def gradient_symbolic(self):\n",
    "        grads = []\n",
    "        for var in self.variables:\n",
    "            dif = diff(self.equation,var)\n",
    "            grads.append(dif)\n",
    "        return grads\n",
    "        \n",
    "    def gradient(self,x):\n",
    "        self.gradient_calls+=1\n",
    "        sub_dict = self.subs_dict(x)\n",
    "        grads = self.gradient_symbolic()\n",
    "        for i,grad in enumerate(grads):\n",
    "            grads[i]=grad.evalf(subs=sub_dict)\n",
    "        return np.array(grads,dtype=np.float32)\n",
    "        \n",
    "    def hessean_symbolic(self):\n",
    "        grads = self.gradient_symbolic()\n",
    "        hessean = []\n",
    "        for i,grad in enumerate(grads):\n",
    "            hess_row = []\n",
    "            for var in self.variables:\n",
    "                dif = diff(grad,var)\n",
    "                hess_row.append(dif)\n",
    "            hessean.append(hess_row)\n",
    "        return hessean\n",
    "        \n",
    "    def hessean(self,x):\n",
    "        self.gradient_calls+=1\n",
    "        hess = self.hessean_symbolic()\n",
    "        sub_dict = self.subs_dict(x)\n",
    "        for i,row in enumerate(hess):\n",
    "            for j, val in enumerate(row):\n",
    "                hess[i][j] = hess[i][j].evalf(subs=sub_dict)\n",
    "        return np.array(hess,dtype=np.float32)\n",
    "        \n",
    "    def evaluate(self,x, exponential=False):\n",
    "        self.calls+=1\n",
    "        subs = self.subs_dict(x)\n",
    "        value = np.array(self.equation.evalf(subs=subs),dtype=np.float32)\n",
    "        return value"
   ]
  },
  {
   "cell_type": "markdown",
   "metadata": {},
   "source": [
    "# Helper extensions"
   ]
  },
  {
   "cell_type": "code",
   "execution_count": 261,
   "metadata": {
    "collapsed": false
   },
   "outputs": [
    {
     "name": "stdout",
     "output_type": "stream",
     "text": [
      "[4.0*x1 - 12.0 + 1/(-x1 + x2), 8.0*x2 - 16.0 - 1/(-x1 + x2)]\n",
      "[[4.0 + (-x1 + x2)**(-2), -1/(-x1 + x2)**2], [-1/(-x1 + x2)**2, 8.0 + (-x1 + x2)**(-2)]]\n"
     ]
    }
   ],
   "source": [
    "def is_numeric(x):\n",
    "    NumberTypes = (types.IntType, types.LongType, types.FloatType)\n",
    "    return isinstance(x, NumberTypes)\n",
    "\n",
    "class BoxOptFunction():\n",
    "    def __init__(self, func,inequality_restriction):\n",
    "        self.calls = 0\n",
    "        self.gradient_calls=0\n",
    "        self.hessean_calls=0\n",
    "        self.inequality_restriction = inequality_restriction\n",
    "        self.func = func\n",
    "        \n",
    "    def check_inequality_constraints(self,x):\n",
    "        for constraint in self.inequality_restriction:\n",
    "            if(constraint.evaluate(x)<0):\n",
    "                return False\n",
    "        return True\n",
    "            \n",
    "\n",
    "    def evaluate(self,X):\n",
    "        self.calls+=1\n",
    "        return self.func.evaluate(X)\n",
    "    \n",
    "\n",
    "class MixedTransformationFunction():\n",
    "    def __init__(self, func,inequality_restriction=None, equality_restriction=None):\n",
    "        self.calls = 0\n",
    "        self.gradient_calls=0\n",
    "        self.hessean_calls=0\n",
    "        self.t = 1\n",
    "        self.inequality_restriction = inequality_restriction\n",
    "        self.equality_restriction = equality_restriction\n",
    "        self.func = func\n",
    "        \n",
    "    def combined_symbolic_grad(self): \n",
    "        func_grads = self.func.gradient_symbolic()\n",
    "        if self.inequality_restriction:\n",
    "            for eq in self.inequality_restriction:\n",
    "                for i in range(len(func_grads)):\n",
    "                    func_grads[i] -= (self.t*eq.gradient_symbolic())[i]\n",
    "                \n",
    "        if self.equality_restriction:\n",
    "            for eq in self.equality_restriction:\n",
    "                for i in range(len(func_grads)):\n",
    "                    func_grads[i] += 1./self.t*eq.gradient_symbolic()[i]\n",
    "        return func_grads\n",
    "    \n",
    "    def combined_symbolic_hessean(self):\n",
    "        grads = self.combined_symbolic_grad()\n",
    "        hessean = []\n",
    "        for i,grad in enumerate(grads):\n",
    "            hess_row = []\n",
    "            for var in self.func.variables:\n",
    "                dif = diff(grad,var)\n",
    "                hess_row.append(dif)\n",
    "            hessean.append(hess_row)\n",
    "        return hessean\n",
    "    \n",
    "    def combined_grad(self,x):\n",
    "        self.gradient_calls+=1\n",
    "        sub_dict = self.subs_dict(x)\n",
    "        grads = self.combined_symbolic_grad()\n",
    "        for i,grad in enumerate(grads):\n",
    "            grads[i]=grad.evalf(subs=sub_dict)\n",
    "        return np.array(grads,dtype=np.float32)\n",
    "    \n",
    "    def hessean(self,x):\n",
    "        self.gradient_calls+=1\n",
    "        hess = self.combined_symbolic_hessean()\n",
    "        sub_dict = self.subs_dict(x)\n",
    "        for i,row in enumerate(hess):\n",
    "            for j, val in enumerate(row):\n",
    "                hess[i][j] = hess[i][j].evalf(subs=sub_dict)\n",
    "        return np.array(hess,dtype=np.float32)\n",
    "        \n",
    "    def set_t(self,t):\n",
    "        self.t = t\n",
    "        \n",
    "    def evaluate(self,X):\n",
    "        self.calls+=1\n",
    "        func_value = self.func.evaluate(X)\n",
    "        if self.inequality_restriction:\n",
    "            constraint_sum = 0\n",
    "            for eq in self.inequality_restriction:\n",
    "                try:\n",
    "                    val = eq.evaluate(X)\n",
    "                except TypeError:\n",
    "                    return 1e10\n",
    "                constraint_sum +=val\n",
    "            func_value -= 1./self.t*constraint_sum\n",
    "                \n",
    "        if self.equality_restriction:\n",
    "            constraint_sum=0\n",
    "            for eq in self.equality_restriction:\n",
    "                val = eq.evaluate(X)\n",
    "                constraint_sum +=val\n",
    "            func_value += self.t*constraint_sum\n",
    "        return func_value\n",
    "    \n",
    "\n",
    "test = MixedTransformationFunction(F2(),[First_restriction()],[Second_Restriction(False)])\n",
    "print test.combined_symbolic_grad()\n",
    "print test.combined_symbolic_hessean()"
   ]
  },
  {
   "cell_type": "markdown",
   "metadata": {},
   "source": [
    "# Rosenbrock"
   ]
  },
  {
   "cell_type": "code",
   "execution_count": 235,
   "metadata": {
    "collapsed": false
   },
   "outputs": [],
   "source": [
    "class Rosenbrock(Function):\n",
    "    def __init__(self):\n",
    "        self.calls=0\n",
    "        self.gradient_calls=0\n",
    "        self.hessean_calls=0\n",
    "        x1= symbols('x1')\n",
    "        x2 = symbols('x2')\n",
    "        self.variables = [x1,x2]\n",
    "        self.equation = (100*(x2-x1**2)**2+(1-x1)**2)"
   ]
  },
  {
   "cell_type": "markdown",
   "metadata": {},
   "source": [
    "# F2"
   ]
  },
  {
   "cell_type": "code",
   "execution_count": 236,
   "metadata": {
    "collapsed": false
   },
   "outputs": [],
   "source": [
    "class F2(Function):\n",
    "    def __init__(self):\n",
    "        self.calls=0\n",
    "        self.gradient_calls=0\n",
    "        self.hessean_calls=0\n",
    "        x1= symbols('x1')\n",
    "        x2 = symbols('x2')\n",
    "        self.variables = [x1,x2]\n",
    "        self.equation = ((x1-4.)**2 + 4.*(x2-2)**2)"
   ]
  },
  {
   "cell_type": "markdown",
   "metadata": {},
   "source": [
    "# F3"
   ]
  },
  {
   "cell_type": "code",
   "execution_count": 237,
   "metadata": {
    "collapsed": false
   },
   "outputs": [],
   "source": [
    "class F3(Function):\n",
    "    def __init__(self):\n",
    "        self.calls=0\n",
    "        self.gradient_calls=0\n",
    "        self.hessean_calls=0\n",
    "        x1= symbols('x1')\n",
    "        x2 = symbols('x2')\n",
    "        self.variables = [x1,x2]\n",
    "        self.equation = ((x1-2.)**2 + (x2+3)**2)"
   ]
  },
  {
   "cell_type": "markdown",
   "metadata": {},
   "source": [
    "# F4"
   ]
  },
  {
   "cell_type": "code",
   "execution_count": 238,
   "metadata": {
    "collapsed": false
   },
   "outputs": [],
   "source": [
    "class F4(Function):\n",
    "    def __init__(self):\n",
    "        self.calls=0\n",
    "        self.gradient_calls=0\n",
    "        self.hessean_calls=0\n",
    "        x1= symbols('x1')\n",
    "        x2 = symbols('x2')\n",
    "        self.variables = [x1,x2]\n",
    "        self.equation = ((x1-3.)**2 + (x2)**2)"
   ]
  },
  {
   "cell_type": "markdown",
   "metadata": {},
   "source": [
    "# Restrictions "
   ]
  },
  {
   "cell_type": "code",
   "execution_count": 239,
   "metadata": {
    "collapsed": true
   },
   "outputs": [],
   "source": [
    "class First_restriction(Function): #x2-x1 >= 0\n",
    "    def __init__(self, inequality_rest=True,power=2):\n",
    "        self.calls=0\n",
    "        self.gradient_calls=0\n",
    "        self.hessean_calls=0\n",
    "        x1= symbols('x1')\n",
    "        x2 = symbols('x2')\n",
    "        self.variables = [x1,x2]\n",
    "        if inequality_rest:\n",
    "            self.equation = log(x2-x1)\n",
    "        else:\n",
    "            self.equation = (x2-x1)**power\n",
    "        \n",
    "class Second_Restriction(Function): #x2-x1 >= 0\n",
    "    def __init__(self, inequality_rest=True,power=2):\n",
    "        self.calls=0\n",
    "        self.gradient_calls=0\n",
    "        self.hessean_calls=0\n",
    "        x1= symbols('x1')\n",
    "        x2 = symbols('x2')\n",
    "        self.variables = [x1,x2]\n",
    "        if inequality_rest:\n",
    "            self.equation = log((2-x1))\n",
    "        else:\n",
    "            self.equation = (2-x1)**power"
   ]
  },
  {
   "cell_type": "markdown",
   "metadata": {},
   "source": [
    "# Trazenje unutarnje tocke"
   ]
  },
  {
   "cell_type": "code",
   "execution_count": 240,
   "metadata": {
    "collapsed": false
   },
   "outputs": [],
   "source": [
    "class Inner_Point_Search():\n",
    "    def __init__(self, nejednadzbe,t=None):\n",
    "        self.nejed = nejednadzbe\n",
    "        if t:\n",
    "            self.t = t\n",
    "        else:\n",
    "            self.t = 1\n",
    "    \n",
    "    def evaluate(self,x):\n",
    "        total_val = 0\n",
    "        for nejed in self.nejed:\n",
    "            value = nejed.evaluate(x)\n",
    "            if value < 0:\n",
    "                total_val -= value * self.t\n",
    "        return total_val\n",
    "    \n",
    "    def get_inner_point(self,dimensions,iters=30):\n",
    "        point = np.random.randint(-10,10,size=dimensions)\n",
    "        for i in range(iters):\n",
    "            point = nelder_mead(self, point)\n",
    "            if evaluate(point) == 0:\n",
    "                return point\n",
    "            self.t *=2\n",
    "        return point\n",
    "    \n",
    "# nejed = [F2()]\n",
    "# inner = Inner_Point_Search(nejed,5)\n",
    "# print inner.get_inner_point(2)"
   ]
  },
  {
   "cell_type": "markdown",
   "metadata": {
    "collapsed": true
   },
   "source": [
    "# Gradijentni spust"
   ]
  },
  {
   "cell_type": "code",
   "execution_count": 241,
   "metadata": {
    "collapsed": false
   },
   "outputs": [
    {
     "name": "stdout",
     "output_type": "stream",
     "text": [
      "Euclidean norm 3.3326e-07 less than od 1e-06 stopping search\n"
     ]
    },
    {
     "data": {
      "text/plain": [
       "array([ 4.00000009,  2.00000004])"
      ]
     },
     "execution_count": 241,
     "metadata": {},
     "output_type": "execute_result"
    }
   ],
   "source": [
    "def grad_descent(fun, starting_point, epsilon = 1e-6, use_golden_section=True, patience = 50, verbose = False):\n",
    "    norma = np.linalg.norm(fun.gradient(starting_point))\n",
    "    current_point = np.array(starting_point).copy()\n",
    "    if norma < epsilon:\n",
    "        print \"Euclidean norm %s less than od %s stopping search\" % (norma, epsilon)\n",
    "        return current_point\n",
    "    \n",
    "    best_sol, best_sol_value = current_point.copy(), fun.evaluate(current_point)\n",
    "    current_patience = 0\n",
    "    while True:\n",
    "        gradient = fun.gradient(current_point)\n",
    "        norma = np.linalg.norm(gradient)\n",
    "        if verbose:\n",
    "            print \"Current best point %s with value %s\" % (best_sol,best_sol_value)\n",
    "        if norma < epsilon:\n",
    "            print \"Euclidean norm %s less than od %s stopping search\" % (norma, epsilon)\n",
    "            return current_point\n",
    "        \n",
    "        \n",
    "        if use_golden_section:\n",
    "            gradient_normed = gradient/np.linalg.norm(gradient)\n",
    "            \n",
    "            def function_1D_wrapper(function, array,grads):\n",
    "                cpy = array.copy()\n",
    "                class Decorator:\n",
    "                    def __init__(self,cpy,grads,function):\n",
    "                        self.grads = grads\n",
    "                        self.cpy = cpy\n",
    "                        self.function = function\n",
    "\n",
    "                    def evaluate(self,x):\n",
    "                        val = self.cpy - x * self.grads\n",
    "                        return self.function.evaluate(val)\n",
    "                return Decorator(cpy,grads,function)\n",
    "            \n",
    "            optimal_lambda = golden_section_search(function_1D_wrapper(fun,current_point,gradient_normed),1,eps=1e-6)\n",
    "            current_point -= optimal_lambda*gradient_normed\n",
    "        else:\n",
    "            current_point-= gradient\n",
    "            \n",
    "        if np.isnan(current_point).any() or (current_point==np.inf).any():\n",
    "            print \"Divergence detected, stopping search with best found solution %s\" %(best_sol)\n",
    "            return best_sol\n",
    "        \n",
    "        if best_sol_value < fun.evaluate(current_point):\n",
    "            current_patience +=1\n",
    "            if(current_patience > patience):\n",
    "                print \"No improvement, stopping search with best found solution %s\" %(best_sol)\n",
    "                return best_sol\n",
    "        else:\n",
    "            current_patience = 0\n",
    "            best_sol, best_sol_value = current_point.copy(), fun.evaluate(current_point)\n",
    "    \n",
    "            \n",
    "grad_descent(F2(),[3.,3.])"
   ]
  },
  {
   "cell_type": "markdown",
   "metadata": {},
   "source": [
    "# Newton Rhapson"
   ]
  },
  {
   "cell_type": "code",
   "execution_count": 242,
   "metadata": {
    "collapsed": false
   },
   "outputs": [
    {
     "name": "stdout",
     "output_type": "stream",
     "text": [
      "Euclidean norm 0.0 less than od 1e-06 stopping search\n"
     ]
    },
    {
     "data": {
      "text/plain": [
       "array([ 4.,  2.], dtype=float32)"
      ]
     },
     "execution_count": 242,
     "metadata": {},
     "output_type": "execute_result"
    }
   ],
   "source": [
    "def newton_rhapson(fun, starting_point, epsilon = 1e-6, use_golden_section=True, patience = 50, verbose = False):\n",
    "    norma = np.linalg.norm(fun.gradient(starting_point))\n",
    "    current_point = np.array(starting_point, dtype=np.float32).copy()\n",
    "    if norma < epsilon:\n",
    "        print \"Euclidean norm %s less than od %s stopping search\" % (norma, epsilon)\n",
    "        return current_point\n",
    "    \n",
    "    best_sol, best_sol_value = current_point.copy(), fun.evaluate(current_point)\n",
    "    current_patience = 0\n",
    "    while True:\n",
    "        gradient = fun.gradient(current_point).dot(fun.hessean(current_point))\n",
    "        norma = np.linalg.norm(gradient)\n",
    "        if verbose:\n",
    "            print \"Current best point %s with value %s\" % (best_sol,best_sol_value)\n",
    "        if norma < epsilon:\n",
    "            print \"Euclidean norm %s less than od %s stopping search\" % (norma, epsilon)\n",
    "            return current_point\n",
    "        \n",
    "        \n",
    "        if use_golden_section:\n",
    "            gradient_normed = gradient/np.linalg.norm(gradient)\n",
    "            \n",
    "            def function_1D_wrapper(function, array,grads):\n",
    "                cpy = array.copy()\n",
    "                class Decorator:\n",
    "                    def __init__(self,cpy,grads,function):\n",
    "                        self.grads = grads\n",
    "                        self.cpy = cpy\n",
    "                        self.function = function\n",
    "\n",
    "                    def evaluate(self,x):\n",
    "                        val = self.cpy - x * self.grads\n",
    "                        return self.function.evaluate(val)\n",
    "                return Decorator(cpy,grads,function)\n",
    "            \n",
    "            optimal_lambda = golden_section_search(function_1D_wrapper(fun,current_point,gradient_normed),1,eps=1e-6)\n",
    "            current_point -= optimal_lambda*gradient_normed\n",
    "        else:\n",
    "            current_point-= gradient\n",
    "            \n",
    "        if np.isnan(current_point).any() or (current_point==np.inf).any():\n",
    "            print \"Divergence detected, stopping search with best found solution %s\" %(best_sol)\n",
    "            return best_sol\n",
    "        \n",
    "        if best_sol_value < fun.evaluate(current_point):\n",
    "            current_patience +=1\n",
    "            if(current_patience > patience):\n",
    "                print \"No improvement, stopping search with best found solution %s\" %(best_sol)\n",
    "                return best_sol\n",
    "        else:\n",
    "            current_patience = 0\n",
    "            best_sol, best_sol_value = current_point.copy(), fun.evaluate(current_point)\n",
    "    \n",
    "            \n",
    "newton_rhapson(F2(),[3.,3.])"
   ]
  },
  {
   "cell_type": "markdown",
   "metadata": {},
   "source": [
    "# Box"
   ]
  },
  {
   "cell_type": "code",
   "execution_count": 271,
   "metadata": {
    "collapsed": false
   },
   "outputs": [
    {
     "name": "stdout",
     "output_type": "stream",
     "text": [
      "-x1 + x2\n",
      "-x1 + 2\n",
      "[ 1.  1.]\n",
      "1054\n"
     ]
    }
   ],
   "source": [
    "def check_explicit_valid(explicit_restrictions,current_point, per_variable_restriction):\n",
    "    if per_variable_restriction:\n",
    "        for i,point in enumerate(current_point):\n",
    "            if i < len(explicit_restrictions):\n",
    "                if not (explicit_restrictions[i][0] < point < explicit_restrictions[i][1]):\n",
    "                    return False\n",
    "    else:\n",
    "        for point in current_point:\n",
    "            if not (explicit_restrictions[0] < point < explicit_restrictions[1]):\n",
    "                return False\n",
    "    return True\n",
    "            \n",
    "def calculate_centroid(worst_point_index, points):\n",
    "    centroid = np.zeros(points[0].shape)\n",
    "    for i,point in enumerate(points):\n",
    "        if i != worst_point_index:\n",
    "            centroid += point\n",
    "    return centroid/(len(points)-1)\n",
    "\n",
    "def move_to_centroid(point,current_point):\n",
    "    new_point = 1./2 * (point + current_point)\n",
    "    return new_point\n",
    "\n",
    "def stopping_condition(centroid_score,scores, epsilon):\n",
    "    diff = np.sum(np.array(scores)-centroid_score)\n",
    "    return np.sqrt(diff/len(scores)) <= epsilon\n",
    "        \n",
    "def box_opt(fun, starting_point, explicit_restrictions, epsilon = 1e-6, alpha = 1.3, patience=50):\n",
    "    current_point = np.array(starting_point, dtype=np.float32).copy()\n",
    "    dimensions = current_point.shape[0]\n",
    "    per_variable_restriction = True\n",
    "    if(len(np.array(explicit_restrictions).shape) == 1):\n",
    "        per_variable_restriction = False\n",
    "    \n",
    "    if not (check_explicit_valid(explicit_restrictions, current_point, per_variable_restriction) \n",
    "                    or fun.check_inequality_constraints(current_point)):\n",
    "        raise Exception(\"Argument needs to be within the restricted area\")\n",
    "    \n",
    "    points = []\n",
    "    for i in range(0,2*dimensions+1):\n",
    "        if per_variable_restriction:\n",
    "            point = []\n",
    "            for dim in range(dimensions):\n",
    "                if dim < len(explicit_restrictions):\n",
    "                    point.append(np.random.uniform(explicit_restrictions[dim][0],explicit_restrictions[dim][1],1)[0])\n",
    "                else:\n",
    "                    point.append(np.random.uniform(-1000,1000))\n",
    "                    \n",
    "            point = np.array(point) \n",
    "            while fun.check_inequality_constraints(point) == False:\n",
    "                point = move_to_centroid(point,current_point)\n",
    "            points.append(point)\n",
    "            \n",
    "        else:\n",
    "            point = np.random.uniform(explicit_restrictions[0],explicit_restrictions[1],dimensions)\n",
    "            while fun.check_inequality_constraints(point) == False:\n",
    "                point = move_to_centroid(point,current_point)\n",
    "            points.append(point)\n",
    "    \n",
    "#     print '\\n'.join(map(str,points))\n",
    "#     print points[0].shape\n",
    "#     print '\\n'.join(map(str,map(fun.evaluate, points)))\n",
    "\n",
    "    scores = map(fun.evaluate, points)\n",
    "    current_patience = 0\n",
    "    best_sol, best_sol_value = current_point.copy(), fun.evaluate(current_point)\n",
    "    while True:\n",
    "        worst_point_index = np.argmax(scores)\n",
    "        centroid = calculate_centroid(worst_point_index, points)\n",
    "        centroid_score = fun.evaluate(centroid)\n",
    "        \n",
    "        if best_sol_value < centroid_score:\n",
    "            current_patience +=1\n",
    "            if(current_patience > patience):\n",
    "                print \"No improvement, stopping search with best found solution %s\" %(best_sol)\n",
    "                return centroid\n",
    "        else:\n",
    "            current_patience = 0\n",
    "            best_sol, best_sol_value = centroid, centroid_score\n",
    "        \n",
    "        reflection = (1+alpha) * centroid - alpha*points[worst_point_index]\n",
    "        for i in range(dimensions):\n",
    "            if per_variable_restriction and i < len(explicit_restrictions):\n",
    "                if reflection[i] < explicit_restrictions[i][0]:\n",
    "                              reflection[i] = explicit_restrictions[i][0]\n",
    "                elif reflection[i] > explicit_restrictions[i][1]:\n",
    "                              reflection[i] = explicit_restrictions[i][1]\n",
    "            else:\n",
    "                if reflection[i] < explicit_restrictions[0]:\n",
    "                              reflection[i] = explicit_restrictions[0]\n",
    "                elif reflection[i] > explicit_restrictions[1]:\n",
    "                              reflection[i] = explicit_restrictions[1]\n",
    "                        \n",
    "        while fun.check_inequality_constraints(reflection) == False:\n",
    "                reflection = move_to_centroid(reflection,centroid)\n",
    "                \n",
    "        points[worst_point_index] = reflection\n",
    "        scores[worst_point_index] = fun.evaluate(reflection)\n",
    "        if worst_point_index == np.argmax(scores):\n",
    "                reflection = move_to_centroid(reflection,centroid)\n",
    "                points[worst_point_index] = reflection\n",
    "                \n",
    "        if stopping_condition(centroid,points, epsilon):\n",
    "            return centroid\n",
    "        \n",
    "        \n",
    "test = BoxOptFunction(Rosenbrock(),[First_restriction(inequality_rest=False,power=1),Second_Restriction(inequality_rest=False,power=1)])\n",
    "print First_restriction(inequality_rest=False,power=1).equation\n",
    "print Second_Restriction(inequality_rest=False,power=1).equation\n",
    "print box_opt(test,[-1.9,2],[-100,100])\n",
    "print test.calls"
   ]
  },
  {
   "cell_type": "markdown",
   "metadata": {},
   "source": [
    "# Minimizacija problema bez ogranicenja"
   ]
  },
  {
   "cell_type": "code",
   "execution_count": 244,
   "metadata": {
    "collapsed": false
   },
   "outputs": [
    {
     "name": "stdout",
     "output_type": "stream",
     "text": [
      "[-6. -9.]\n",
      "[-6. -9.]\n"
     ]
    }
   ],
   "source": [
    "def min_no_restriction_func(fun,starting_point,epsilon=1e-6):\n",
    "    \n",
    "    current_point = np.array(starting_point,dtype=np.float32)\n",
    "    fun.set_t(1.)\n",
    "    while True:\n",
    "        new_point = nelder_mead(fun,current_point)\n",
    "        if (abs(new_point-current_point)<epsilon).all():\n",
    "            return new_point\n",
    "        current_point=new_point\n",
    "        fun.set_t(fun.t*2)\n",
    "\n",
    "inequality_constraints_inner_point = [First_restriction(inequality_rest=False),Second_Restriction(inequality_rest=False)]\n",
    "inner_point = Inner_Point_Search(inequality_constraints_inner_point,1)\n",
    "start_point = inner_point.get_inner_point(2)\n",
    "print start_point\n",
    "\n",
    "\n",
    "inequality_constraints = [First_restriction(),Second_Restriction()]\n",
    "test = MixedTransformationFunction(F2(),inequality_constraints)\n",
    "print min_no_restriction_func(test,start_point)"
   ]
  },
  {
   "cell_type": "code",
   "execution_count": null,
   "metadata": {
    "collapsed": true
   },
   "outputs": [],
   "source": []
  }
 ],
 "metadata": {
  "kernelspec": {
   "display_name": "Python 2",
   "language": "python",
   "name": "python2"
  },
  "language_info": {
   "codemirror_mode": {
    "name": "ipython",
    "version": 2
   },
   "file_extension": ".py",
   "mimetype": "text/x-python",
   "name": "python",
   "nbconvert_exporter": "python",
   "pygments_lexer": "ipython2",
   "version": "2.7.12"
  }
 },
 "nbformat": 4,
 "nbformat_minor": 1
}
