{
 "cells": [
  {
   "cell_type": "code",
   "execution_count": 1,
   "metadata": {
    "collapsed": true
   },
   "outputs": [],
   "source": [
    "import math\n",
    "from copy import deepcopy\n",
    "import numpy as np\n",
    "import types\n",
    "import pylab\n",
    "import matplotlib.pyplot as plt\n",
    "import plotly.plotly as py\n",
    "from plotly.graph_objs import Surface\n",
    "import plotly.tools as tls\n",
    "tls.set_credentials_file(username='Mungos', api_key='mcnflyescl')"
   ]
  },
  {
   "cell_type": "markdown",
   "metadata": {},
   "source": [
    "# Helper"
   ]
  },
  {
   "cell_type": "code",
   "execution_count": 2,
   "metadata": {
    "collapsed": true
   },
   "outputs": [],
   "source": [
    "def is_numeric(x):\n",
    "    NumberTypes = (types.IntType, types.LongType, types.FloatType)\n",
    "    return isinstance(x, NumberTypes)\n",
    "\n",
    "class Function:\n",
    "    def __init__(self, func=None):\n",
    "        if func:\n",
    "            self.calls = 0\n",
    "            self.function = func\n",
    "\n",
    "    def evaluate(self,X):\n",
    "        self.calls+=1\n",
    "        return self.function(X)"
   ]
  },
  {
   "cell_type": "markdown",
   "metadata": {},
   "source": [
    "# Funkcije"
   ]
  },
  {
   "cell_type": "code",
   "execution_count": null,
   "metadata": {
    "collapsed": true
   },
   "outputs": [],
   "source": [
    "#Rosenbrock\n",
    "def f1(x):\n",
    "    if len(x) != 2:\n",
    "        raise Exception(\"Argument needs to be a list with two elements\")\n",
    "    return 100*(x[1]-x[0]**2)**2 + (1-x[0])**2\n",
    "\n",
    "def f2(x):\n",
    "    if len(x) != 2:\n",
    "        raise Exception(\"Argument needs to be a list with two elements\")\n",
    "    return (x[0]-4.)**2 + 4.*(x[1]-2)**2\n",
    "\n",
    "def f3(x):\n",
    "    if len(x) != 2:\n",
    "        raise Exception(\"Argument needs to be a list with two elements\")\n",
    "    return (x[0]-2.)**2 + (x[1]+3)**2\n",
    "\n",
    "def f4(x):\n",
    "    if len(x) != 2:\n",
    "        raise Exception(\"Argument needs to be a list with two elements\")\n",
    "    return (x[0]-3.)**2 + (x[1])**2"
   ]
  }
 ],
 "metadata": {
  "kernelspec": {
   "display_name": "Python 2",
   "language": "python",
   "name": "python2"
  },
  "language_info": {
   "codemirror_mode": {
    "name": "ipython",
    "version": 2
   },
   "file_extension": ".py",
   "mimetype": "text/x-python",
   "name": "python",
   "nbconvert_exporter": "python",
   "pygments_lexer": "ipython2",
   "version": "2.7.12"
  }
 },
 "nbformat": 4,
 "nbformat_minor": 1
}
