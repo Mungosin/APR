{
 "cells": [
  {
   "cell_type": "code",
   "execution_count": 2,
   "metadata": {
    "collapsed": true
   },
   "outputs": [],
   "source": [
    "import numpy as np\n",
    "import matplotlib.pyplot as plt\n",
    "\n",
    "from Matrica import Matrica"
   ]
  },
  {
   "cell_type": "code",
   "execution_count": 3,
   "metadata": {
    "collapsed": false
   },
   "outputs": [
    {
     "name": "stdout",
     "output_type": "stream",
     "text": [
      "[[-0.6  0.8]\n",
      " [ 0.4 -0.2]]\n"
     ]
    }
   ],
   "source": [
    "mat = Matrica()\n",
    "mat.load_from_numpy(np.array([[1,4],[2,3]]))\n",
    "print mat.inverse()"
   ]
  },
  {
   "cell_type": "code",
   "execution_count": 4,
   "metadata": {
    "collapsed": false
   },
   "outputs": [],
   "source": [
    "def RungeKutta(A, B, x0, T, t_max, print_every=1):\n",
    "    x = x0.copy();\n",
    "\n",
    "    tt = T;\n",
    "    cc = 0;\n",
    "    \n",
    "    sol = []\n",
    "    timesteps = []\n",
    "    sol.append(x.copy())\n",
    "    timesteps.append(0)\n",
    "    while (tt < t_max):\n",
    "        m1 = np.dot(A,x) + B;\n",
    "        m2 = np.dot(A,(x + np.dot(T / 2., m1))) + B;\n",
    "        m3 = np.dot(A, (x + np.dot(T / 2., m2))) + B;\n",
    "        m4 = np.dot(A, (x + np.dot(T, m3))) + B;\n",
    "\n",
    "        x = x + np.dot(T / 6., (m1 + 2 * m2 + 2 * m3 + m4));\n",
    "\n",
    "        if (cc % print_every == 0):\n",
    "            print x;\n",
    "            print\n",
    "        \n",
    "        sol.append(x.copy())\n",
    "        timesteps.append(tt)\n",
    "        cc+=1;\n",
    "        tt += T;\n",
    "    return timesteps, sol\n",
    "        \n",
    "\n",
    "def Trapez(A, B, x0, T, t_max, print_every=1):\n",
    "    a_row = A.shape[0]\n",
    "    I = np.zeros((a_row,a_row))\n",
    "    x = x0.copy();\n",
    "    \n",
    "    for i in range(a_row):\n",
    "        I[i, i] = 1;\n",
    "\n",
    "    tt = T;\n",
    "    cc = 0;\n",
    "    \n",
    "    sol = []\n",
    "    timesteps = []\n",
    "    sol.append(x.copy())\n",
    "    timesteps.append(0)\n",
    "    while(tt < t_max):\n",
    "        temp1 = Matrica()\n",
    "        temp1.load_from_numpy(I - T / 2. * A)\n",
    "        inverz = temp1.inverse()\n",
    "        \n",
    "        m1 = np.dot(np.dot(inverz, (I + T / 2. * A)), x);\n",
    "        m2 = np.dot(np.dot(T, inverz), B);\n",
    "        x = m1 + m2;\n",
    "        \n",
    "        sol.append(x.copy())\n",
    "        timesteps.append(tt)\n",
    "        tt += T;\n",
    "\n",
    "        if(cc % print_every == 0):\n",
    "            print x;\n",
    "            print\n",
    "        \n",
    "        cc+=1;\n",
    "        \n",
    "    return timesteps, sol"
   ]
  },
  {
   "cell_type": "code",
   "execution_count": 9,
   "metadata": {
    "collapsed": true
   },
   "outputs": [],
   "source": [
    "def visualize(timesteps, variables):\n",
    "    vals = np.array(variables)\n",
    "    size, _, _ = vals.shape\n",
    "    x0 = vals[range(size),0,...]\n",
    "    x1 = vals[range(size),1,...]\n",
    "    plt.figure(figsize=(16,12))\n",
    "    plt.subplot(2,2,1)\n",
    "    plt.grid()\n",
    "    plt.plot(timesteps,x0)\n",
    "    plt.subplot(2,2,2)\n",
    "    plt.plot(timesteps,x1)\n",
    "    plt.grid()\n",
    "    plt.show()"
   ]
  },
  {
   "cell_type": "markdown",
   "metadata": {},
   "source": [
    "# 1. Zadatak"
   ]
  },
  {
   "cell_type": "code",
   "execution_count": 10,
   "metadata": {
    "collapsed": false
   },
   "outputs": [
    {
     "name": "stdout",
     "output_type": "stream",
     "text": [
      "[[ 0.79551122]\n",
      " [-2.08977556]]\n",
      "\n"
     ]
    },
    {
     "data": {
      "image/png": "[encoded data removed]",
      "text/plain": [
       "<matplotlib.figure.Figure at 0x112617950>"
      ]
     },
     "metadata": {},
     "output_type": "display_data"
    }
   ],
   "source": [
    "T = 0.1\n",
    "A = np.array([[0,1],[-1,0]])\n",
    "B= np.array([[0],[0]])\n",
    "x0 = np.array([[1],[-2]])\n",
    "timesteps, sols = Trapez(A,B,x0,T,4.2,print_every=100)\n",
    "visualize(timesteps, sols)"
   ]
  },
  {
   "cell_type": "markdown",
   "metadata": {},
   "source": [
    "# 2. Zadatak"
   ]
  },
  {
   "cell_type": "code",
   "execution_count": 66,
   "metadata": {
    "collapsed": false,
    "scrolled": false
   },
   "outputs": [
    {
     "name": "stdout",
     "output_type": "stream",
     "text": [
      "[[ 0.53846154]\n",
      " [-1.07692308]]\n",
      "\n"
     ]
    },
    {
     "data": {
      "image/png": "[encoded data removed]",
      "text/plain": [
       "<matplotlib.figure.Figure at 0x11436b290>"
      ]
     },
     "metadata": {},
     "output_type": "display_data"
    }
   ],
   "source": [
    "T = 0.3\n",
    "iters = 20\n",
    "A = np.array([[0,1],[-200,-102]])\n",
    "B= np.array([[0],[0]])\n",
    "x0 = np.array([[1],[-2]])\n",
    "timesteps, sols = Trapez(A,B,x0,T,T*iters,print_every=100)\n",
    "visualize(timesteps, sols)"
   ]
  },
  {
   "cell_type": "code",
   "execution_count": 71,
   "metadata": {
    "collapsed": false
   },
   "outputs": [
    {
     "name": "stdout",
     "output_type": "stream",
     "text": [
      "1.0*x**2 + 102.0*x + 200\n",
      "[-100.000000000000, -2.00000000000000]\n",
      "1.00000000000000\n",
      "1.0*x**2 + 1\n",
      "[-1.0*I, 1.0*I]\n",
      "0\n"
     ]
    }
   ],
   "source": [
    "from sympy import *\n",
    "\n",
    "def power(z):\n",
    "    return re(z)**2 + im(z)**2\n",
    "\n",
    "def uvjet_za_T(system_matrix):\n",
    "    x = sy.symbols('x')\n",
    "    n = system_matrix.shape[0]\n",
    "    val = x*np.identity(n) - system_matrix\n",
    "    val = sy.Matrix(val)\n",
    "    sol = sy.solve(val.det(),x)\n",
    "    index = 1\n",
    "    print val.det()\n",
    "    print sol\n",
    "    if len(sol)!=1:\n",
    "        return (-2.*re(sol[index]))/power(sol[index])\n",
    "    else:\n",
    "        return (-2.*re(sol))/power(sol)\n",
    "\n",
    "\n",
    "print uvjet_za_T(np.array([[0,1],[-200,-102]]))\n",
    "print uvjet_za_T(np.array([[0,1],[-1,0]]))"
   ]
  },
  {
   "cell_type": "code",
   "execution_count": null,
   "metadata": {
    "collapsed": true
   },
   "outputs": [],
   "source": []
  }
 ],
 "metadata": {
  "kernelspec": {
   "display_name": "Python 2",
   "language": "python",
   "name": "python2"
  },
  "language_info": {
   "codemirror_mode": {
    "name": "ipython",
    "version": 2
   },
   "file_extension": ".py",
   "mimetype": "text/x-python",
   "name": "python",
   "nbconvert_exporter": "python",
   "pygments_lexer": "ipython2",
   "version": "2.7.12"
  }
 },
 "nbformat": 4,
 "nbformat_minor": 1
}
