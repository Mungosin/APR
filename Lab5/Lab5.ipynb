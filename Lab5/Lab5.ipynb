{
 "cells": [
  {
   "cell_type": "code",
   "execution_count": 33,
   "metadata": {
    "collapsed": true
   },
   "outputs": [],
   "source": [
    "import numpy as np\n",
    "import matplotlib.pyplot as plt\n",
    "\n",
    "from Matrica import Matrica"
   ]
  },
  {
   "cell_type": "code",
   "execution_count": 2,
   "metadata": {
    "collapsed": false
   },
   "outputs": [
    {
     "name": "stdout",
     "output_type": "stream",
     "text": [
      "[[-0.6  0.8]\n",
      " [ 0.4 -0.2]]\n"
     ]
    }
   ],
   "source": [
    "mat = Matrica()\n",
    "mat.load_from_numpy(np.array([[1,4],[2,3]]))\n",
    "print mat.inverse()"
   ]
  },
  {
   "cell_type": "code",
   "execution_count": 49,
   "metadata": {
    "collapsed": false
   },
   "outputs": [],
   "source": [
    "def RungeKutta(A, B, x0, T, t_max, print_every=1):\n",
    "    x = x0.copy();\n",
    "\n",
    "    tt = T;\n",
    "    cc = 0;\n",
    "    \n",
    "    sol = []\n",
    "    timesteps = []\n",
    "    sol.append(x.copy())\n",
    "    timesteps.append(0)\n",
    "    while (tt < t_max):\n",
    "        m1 = np.dot(A,x) + B;\n",
    "        m2 = np.dot(A,(x + np.dot(T / 2., m1))) + B;\n",
    "        m3 = np.dot(A, (x + np.dot(T / 2., m2))) + B;\n",
    "        m4 = np.dot(A, (x + np.dot(T, m3))) + B;\n",
    "\n",
    "        x = x + np.dot(T / 6., (m1 + 2 * m2 + 2 * m3 + m4));\n",
    "\n",
    "        if (cc % print_every == 0):\n",
    "            print x;\n",
    "            print\n",
    "        \n",
    "        sol.append(x.copy())\n",
    "        timesteps.append(tt)\n",
    "        cc+=1;\n",
    "        tt += T;\n",
    "    return timesteps, sol\n",
    "        \n",
    "\n",
    "def Trapez(A, B, x0, T, t_max, print_every=1):\n",
    "    a_row = A.shape[0]\n",
    "    I = np.zeros((a_row,a_row))\n",
    "    x = x0.copy();\n",
    "    \n",
    "    for i in range(a_row):\n",
    "        I[i, i] = 1;\n",
    "\n",
    "    tt = T;\n",
    "    cc = 0;\n",
    "    \n",
    "    sol = []\n",
    "    timesteps = []\n",
    "    sol.append(x.copy())\n",
    "    timesteps.append(0)\n",
    "    while(tt < t_max):\n",
    "        temp1 = Matrica()\n",
    "        temp1.load_from_numpy(I - T / 2. * A)\n",
    "        inverz = temp1.inverse()\n",
    "        \n",
    "        m1 = np.dot(np.dot(inverz, (I + T / 2. * A)), x);\n",
    "        m2 = np.dot(np.dot(T, inverz), B);\n",
    "        x = m1 + m2;\n",
    "        \n",
    "        sol.append(x.copy())\n",
    "        timesteps.append(tt)\n",
    "        tt += T;\n",
    "\n",
    "        if(cc % print_every == 0):\n",
    "            print x;\n",
    "            print\n",
    "        \n",
    "        cc+=1;\n",
    "        \n",
    "    return timesteps, sol"
   ]
  },
  {
   "cell_type": "code",
   "execution_count": 50,
   "metadata": {
    "collapsed": true
   },
   "outputs": [],
   "source": [
    "def visualize(timesteps, variables):\n",
    "    vals = np.array(variables)\n",
    "    size, _, _ = vals.shape\n",
    "    x0 = vals[range(size),0,...]\n",
    "    x1 = vals[range(size),1,...]\n",
    "    plt.figure(figsize=(16,12))\n",
    "    plt.subplot(2,2,1)\n",
    "    plt.plot(timesteps,x0)\n",
    "    plt.subplot(2,2,2)\n",
    "    plt.plot(timesteps,x1)\n",
    "    plt.show()"
   ]
  },
  {
   "cell_type": "code",
   "execution_count": 52,
   "metadata": {
    "collapsed": false,
    "scrolled": false
   },
   "outputs": [
    {
     "name": "stdout",
     "output_type": "stream",
     "text": [
      "[[ 0.81818182]\n",
      " [-1.63636364]]\n",
      "\n"
     ]
    },
    {
     "data": {
      "image/png": "[encoded data removed]",
      "text/plain": [
       "<matplotlib.figure.Figure at 0x10822a610>"
      ]
     },
     "metadata": {},
     "output_type": "display_data"
    }
   ],
   "source": [
    "T = 0.1\n",
    "A = np.array([[0,1],[-200,-102]])\n",
    "B= np.array([[0],[0]])\n",
    "x0 = np.array([[1],[-2]])\n",
    "timesteps, sols = Trapez(A,B,x0,T,4.2,print_every=100)\n",
    "visualize(timesteps, sols)"
   ]
  },
  {
   "cell_type": "code",
   "execution_count": null,
   "metadata": {
    "collapsed": true
   },
   "outputs": [],
   "source": []
  }
 ],
 "metadata": {
  "kernelspec": {
   "display_name": "Python 2",
   "language": "python",
   "name": "python2"
  },
  "language_info": {
   "codemirror_mode": {
    "name": "ipython",
    "version": 2
   },
   "file_extension": ".py",
   "mimetype": "text/x-python",
   "name": "python",
   "nbconvert_exporter": "python",
   "pygments_lexer": "ipython2",
   "version": "2.7.12"
  }
 },
 "nbformat": 4,
 "nbformat_minor": 1
}
